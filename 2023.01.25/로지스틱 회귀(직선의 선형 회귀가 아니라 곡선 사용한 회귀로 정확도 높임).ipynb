{
  "nbformat": 4,
  "nbformat_minor": 0,
  "metadata": {
    "colab": {
      "provenance": [],
      "authorship_tag": "ABX9TyOEz7+zh7s6bmNysId6Bgwf",
      "include_colab_link": true
    },
    "kernelspec": {
      "name": "python3",
      "display_name": "Python 3"
    },
    "language_info": {
      "name": "python"
    }
  },
  "cells": [
    {
      "cell_type": "markdown",
      "metadata": {
        "id": "view-in-github",
        "colab_type": "text"
      },
      "source": [
        "<a href=\"https://colab.research.google.com/github/pmj-chosim/Commit-Project-2023.1.20-2023.2.28-/blob/main/2023.01.25/%EB%A1%9C%EC%A7%80%EC%8A%A4%ED%8B%B1%20%ED%9A%8C%EA%B7%80(%EC%A7%81%EC%84%A0%EC%9D%98%20%EC%84%A0%ED%98%95%20%ED%9A%8C%EA%B7%80%EA%B0%80%20%EC%95%84%EB%8B%88%EB%9D%BC%20%EA%B3%A1%EC%84%A0%20%EC%82%AC%EC%9A%A9%ED%95%9C%20%ED%9A%8C%EA%B7%80%EB%A1%9C%20%EC%A0%95%ED%99%95%EB%8F%84%20%EB%86%92%EC%9E%84).ipynb\" target=\"_parent\"><img src=\"https://colab.research.google.com/assets/colab-badge.svg\" alt=\"Open In Colab\"/></a>"
      ]
    },
    {
      "cell_type": "markdown",
      "source": [
        "이름은 회귀지만 분류모델인 로지스틱 회귀"
      ],
      "metadata": {
        "id": "nr9d1cP7gYtT"
      }
    },
    {
      "cell_type": "markdown",
      "source": [
        "**1. 데이터 준비**"
      ],
      "metadata": {
        "id": "yoVQiYdtgcFW"
      }
    },
    {
      "cell_type": "code",
      "execution_count": 1,
      "metadata": {
        "colab": {
          "base_uri": "https://localhost:8080/",
          "height": 206
        },
        "id": "JHKQqKElfIob",
        "outputId": "98e5d128-a13a-4779-d4e5-9052f91a4215"
      },
      "outputs": [
        {
          "output_type": "execute_result",
          "data": {
            "text/plain": [
              "  Species  Weight  Length  Diagonal   Height   Width\n",
              "0   Bream   242.0    25.4      30.0  11.5200  4.0200\n",
              "1   Bream   290.0    26.3      31.2  12.4800  4.3056\n",
              "2   Bream   340.0    26.5      31.1  12.3778  4.6961\n",
              "3   Bream   363.0    29.0      33.5  12.7300  4.4555\n",
              "4   Bream   430.0    29.0      34.0  12.4440  5.1340"
            ],
            "text/html": [
              "\n",
              "  <div id=\"df-881a6408-8872-4288-8912-25b4be44f296\">\n",
              "    <div class=\"colab-df-container\">\n",
              "      <div>\n",
              "<style scoped>\n",
              "    .dataframe tbody tr th:only-of-type {\n",
              "        vertical-align: middle;\n",
              "    }\n",
              "\n",
              "    .dataframe tbody tr th {\n",
              "        vertical-align: top;\n",
              "    }\n",
              "\n",
              "    .dataframe thead th {\n",
              "        text-align: right;\n",
              "    }\n",
              "</style>\n",
              "<table border=\"1\" class=\"dataframe\">\n",
              "  <thead>\n",
              "    <tr style=\"text-align: right;\">\n",
              "      <th></th>\n",
              "      <th>Species</th>\n",
              "      <th>Weight</th>\n",
              "      <th>Length</th>\n",
              "      <th>Diagonal</th>\n",
              "      <th>Height</th>\n",
              "      <th>Width</th>\n",
              "    </tr>\n",
              "  </thead>\n",
              "  <tbody>\n",
              "    <tr>\n",
              "      <th>0</th>\n",
              "      <td>Bream</td>\n",
              "      <td>242.0</td>\n",
              "      <td>25.4</td>\n",
              "      <td>30.0</td>\n",
              "      <td>11.5200</td>\n",
              "      <td>4.0200</td>\n",
              "    </tr>\n",
              "    <tr>\n",
              "      <th>1</th>\n",
              "      <td>Bream</td>\n",
              "      <td>290.0</td>\n",
              "      <td>26.3</td>\n",
              "      <td>31.2</td>\n",
              "      <td>12.4800</td>\n",
              "      <td>4.3056</td>\n",
              "    </tr>\n",
              "    <tr>\n",
              "      <th>2</th>\n",
              "      <td>Bream</td>\n",
              "      <td>340.0</td>\n",
              "      <td>26.5</td>\n",
              "      <td>31.1</td>\n",
              "      <td>12.3778</td>\n",
              "      <td>4.6961</td>\n",
              "    </tr>\n",
              "    <tr>\n",
              "      <th>3</th>\n",
              "      <td>Bream</td>\n",
              "      <td>363.0</td>\n",
              "      <td>29.0</td>\n",
              "      <td>33.5</td>\n",
              "      <td>12.7300</td>\n",
              "      <td>4.4555</td>\n",
              "    </tr>\n",
              "    <tr>\n",
              "      <th>4</th>\n",
              "      <td>Bream</td>\n",
              "      <td>430.0</td>\n",
              "      <td>29.0</td>\n",
              "      <td>34.0</td>\n",
              "      <td>12.4440</td>\n",
              "      <td>5.1340</td>\n",
              "    </tr>\n",
              "  </tbody>\n",
              "</table>\n",
              "</div>\n",
              "      <button class=\"colab-df-convert\" onclick=\"convertToInteractive('df-881a6408-8872-4288-8912-25b4be44f296')\"\n",
              "              title=\"Convert this dataframe to an interactive table.\"\n",
              "              style=\"display:none;\">\n",
              "        \n",
              "  <svg xmlns=\"http://www.w3.org/2000/svg\" height=\"24px\"viewBox=\"0 0 24 24\"\n",
              "       width=\"24px\">\n",
              "    <path d=\"M0 0h24v24H0V0z\" fill=\"none\"/>\n",
              "    <path d=\"M18.56 5.44l.94 2.06.94-2.06 2.06-.94-2.06-.94-.94-2.06-.94 2.06-2.06.94zm-11 1L8.5 8.5l.94-2.06 2.06-.94-2.06-.94L8.5 2.5l-.94 2.06-2.06.94zm10 10l.94 2.06.94-2.06 2.06-.94-2.06-.94-.94-2.06-.94 2.06-2.06.94z\"/><path d=\"M17.41 7.96l-1.37-1.37c-.4-.4-.92-.59-1.43-.59-.52 0-1.04.2-1.43.59L10.3 9.45l-7.72 7.72c-.78.78-.78 2.05 0 2.83L4 21.41c.39.39.9.59 1.41.59.51 0 1.02-.2 1.41-.59l7.78-7.78 2.81-2.81c.8-.78.8-2.07 0-2.86zM5.41 20L4 18.59l7.72-7.72 1.47 1.35L5.41 20z\"/>\n",
              "  </svg>\n",
              "      </button>\n",
              "      \n",
              "  <style>\n",
              "    .colab-df-container {\n",
              "      display:flex;\n",
              "      flex-wrap:wrap;\n",
              "      gap: 12px;\n",
              "    }\n",
              "\n",
              "    .colab-df-convert {\n",
              "      background-color: #E8F0FE;\n",
              "      border: none;\n",
              "      border-radius: 50%;\n",
              "      cursor: pointer;\n",
              "      display: none;\n",
              "      fill: #1967D2;\n",
              "      height: 32px;\n",
              "      padding: 0 0 0 0;\n",
              "      width: 32px;\n",
              "    }\n",
              "\n",
              "    .colab-df-convert:hover {\n",
              "      background-color: #E2EBFA;\n",
              "      box-shadow: 0px 1px 2px rgba(60, 64, 67, 0.3), 0px 1px 3px 1px rgba(60, 64, 67, 0.15);\n",
              "      fill: #174EA6;\n",
              "    }\n",
              "\n",
              "    [theme=dark] .colab-df-convert {\n",
              "      background-color: #3B4455;\n",
              "      fill: #D2E3FC;\n",
              "    }\n",
              "\n",
              "    [theme=dark] .colab-df-convert:hover {\n",
              "      background-color: #434B5C;\n",
              "      box-shadow: 0px 1px 3px 1px rgba(0, 0, 0, 0.15);\n",
              "      filter: drop-shadow(0px 1px 2px rgba(0, 0, 0, 0.3));\n",
              "      fill: #FFFFFF;\n",
              "    }\n",
              "  </style>\n",
              "\n",
              "      <script>\n",
              "        const buttonEl =\n",
              "          document.querySelector('#df-881a6408-8872-4288-8912-25b4be44f296 button.colab-df-convert');\n",
              "        buttonEl.style.display =\n",
              "          google.colab.kernel.accessAllowed ? 'block' : 'none';\n",
              "\n",
              "        async function convertToInteractive(key) {\n",
              "          const element = document.querySelector('#df-881a6408-8872-4288-8912-25b4be44f296');\n",
              "          const dataTable =\n",
              "            await google.colab.kernel.invokeFunction('convertToInteractive',\n",
              "                                                     [key], {});\n",
              "          if (!dataTable) return;\n",
              "\n",
              "          const docLinkHtml = 'Like what you see? Visit the ' +\n",
              "            '<a target=\"_blank\" href=https://colab.research.google.com/notebooks/data_table.ipynb>data table notebook</a>'\n",
              "            + ' to learn more about interactive tables.';\n",
              "          element.innerHTML = '';\n",
              "          dataTable['output_type'] = 'display_data';\n",
              "          await google.colab.output.renderOutput(dataTable, element);\n",
              "          const docLink = document.createElement('div');\n",
              "          docLink.innerHTML = docLinkHtml;\n",
              "          element.appendChild(docLink);\n",
              "        }\n",
              "      </script>\n",
              "    </div>\n",
              "  </div>\n",
              "  "
            ]
          },
          "metadata": {},
          "execution_count": 1
        }
      ],
      "source": [
        "import pandas as pd\n",
        "\n",
        "fish = pd.read_csv('https://bit.ly/fish_csv')\n",
        "fish.head()"
      ]
    },
    {
      "cell_type": "code",
      "source": [
        "print(pd.unique(fish['Species']))"
      ],
      "metadata": {
        "colab": {
          "base_uri": "https://localhost:8080/"
        },
        "id": "VgQ5KbfEge7s",
        "outputId": "baa98cdf-7f31-45b3-f623-9d8fbd405a59"
      },
      "execution_count": 2,
      "outputs": [
        {
          "output_type": "stream",
          "name": "stdout",
          "text": [
            "['Bream' 'Roach' 'Whitefish' 'Parkki' 'Perch' 'Pike' 'Smelt']\n"
          ]
        }
      ]
    },
    {
      "cell_type": "code",
      "source": [
        "print(pd.unique(fish['Species']))"
      ],
      "metadata": {
        "colab": {
          "base_uri": "https://localhost:8080/"
        },
        "id": "oR8N-Q__gisL",
        "outputId": "b31ccf86-d75e-4116-c74c-90ac9226da5e"
      },
      "execution_count": 3,
      "outputs": [
        {
          "output_type": "stream",
          "name": "stdout",
          "text": [
            "['Bream' 'Roach' 'Whitefish' 'Parkki' 'Perch' 'Pike' 'Smelt']\n"
          ]
        }
      ]
    },
    {
      "cell_type": "code",
      "source": [
        "fish_input = fish[['Weight','Length','Diagonal','Height','Width']].to_numpy()"
      ],
      "metadata": {
        "id": "81CtkcwFgiua"
      },
      "execution_count": 4,
      "outputs": []
    },
    {
      "cell_type": "code",
      "source": [
        "print(fish_input[:5])"
      ],
      "metadata": {
        "colab": {
          "base_uri": "https://localhost:8080/"
        },
        "id": "7Gyhtw2ege-L",
        "outputId": "fe355c67-7d2b-4d80-ef8e-641ffbce7e4c"
      },
      "execution_count": 5,
      "outputs": [
        {
          "output_type": "stream",
          "name": "stdout",
          "text": [
            "[[242.      25.4     30.      11.52     4.02  ]\n",
            " [290.      26.3     31.2     12.48     4.3056]\n",
            " [340.      26.5     31.1     12.3778   4.6961]\n",
            " [363.      29.      33.5     12.73     4.4555]\n",
            " [430.      29.      34.      12.444    5.134 ]]\n"
          ]
        }
      ]
    },
    {
      "cell_type": "code",
      "source": [
        "fish_target = fish['Species'].to_numpy()"
      ],
      "metadata": {
        "id": "PuJ-hcB9gmKI"
      },
      "execution_count": 6,
      "outputs": []
    },
    {
      "cell_type": "code",
      "source": [
        "from sklearn.model_selection import train_test_split\n",
        "\n",
        "train_input, test_input, train_target, test_target = train_test_split(\n",
        "    fish_input, fish_target, random_state=42)"
      ],
      "metadata": {
        "id": "ZWuxi0cagmMP"
      },
      "execution_count": 7,
      "outputs": []
    },
    {
      "cell_type": "code",
      "source": [
        "from sklearn.preprocessing import StandardScaler\n",
        "\n",
        "ss = StandardScaler()\n",
        "ss.fit(train_input)\n",
        "train_scaled = ss.transform(train_input)\n",
        "test_scaled = ss.transform(test_input)"
      ],
      "metadata": {
        "id": "Cz_5by9ogpnj"
      },
      "execution_count": 8,
      "outputs": []
    },
    {
      "cell_type": "markdown",
      "source": [
        "**2. knn으로 확률 예측**"
      ],
      "metadata": {
        "id": "FlJ7gEFPgs6B"
      }
    },
    {
      "cell_type": "code",
      "source": [
        "from sklearn.neighbors import KNeighborsClassifier\n",
        "\n",
        "kn = KNeighborsClassifier(n_neighbors=3)\n",
        "kn.fit(train_scaled, train_target)\n",
        "\n",
        "print(kn.score(train_scaled, train_target))\n",
        "print(kn.score(test_scaled, test_target))"
      ],
      "metadata": {
        "colab": {
          "base_uri": "https://localhost:8080/"
        },
        "id": "KmewsSvxgfAY",
        "outputId": "c858be54-3de5-459e-f7f6-1451197eec9a"
      },
      "execution_count": 9,
      "outputs": [
        {
          "output_type": "stream",
          "name": "stdout",
          "text": [
            "0.8907563025210085\n",
            "0.85\n"
          ]
        }
      ]
    },
    {
      "cell_type": "code",
      "source": [
        "print(kn.classes_)"
      ],
      "metadata": {
        "colab": {
          "base_uri": "https://localhost:8080/"
        },
        "id": "ImblNipOgxLi",
        "outputId": "f12253bf-ca9f-4a5d-e5f2-d9a9277124aa"
      },
      "execution_count": 10,
      "outputs": [
        {
          "output_type": "stream",
          "name": "stdout",
          "text": [
            "['Bream' 'Parkki' 'Perch' 'Pike' 'Roach' 'Smelt' 'Whitefish']\n"
          ]
        }
      ]
    },
    {
      "cell_type": "code",
      "source": [
        "print(kn.predict(test_scaled[:5]))"
      ],
      "metadata": {
        "colab": {
          "base_uri": "https://localhost:8080/"
        },
        "id": "GAjj0p4ng2C0",
        "outputId": "e37b684c-29f2-4f10-97ed-147184cabe29"
      },
      "execution_count": 11,
      "outputs": [
        {
          "output_type": "stream",
          "name": "stdout",
          "text": [
            "['Perch' 'Smelt' 'Pike' 'Perch' 'Perch']\n"
          ]
        }
      ]
    },
    {
      "cell_type": "code",
      "source": [
        "import numpy as np\n",
        "\n",
        "proba = kn.predict_proba(test_scaled[:5])\n",
        "print(np.round(proba, decimals=4))"
      ],
      "metadata": {
        "colab": {
          "base_uri": "https://localhost:8080/"
        },
        "id": "qCQjqwd1g2Eu",
        "outputId": "81212574-53a5-450a-8298-b642313df4fa"
      },
      "execution_count": 12,
      "outputs": [
        {
          "output_type": "stream",
          "name": "stdout",
          "text": [
            "[[0.     0.     1.     0.     0.     0.     0.    ]\n",
            " [0.     0.     0.     0.     0.     1.     0.    ]\n",
            " [0.     0.     0.     1.     0.     0.     0.    ]\n",
            " [0.     0.     0.6667 0.     0.3333 0.     0.    ]\n",
            " [0.     0.     0.6667 0.     0.3333 0.     0.    ]]\n"
          ]
        }
      ]
    },
    {
      "cell_type": "code",
      "source": [
        "distances, indexes = kn.kneighbors(test_scaled[0:5])\n",
        "print(train_target[indexes])"
      ],
      "metadata": {
        "colab": {
          "base_uri": "https://localhost:8080/"
        },
        "id": "A0oHJwPIg4Uo",
        "outputId": "aca25ad0-8fdc-4ab6-fc40-e57d6cbe85ee"
      },
      "execution_count": 18,
      "outputs": [
        {
          "output_type": "stream",
          "name": "stdout",
          "text": [
            "[['Perch' 'Perch' 'Perch']\n",
            " ['Smelt' 'Smelt' 'Smelt']\n",
            " ['Pike' 'Pike' 'Pike']\n",
            " ['Roach' 'Perch' 'Perch']\n",
            " ['Perch' 'Perch' 'Roach']]\n"
          ]
        }
      ]
    },
    {
      "cell_type": "markdown",
      "source": [
        "**2. 로지스틱 회귀-이진 분류**"
      ],
      "metadata": {
        "id": "8vsVfe0GhgtD"
      }
    },
    {
      "cell_type": "code",
      "source": [
        "import numpy as np\n",
        "import matplotlib.pyplot as plt\n",
        "\n",
        "z = np.arange(-5, 5, 0.1)\n",
        "phi = 1 / (1 + np.exp(-z))\n",
        "\n",
        "plt.plot(z, phi)\n",
        "plt.show()"
      ],
      "metadata": {
        "colab": {
          "base_uri": "https://localhost:8080/",
          "height": 265
        },
        "id": "QRdQCRgshkHW",
        "outputId": "4151823f-a570-4441-e328-20d09d156163"
      },
      "execution_count": 19,
      "outputs": [
        {
          "output_type": "display_data",
          "data": {
            "text/plain": [
              "<Figure size 432x288 with 1 Axes>"
            ],
            "image/png": "[encoded data removed]"
          },
          "metadata": {
            "needs_background": "light"
          }
        }
      ]
    },
    {
      "cell_type": "code",
      "source": [
        "char_arr = np.array(['A', 'B', 'C', 'D', 'E'])\n",
        "print(char_arr[[True, False, True, False, False]])"
      ],
      "metadata": {
        "colab": {
          "base_uri": "https://localhost:8080/"
        },
        "id": "vvrjXfEshl08",
        "outputId": "6e32da02-1af1-41dc-9e7d-ffcc696f40f3"
      },
      "execution_count": 20,
      "outputs": [
        {
          "output_type": "stream",
          "name": "stdout",
          "text": [
            "['A' 'C']\n"
          ]
        }
      ]
    },
    {
      "cell_type": "code",
      "source": [
        "bream_smelt_indexes = (train_target == 'Bream') | (train_target == 'Smelt')\n",
        "train_bream_smelt = train_scaled[bream_smelt_indexes]\n",
        "target_bream_smelt = train_target[bream_smelt_indexes]"
      ],
      "metadata": {
        "id": "1dmgpAOJhkJV"
      },
      "execution_count": 21,
      "outputs": []
    },
    {
      "cell_type": "code",
      "source": [
        "from sklearn.linear_model import LogisticRegression\n",
        "\n",
        "lr = LogisticRegression()\n",
        "lr.fit(train_bream_smelt, target_bream_smelt)"
      ],
      "metadata": {
        "colab": {
          "base_uri": "https://localhost:8080/"
        },
        "id": "Qb8n_p0LgxNS",
        "outputId": "4fdc5abd-f76a-4aac-877a-f4c160007ede"
      },
      "execution_count": 22,
      "outputs": [
        {
          "output_type": "execute_result",
          "data": {
            "text/plain": [
              "LogisticRegression()"
            ]
          },
          "metadata": {},
          "execution_count": 22
        }
      ]
    },
    {
      "cell_type": "code",
      "source": [
        "print(lr.predict(train_bream_smelt[:5]))"
      ],
      "metadata": {
        "colab": {
          "base_uri": "https://localhost:8080/"
        },
        "id": "gCG6LtkUhpLB",
        "outputId": "7bccf2a2-2d78-46b4-eaa6-f622f1a481c6"
      },
      "execution_count": 23,
      "outputs": [
        {
          "output_type": "stream",
          "name": "stdout",
          "text": [
            "['Bream' 'Smelt' 'Bream' 'Bream' 'Bream']\n"
          ]
        }
      ]
    },
    {
      "cell_type": "code",
      "source": [
        "print(lr.predict_proba(train_bream_smelt[:5]))"
      ],
      "metadata": {
        "colab": {
          "base_uri": "https://localhost:8080/"
        },
        "id": "QIVErysPhpRQ",
        "outputId": "ef553746-b24d-4c25-ea49-7c9988c65b8a"
      },
      "execution_count": 24,
      "outputs": [
        {
          "output_type": "stream",
          "name": "stdout",
          "text": [
            "[[0.99759855 0.00240145]\n",
            " [0.02735183 0.97264817]\n",
            " [0.99486072 0.00513928]\n",
            " [0.98584202 0.01415798]\n",
            " [0.99767269 0.00232731]]\n"
          ]
        }
      ]
    },
    {
      "cell_type": "code",
      "source": [
        "print(lr.classes_)"
      ],
      "metadata": {
        "colab": {
          "base_uri": "https://localhost:8080/"
        },
        "id": "piCfOW36htm3",
        "outputId": "c012a34b-d238-4e21-edf0-8d7967e35812"
      },
      "execution_count": 25,
      "outputs": [
        {
          "output_type": "stream",
          "name": "stdout",
          "text": [
            "['Bream' 'Smelt']\n"
          ]
        }
      ]
    },
    {
      "cell_type": "code",
      "source": [
        "print(lr.coef_, lr.intercept_)"
      ],
      "metadata": {
        "colab": {
          "base_uri": "https://localhost:8080/"
        },
        "id": "-9roIhLThv0c",
        "outputId": "4a2d7919-d363-4134-e139-71f018e29b5c"
      },
      "execution_count": 26,
      "outputs": [
        {
          "output_type": "stream",
          "name": "stdout",
          "text": [
            "[[-0.4037798  -0.57620209 -0.66280298 -1.01290277 -0.73168947]] [-2.16155132]\n"
          ]
        }
      ]
    },
    {
      "cell_type": "markdown",
      "source": [
        "선형 회귀 기울기와 절편임"
      ],
      "metadata": {
        "id": "qTtOQcLjh65G"
      }
    },
    {
      "cell_type": "code",
      "source": [
        "decisions = lr.decision_function(train_bream_smelt[:5])\n",
        "print(decisions)"
      ],
      "metadata": {
        "colab": {
          "base_uri": "https://localhost:8080/"
        },
        "id": "U1pC83v9hv8Y",
        "outputId": "812a3cfb-28e9-4ddf-aff6-6c19fa74a3c3"
      },
      "execution_count": 27,
      "outputs": [
        {
          "output_type": "stream",
          "name": "stdout",
          "text": [
            "[-6.02927744  3.57123907 -5.26568906 -4.24321775 -6.0607117 ]\n"
          ]
        }
      ]
    },
    {
      "cell_type": "code",
      "source": [
        "from scipy.special import expit\n",
        "\n",
        "print(expit(decisions))"
      ],
      "metadata": {
        "colab": {
          "base_uri": "https://localhost:8080/"
        },
        "id": "AINTItkDiBA_",
        "outputId": "640ff6ec-0a16-46ae-b0e0-01abd03639b2"
      },
      "execution_count": 28,
      "outputs": [
        {
          "output_type": "stream",
          "name": "stdout",
          "text": [
            "[0.00240145 0.97264817 0.00513928 0.01415798 0.00232731]\n"
          ]
        }
      ]
    },
    {
      "cell_type": "markdown",
      "source": [
        "**3.로지스틱 회귀-다중 분류**"
      ],
      "metadata": {
        "id": "bc93OU17h9xI"
      }
    },
    {
      "cell_type": "code",
      "source": [
        "lr = LogisticRegression(C=20, max_iter=1000)\n",
        "lr.fit(train_scaled, train_target)\n",
        "\n",
        "print(lr.score(train_scaled, train_target))\n",
        "print(lr.score(test_scaled, test_target))"
      ],
      "metadata": {
        "colab": {
          "base_uri": "https://localhost:8080/"
        },
        "id": "rfwGO55-iHTh",
        "outputId": "7a22045e-98f0-4d02-a099-3ef0a47b4bfa"
      },
      "execution_count": 29,
      "outputs": [
        {
          "output_type": "stream",
          "name": "stdout",
          "text": [
            "0.9327731092436975\n",
            "0.925\n"
          ]
        }
      ]
    },
    {
      "cell_type": "code",
      "source": [
        "print(lr.predict(test_scaled[:5]))"
      ],
      "metadata": {
        "colab": {
          "base_uri": "https://localhost:8080/"
        },
        "id": "oxYj-LsPiHVu",
        "outputId": "75779830-0610-43ae-c30f-dbbb8ce09b56"
      },
      "execution_count": 30,
      "outputs": [
        {
          "output_type": "stream",
          "name": "stdout",
          "text": [
            "['Perch' 'Smelt' 'Pike' 'Roach' 'Perch']\n"
          ]
        }
      ]
    },
    {
      "cell_type": "code",
      "source": [
        "proba = lr.predict_proba(test_scaled[:5])\n",
        "print(np.round(proba, decimals=3))"
      ],
      "metadata": {
        "colab": {
          "base_uri": "https://localhost:8080/"
        },
        "id": "WtjIzP1PiHw0",
        "outputId": "5c78fc6d-defb-47fb-9a84-26e2c3671fdb"
      },
      "execution_count": 31,
      "outputs": [
        {
          "output_type": "stream",
          "name": "stdout",
          "text": [
            "[[0.    0.014 0.841 0.    0.136 0.007 0.003]\n",
            " [0.    0.003 0.044 0.    0.007 0.946 0.   ]\n",
            " [0.    0.    0.034 0.935 0.015 0.016 0.   ]\n",
            " [0.011 0.034 0.306 0.007 0.567 0.    0.076]\n",
            " [0.    0.    0.904 0.002 0.089 0.002 0.001]]\n"
          ]
        }
      ]
    },
    {
      "cell_type": "code",
      "source": [
        "print(lr.classes_)"
      ],
      "metadata": {
        "colab": {
          "base_uri": "https://localhost:8080/"
        },
        "id": "MXa4k-zviHy1",
        "outputId": "d573631f-b418-4485-bafa-07166476f4dc"
      },
      "execution_count": 32,
      "outputs": [
        {
          "output_type": "stream",
          "name": "stdout",
          "text": [
            "['Bream' 'Parkki' 'Perch' 'Pike' 'Roach' 'Smelt' 'Whitefish']\n"
          ]
        }
      ]
    },
    {
      "cell_type": "code",
      "source": [
        "print(lr.coef_.shape, lr.intercept_.shape)"
      ],
      "metadata": {
        "colab": {
          "base_uri": "https://localhost:8080/"
        },
        "id": "eKKeeeJQiSMZ",
        "outputId": "826597f5-63f5-4971-bd7a-ac4090653fec"
      },
      "execution_count": 33,
      "outputs": [
        {
          "output_type": "stream",
          "name": "stdout",
          "text": [
            "(7, 5) (7,)\n"
          ]
        }
      ]
    },
    {
      "cell_type": "code",
      "source": [
        "decision = lr.decision_function(test_scaled[:5])\n",
        "print(np.round(decision, decimals=2))"
      ],
      "metadata": {
        "colab": {
          "base_uri": "https://localhost:8080/"
        },
        "id": "R1AOe0aRiTdQ",
        "outputId": "b00a60cc-023b-4a35-f9b1-a75cc810a6ed"
      },
      "execution_count": 34,
      "outputs": [
        {
          "output_type": "stream",
          "name": "stdout",
          "text": [
            "[[ -6.5    1.03   5.16  -2.73   3.34   0.33  -0.63]\n",
            " [-10.86   1.93   4.77  -2.4    2.98   7.84  -4.26]\n",
            " [ -4.34  -6.23   3.17   6.49   2.36   2.42  -3.87]\n",
            " [ -0.68   0.45   2.65  -1.19   3.26  -5.75   1.26]\n",
            " [ -6.4   -1.99   5.82  -0.11   3.5   -0.11  -0.71]]\n"
          ]
        }
      ]
    },
    {
      "cell_type": "code",
      "source": [
        "from scipy.special import softmax\n",
        "\n",
        "proba = softmax(decision, axis=1)\n",
        "print(np.round(proba, decimals=3))"
      ],
      "metadata": {
        "colab": {
          "base_uri": "https://localhost:8080/"
        },
        "id": "dd3HSUH4iTkn",
        "outputId": "1418023d-0b67-4706-a844-6d6ee1b3ca27"
      },
      "execution_count": 35,
      "outputs": [
        {
          "output_type": "stream",
          "name": "stdout",
          "text": [
            "[[0.    0.014 0.841 0.    0.136 0.007 0.003]\n",
            " [0.    0.003 0.044 0.    0.007 0.946 0.   ]\n",
            " [0.    0.    0.034 0.935 0.015 0.016 0.   ]\n",
            " [0.011 0.034 0.306 0.007 0.567 0.    0.076]\n",
            " [0.    0.    0.904 0.002 0.089 0.002 0.001]]\n"
          ]
        }
      ]
    },
    {
      "cell_type": "markdown",
      "source": [
        "로지스틱 회귀\n",
        "z= a*무게+b*길이+C*대각선+d*높이+e*두께+f\n",
        "\n",
        "모양은 tan hx형태 ![image.png](data:image/png;base64,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)"
      ],
      "metadata": {
        "id": "p9TXeRYlid_7"
      }
    },
    {
      "cell_type": "markdown",
      "source": [
        "![image.png](data:image/png;base64,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)"
      ],
      "metadata": {
        "id": "LqPoC4dhi9HU"
      }
    },
    {
      "cell_type": "markdown",
      "source": [
        "x축은 -무한~ +무한 범위고 z를 나타냄, y축은 0.0~1.0(0.5 미만 음성, 이상 양성)\n",
        "시그모이드=로지스틱 함수"
      ],
      "metadata": {
        "id": "yzP2zGYmjXvg"
      }
    }
  ]
}