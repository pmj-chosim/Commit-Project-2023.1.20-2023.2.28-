{
  "nbformat": 4,
  "nbformat_minor": 0,
  "metadata": {
    "colab": {
      "provenance": [],
      "authorship_tag": "ABX9TyMxV7zD060e2CK5h8HcVkXx",
      "include_colab_link": true
    },
    "kernelspec": {
      "name": "python3",
      "display_name": "Python 3"
    },
    "language_info": {
      "name": "python"
    }
  },
  "cells": [
    {
      "cell_type": "markdown",
      "metadata": {
        "id": "view-in-github",
        "colab_type": "text"
      },
      "source": [
        "<a href=\"https://colab.research.google.com/github/pmj-chosim/Commit-Project-2023.1.20-2023.2.28-/blob/main/2023.02.04/%EC%B9%B4%EC%B9%B4%EC%98%A4%ED%86%A1%20%EB%A9%94%EC%8B%9C%EC%A7%80%20%EB%B3%B4%EB%82%B4%EA%B8%B0%20%EC%8B%A4%ED%8C%A8-2.ipynb\" target=\"_parent\"><img src=\"https://colab.research.google.com/assets/colab-badge.svg\" alt=\"Open In Colab\"/></a>"
      ]
    },
    {
      "cell_type": "code",
      "execution_count": 7,
      "metadata": {
        "colab": {
          "base_uri": "https://localhost:8080/"
        },
        "id": "nPvrxm4WB9E2",
        "outputId": "74ea9b03-6cbf-4c41-ec60-10de46f58385"
      },
      "outputs": [
        {
          "output_type": "stream",
          "name": "stdout",
          "text": [
            "{'access_token': 'xwvNfqywvql41WpGz0Q4l17qKy9JLqtc4Tg1aqF9CisMqAAAAYYcEKi4', 'token_type': 'bearer', 'refresh_token': 'LWNoZtbPhfH_s9XhKYegYp03wywkKdYdVFuZKk-sCisMqAAAAYYcEKi3', 'expires_in': 21599, 'scope': 'talk_message', 'refresh_token_expires_in': 5183999}\n"
          ]
        }
      ],
      "source": [
        "import requests\n",
        "\n",
        "url = \"https://kauth.kakao.com/oauth/token\"\n",
        "\n",
        "data = {\n",
        "  \"grant_type\" : \"authorization_code\",\n",
        "  \"client_id\" : \"6c55e6a375be5116a4fb7c37fc2b1692\",\n",
        "  \"redirect_uri\" : \"https://localhost.com\",\n",
        "  \"code\" : \"wdIh2PHWs6zQyT1FTbM-LdJYdG8CpU_1Tbexms71DLRX0o1O7W9PhDDVw_BvcZiRTUeZtQoqJQ8AAAGGHA_k4A\"\n",
        " }\n",
        "\n",
        "response = requests.post(url, data=data)\n",
        "\n",
        "# 요청에 실패했다면,\n",
        "if response.status_code != 200:\n",
        "     print(\"error! because \", response.json())\n",
        "else: # 성공했다면,\n",
        "    tokens = response.json()\n",
        "    print(tokens)"
      ]
    },
    {
      "cell_type": "code",
      "source": [
        "tokens"
      ],
      "metadata": {
        "colab": {
          "base_uri": "https://localhost:8080/"
        },
        "id": "vIx9aFziEP_T",
        "outputId": "f1ffcbbd-e739-44f5-a2aa-91d358fdc005"
      },
      "execution_count": 8,
      "outputs": [
        {
          "output_type": "execute_result",
          "data": {
            "text/plain": [
              "{'access_token': 'xwvNfqywvql41WpGz0Q4l17qKy9JLqtc4Tg1aqF9CisMqAAAAYYcEKi4',\n",
              " 'token_type': 'bearer',\n",
              " 'refresh_token': 'LWNoZtbPhfH_s9XhKYegYp03wywkKdYdVFuZKk-sCisMqAAAAYYcEKi3',\n",
              " 'expires_in': 21599,\n",
              " 'scope': 'talk_message',\n",
              " 'refresh_token_expires_in': 5183999}"
            ]
          },
          "metadata": {},
          "execution_count": 8
        }
      ]
    },
    {
      "cell_type": "code",
      "source": [
        "import json\n",
        "import requests\n",
        "import datetime\n",
        "import os\n",
        "\n",
        "# 카카오 토큰을 저장할 파일명\n",
        "KAKAO_TOKEN_FILENAME = \"res/kakao_message/kakao_token.json\"\n",
        "\n",
        "# 저장하는 함수\n",
        "def save_tokens(filename, tokens):\n",
        "    with open(filename, \"w\") as fp:\n",
        "      json.dump(tokens, fp)\n",
        "\n",
        "# 읽어오는 함수\n",
        "def load_tokens(filename):\n",
        "  with open(filename) as fp:\n",
        "    tokens = json.load(fp)\n",
        "\n",
        "  return tokens\n",
        "\n",
        "# refresh_token으로 access_token 갱신하는 함수\n",
        "def update_tokens(app_key, filename) :\n",
        "    tokens = load_tokens(filename)\n",
        "\n",
        "    url = \"https://kauth.kakao.com/oauth/token\"\n",
        "    data = {\n",
        "      \"grant_type\" : \"refresh_token\",\n",
        "      \"client_id\" : app_key,\n",
        "      \"refresh_token\" : tokens['refresh_token']\n",
        "    }\n",
        "    response = requests.post(url, data=data)\n",
        "\n",
        "\n",
        "    # 요청에 실패했다면,\n",
        "    if response.status_code != 200:\n",
        "      print(\"error! because \", response.json())\n",
        "      tokens = None\n",
        "\n",
        "    else: # 성공했다면,\n",
        "        print(response.json())\n",
        "\n",
        "        # 기존 파일 백업\n",
        "        now = datetime.datetime.now().strftime(\"%Y%m%d_%H%M%S\")\n",
        "        backup_filename = filename+\".\"+ now\n",
        "        os.rename(filename, backup_filename)\n",
        "\n",
        "        # 갱신된 토큰 저장\n",
        "        tokens['access_token'] = response.json()['access_token']\n",
        "        save_tokens(filename, tokens)\n",
        "\n",
        "    return tokens\n",
        "\n",
        "  # 토큰 저장\n",
        "save_tokens(KAKAO_TOKEN_FILENAME, tokens)\n",
        "\n"
      ],
      "metadata": {
        "colab": {
          "base_uri": "https://localhost:8080/",
          "height": 372
        },
        "id": "omS4cJ9BETta",
        "outputId": "0b49defb-59bc-4992-cbbb-327b7e17532b"
      },
      "execution_count": 13,
      "outputs": [
        {
          "output_type": "error",
          "ename": "FileNotFoundError",
          "evalue": "ignored",
          "traceback": [
            "\u001b[0;31m---------------------------------------------------------------------------\u001b[0m",
            "\u001b[0;31mFileNotFoundError\u001b[0m                         Traceback (most recent call last)",
            "\u001b[0;32m<ipython-input-13-25f720965c87>\u001b[0m in \u001b[0;36m<module>\u001b[0;34m\u001b[0m\n\u001b[1;32m     52\u001b[0m \u001b[0;34m\u001b[0m\u001b[0m\n\u001b[1;32m     53\u001b[0m   \u001b[0;31m# 토큰 저장\u001b[0m\u001b[0;34m\u001b[0m\u001b[0;34m\u001b[0m\u001b[0;34m\u001b[0m\u001b[0m\n\u001b[0;32m---> 54\u001b[0;31m \u001b[0msave_tokens\u001b[0m\u001b[0;34m(\u001b[0m\u001b[0mKAKAO_TOKEN_FILENAME\u001b[0m\u001b[0;34m,\u001b[0m \u001b[0mtokens\u001b[0m\u001b[0;34m)\u001b[0m\u001b[0;34m\u001b[0m\u001b[0;34m\u001b[0m\u001b[0m\n\u001b[0m\u001b[1;32m     55\u001b[0m \u001b[0;34m\u001b[0m\u001b[0m\n\u001b[1;32m     56\u001b[0m   \u001b[0;31m# 토큰 업데이트 -> 토큰 저장 필수!\u001b[0m\u001b[0;34m\u001b[0m\u001b[0;34m\u001b[0m\u001b[0;34m\u001b[0m\u001b[0m\n",
            "\u001b[0;32m<ipython-input-13-25f720965c87>\u001b[0m in \u001b[0;36msave_tokens\u001b[0;34m(filename, tokens)\u001b[0m\n\u001b[1;32m      9\u001b[0m \u001b[0;31m# 저장하는 함수\u001b[0m\u001b[0;34m\u001b[0m\u001b[0;34m\u001b[0m\u001b[0;34m\u001b[0m\u001b[0m\n\u001b[1;32m     10\u001b[0m \u001b[0;32mdef\u001b[0m \u001b[0msave_tokens\u001b[0m\u001b[0;34m(\u001b[0m\u001b[0mfilename\u001b[0m\u001b[0;34m,\u001b[0m \u001b[0mtokens\u001b[0m\u001b[0;34m)\u001b[0m\u001b[0;34m:\u001b[0m\u001b[0;34m\u001b[0m\u001b[0;34m\u001b[0m\u001b[0m\n\u001b[0;32m---> 11\u001b[0;31m     \u001b[0;32mwith\u001b[0m \u001b[0mopen\u001b[0m\u001b[0;34m(\u001b[0m\u001b[0mfilename\u001b[0m\u001b[0;34m,\u001b[0m \u001b[0;34m\"w\"\u001b[0m\u001b[0;34m)\u001b[0m \u001b[0;32mas\u001b[0m \u001b[0mfp\u001b[0m\u001b[0;34m:\u001b[0m\u001b[0;34m\u001b[0m\u001b[0;34m\u001b[0m\u001b[0m\n\u001b[0m\u001b[1;32m     12\u001b[0m       \u001b[0mjson\u001b[0m\u001b[0;34m.\u001b[0m\u001b[0mdump\u001b[0m\u001b[0;34m(\u001b[0m\u001b[0mtokens\u001b[0m\u001b[0;34m,\u001b[0m \u001b[0mfp\u001b[0m\u001b[0;34m)\u001b[0m\u001b[0;34m\u001b[0m\u001b[0;34m\u001b[0m\u001b[0m\n\u001b[1;32m     13\u001b[0m \u001b[0;34m\u001b[0m\u001b[0m\n",
            "\u001b[0;31mFileNotFoundError\u001b[0m: [Errno 2] No such file or directory: 'res/kakao_message/kakao_token.json'"
          ]
        }
      ]
    }
  ]
}