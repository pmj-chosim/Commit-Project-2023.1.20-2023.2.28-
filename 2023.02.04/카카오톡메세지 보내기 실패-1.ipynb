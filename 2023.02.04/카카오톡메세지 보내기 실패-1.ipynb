{
  "cells": [
    {
      "cell_type": "markdown",
      "metadata": {
        "id": "view-in-github",
        "colab_type": "text"
      },
      "source": [
        "<a href=\"https://colab.research.google.com/github/pmj-chosim/Commit-Project-2023.1.20-2023.2.28-/blob/main/2023.02.04/%EC%B9%B4%EC%B9%B4%EC%98%A4%ED%86%A1%EB%A9%94%EC%84%B8%EC%A7%80%20%EB%B3%B4%EB%82%B4%EA%B8%B0%20%EC%8B%A4%ED%8C%A8-1.ipynb\" target=\"_parent\"><img src=\"https://colab.research.google.com/assets/colab-badge.svg\" alt=\"Open In Colab\"/></a>"
      ]
    },
    {
      "cell_type": "code",
      "execution_count": 3,
      "metadata": {
        "id": "eNUdctbYe6HF"
      },
      "outputs": [],
      "source": [
        "import requests\n",
        "import json"
      ]
    },
    {
      "cell_type": "code",
      "source": [
        "# 카카오톡 메시지 API\n",
        "url = \"https://kauth.kakao.com/oauth/token\"\n",
        "data = {\n",
        "    \"grant_type\" : \"authorization_code\",\n",
        "    \"client_id\" : \"6c55e6a375be5116a4fb7c37fc2b1692\",\n",
        "    \"redirect_url\" : \"https://localhost:3000\",\n",
        "    \"code\" : \"JEZBpfrovfte7UbSJXZFH5JKD5Y0K7a6Ex7leh91zl2KEyGuERajPEJqzr6AdfW7QI_p8AoqJVAAAAGGG_j5FA\"\n",
        "}\n",
        "response = requests.post(url, data=data)\n",
        "tokens = response.json()\n",
        "print(tokens)"
      ],
      "metadata": {
        "colab": {
          "base_uri": "https://localhost:8080/"
        },
        "id": "daYV9HUf-5vw",
        "outputId": "c12d91e0-1d4a-429e-e6d9-ab740f39034f"
      },
      "execution_count": 4,
      "outputs": [
        {
          "output_type": "stream",
          "name": "stdout",
          "text": [
            "{'access_token': 'UppAxqmgrPJZ-QPGCxlXy01-3JXL37e8KLlxLXBmCisNIAAAAYYb_IZ6', 'token_type': 'bearer', 'refresh_token': 'YYuUI0DqSUXoVsFbF53RZtXBy_D9EgkUFA1FGgcPCisNIAAAAYYb_IZ4', 'expires_in': 21599, 'scope': 'talk_message', 'refresh_token_expires_in': 5183999}\n"
          ]
        }
      ]
    },
    {
      "cell_type": "code",
      "source": [
        "# kakao_code.json 파일 저장\n",
        "with open(\"kakao_code.json\", \"w\") as fp:\n",
        "    json.dump(tokens, fp)"
      ],
      "metadata": {
        "id": "_SEMkjeS_LdF"
      },
      "execution_count": 5,
      "outputs": []
    },
    {
      "cell_type": "code",
      "source": [
        "url = \"https://kapi.kakao.com/v2/api/talk/memo/default/send\"\n",
        "headers = {\n",
        "    \"Authorization\": \"Bearer \" + \"6c55e6a375be5116a4fb7c37fc2b1692\"\n",
        "}\n",
        "data = {\n",
        "    \"template_object\" : json.dumps({ \"object_type\" : \"text\",\n",
        "                                     \"text\" : \"컴퓨터학부 공지사항\",\n",
        "                                     \"link\" : {\n",
        "                                                 \"web_url\" : \"https://computer.knu.ac.kr:56187/bbs/board.php?bo_table=sub5_1\",\n",
        "                                                 \"mobile_web_url\" : \"https://computer.knu.ac.kr:56187/bbs/board.php?bo_table=sub5_1\"\n",
        "                                              }\n",
        "    })\n",
        "}\n",
        "response = requests.post(url, headers=headers, data=data)\n",
        "if response.json().get('result_code') == 0:\n",
        "    print('메시지를 성공적으로 보냈습니다.')\n",
        "else:\n",
        "    print('메시지를 성공적으로 보내지 못했습니다. 오류메시지 : ' + str(response.json()))"
      ],
      "metadata": {
        "colab": {
          "base_uri": "https://localhost:8080/"
        },
        "id": "aLHGYsyn_Y7d",
        "outputId": "b5954ebd-858d-47b0-df03-1c32baa88d4a"
      },
      "execution_count": 8,
      "outputs": [
        {
          "output_type": "stream",
          "name": "stdout",
          "text": [
            "메시지를 성공적으로 보내지 못했습니다. 오류메시지 : {'msg': 'this access token does not exist', 'code': -401}\n"
          ]
        }
      ]
    }
  ],
  "metadata": {
    "colab": {
      "provenance": [],
      "authorship_tag": "ABX9TyNkWsJbyJDKygRXDiO9cy7a",
      "include_colab_link": true
    },
    "kernelspec": {
      "display_name": "Python 3",
      "name": "python3"
    },
    "language_info": {
      "name": "python"
    }
  },
  "nbformat": 4,
  "nbformat_minor": 0
}