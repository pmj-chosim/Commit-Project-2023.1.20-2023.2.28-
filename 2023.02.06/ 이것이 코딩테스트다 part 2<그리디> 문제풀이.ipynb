{
  "nbformat": 4,
  "nbformat_minor": 0,
  "metadata": {
    "colab": {
      "provenance": [],
      "authorship_tag": "ABX9TyMgeIYpZVJ4F/Kx3ll5q3Tg",
      "include_colab_link": true
    },
    "kernelspec": {
      "name": "python3",
      "display_name": "Python 3"
    },
    "language_info": {
      "name": "python"
    }
  },
  "cells": [
    {
      "cell_type": "markdown",
      "metadata": {
        "id": "view-in-github",
        "colab_type": "text"
      },
      "source": [
        "<a href=\"https://colab.research.google.com/github/pmj-chosim/Commit-Project-2023.1.20-2023.2.28-/blob/main/2023.02.06/%20%EC%9D%B4%EA%B2%83%EC%9D%B4%20%EC%BD%94%EB%94%A9%ED%85%8C%EC%8A%A4%ED%8A%B8%EB%8B%A4%20part%202%3C%EA%B7%B8%EB%A6%AC%EB%94%94%3E%20%EB%AC%B8%EC%A0%9C%ED%92%80%EC%9D%B4.ipynb\" target=\"_parent\"><img src=\"https://colab.research.google.com/assets/colab-badge.svg\" alt=\"Open In Colab\"/></a>"
      ]
    },
    {
      "cell_type": "markdown",
      "source": [
        "#이것이 코딩테스트다 part 2<그리디> 문제를 풀어봤습니다"
      ],
      "metadata": {
        "id": "8hee2qLUg6TA"
      }
    },
    {
      "cell_type": "markdown",
      "source": [
        "1. 당장 좋은 것만 선택하는 그리디"
      ],
      "metadata": {
        "id": "G8qjxRLIg0pf"
      }
    },
    {
      "cell_type": "code",
      "execution_count": 11,
      "metadata": {
        "colab": {
          "base_uri": "https://localhost:8080/"
        },
        "id": "VJVpf2L9euCR",
        "outputId": "f5a019f3-d425-4a41-d910-0754f24a953b"
      },
      "outputs": [
        {
          "output_type": "stream",
          "name": "stdout",
          "text": [
            "1250\n",
            "5\n"
          ]
        }
      ],
      "source": [
        "money=int(input(''))\n",
        "count=0\n",
        "\n",
        "cointype=[500,100,50,10]\n",
        "\n",
        "for i in cointype:\n",
        "  count+=(money//i)\n",
        "  money%=i\n",
        "\n",
        "print(count)"
      ]
    },
    {
      "cell_type": "markdown",
      "source": [
        "2. 큰 수의 법칙"
      ],
      "metadata": {
        "id": "Ir7FoJlKhCGk"
      }
    },
    {
      "cell_type": "code",
      "source": [
        "n,m,k=map(int, input('').split())\n",
        "numlist=list(map(int, input().split()))\n",
        "\n",
        "numlist.sort()\n",
        "\n",
        "sum=0\n",
        "\n",
        "for j in range(1,m+1):\n",
        "  if  j%k!=0 :\n",
        "    sum+=numlist[-1]\n",
        "  else:\n",
        "    sum+=numlist[-2]\n",
        "\n",
        "\n",
        "print(sum) "
      ],
      "metadata": {
        "colab": {
          "base_uri": "https://localhost:8080/"
        },
        "id": "UCdHfvGTfrZ_",
        "outputId": "d6f4e68f-855a-40a8-c8af-88973ff35403"
      },
      "execution_count": 19,
      "outputs": [
        {
          "output_type": "stream",
          "name": "stdout",
          "text": [
            "5 8 3\n",
            "2 4 5 4 6\n",
            "46\n"
          ]
        }
      ]
    },
    {
      "cell_type": "markdown",
      "source": [
        "3. 숫자 카드 게임"
      ],
      "metadata": {
        "id": "vAWse1cMjVSB"
      }
    },
    {
      "cell_type": "code",
      "source": [
        "n,m=map(int,input('').split())\n",
        "maxinmin=0\n",
        "\n",
        "for i in range(n):\n",
        "  line=list(map(int, input().split()))\n",
        "  if maxinmin<min(line):\n",
        "      maxinmin=min(line)\n",
        "\n",
        "print(maxinmin)"
      ],
      "metadata": {
        "colab": {
          "base_uri": "https://localhost:8080/"
        },
        "id": "JggGK8GRkpCB",
        "outputId": "78de4f2e-cb90-4dc8-c2c1-2252dd2cd644"
      },
      "execution_count": 25,
      "outputs": [
        {
          "output_type": "stream",
          "name": "stdout",
          "text": [
            "3 3\n",
            "3 1 2\n",
            "4 1 4\n",
            "2 2 2\n",
            "2\n"
          ]
        }
      ]
    },
    {
      "cell_type": "markdown",
      "source": [
        "4. 1이 될 때까지"
      ],
      "metadata": {
        "id": "riQ6SWKfmtBt"
      }
    },
    {
      "cell_type": "code",
      "source": [
        "n,k=map(int, input().split())\n",
        "count=0\n",
        "\n",
        "while n>=k:\n",
        "  while n%k!=0:\n",
        "    n-=1\n",
        "    count+=1\n",
        "  n//=k\n",
        "  count+=1\n",
        "\n",
        "while n>1:\n",
        "  n-=1\n",
        "  count+=1\n",
        "\n",
        "print(count)"
      ],
      "metadata": {
        "colab": {
          "base_uri": "https://localhost:8080/"
        },
        "id": "Hmy9XA-anFev",
        "outputId": "3d99a377-a05a-443e-f710-e42f48a1058f"
      },
      "execution_count": 27,
      "outputs": [
        {
          "output_type": "stream",
          "name": "stdout",
          "text": [
            "25 5\n",
            "2\n"
          ]
        }
      ]
    }
  ]
}