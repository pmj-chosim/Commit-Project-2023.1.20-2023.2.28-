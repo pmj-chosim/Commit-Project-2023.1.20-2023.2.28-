{
  "nbformat": 4,
  "nbformat_minor": 0,
  "metadata": {
    "colab": {
      "provenance": [],
      "authorship_tag": "ABX9TyMdQl894vKYcfvlkVlCOP++",
      "include_colab_link": true
    },
    "kernelspec": {
      "name": "python3",
      "display_name": "Python 3"
    },
    "language_info": {
      "name": "python"
    }
  },
  "cells": [
    {
      "cell_type": "markdown",
      "metadata": {
        "id": "view-in-github",
        "colab_type": "text"
      },
      "source": [
        "<a href=\"https://colab.research.google.com/github/pmj-chosim/Commit-Project-2023.1.20-2023.2.28-/blob/main/2023.02.07/%EC%9D%B4%EC%BD%94%ED%85%8C%20part2-%EA%B5%AC%ED%98%84.ipynb\" target=\"_parent\"><img src=\"https://colab.research.google.com/assets/colab-badge.svg\" alt=\"Open In Colab\"/></a>"
      ]
    },
    {
      "cell_type": "markdown",
      "source": [
        "#이코테 Part 2- 4<구현> 문제 풂"
      ],
      "metadata": {
        "id": "OKC64uPmv7gg"
      }
    },
    {
      "cell_type": "markdown",
      "source": [
        "4-1 상하좌우"
      ],
      "metadata": {
        "id": "ZbzWbTesv4nd"
      }
    },
    {
      "cell_type": "code",
      "execution_count": 6,
      "metadata": {
        "colab": {
          "base_uri": "https://localhost:8080/"
        },
        "id": "Dyj80ZaSv3_o",
        "outputId": "371885f2-032f-4ffd-9ce0-b0130a809be5"
      },
      "outputs": [
        {
          "output_type": "stream",
          "name": "stdout",
          "text": [
            "5\n",
            "R R R U D D\n",
            "3 4\n"
          ]
        }
      ],
      "source": [
        "n=int(input())\n",
        "x=y=1\n",
        "toGo=list(input().split())\n",
        "\n",
        "for i in toGo:\n",
        "  if i=='L' and x-1>=1:\n",
        "    x-=1\n",
        "  elif i=='R' and x+1<=5:\n",
        "    x+=1\n",
        "  elif i=='U' and y-1>=1:\n",
        "    y-=1\n",
        "  elif i=='D' and y+1<=5:\n",
        "    y+=1\n",
        "\n",
        "print(y,x)"
      ]
    },
    {
      "cell_type": "markdown",
      "source": [
        "4-2 시각"
      ],
      "metadata": {
        "id": "mRlsjykLxrTP"
      }
    },
    {
      "cell_type": "code",
      "source": [
        "n=int(input()) #0~n 이니까 총 n+1시간\n",
        "sum=0\n",
        "sum+=(n//3)*60*60 #3시 ~ , 13시~ 같은 시간에 3이 들어가는 경우는 분*초: 60*60 경우가 헤당\n",
        "sum+=(n-n//3+1)*15*105 #45*15+15*60=15*105 ...초 중에 3들어가는 경우 15개, 분도 15개들어가니->15*60(분)+(60-45)*15 <- 3안들어가는 분과 3들어가는 초의 교집합\n",
        "print(sum)"
      ],
      "metadata": {
        "colab": {
          "base_uri": "https://localhost:8080/"
        },
        "id": "s2wpz4-qxqn6",
        "outputId": "b3d8dfa4-1cdb-469a-c4ee-73d9ff79d98a"
      },
      "execution_count": 9,
      "outputs": [
        {
          "output_type": "stream",
          "name": "stdout",
          "text": [
            "5\n",
            "11475\n"
          ]
        }
      ]
    },
    {
      "cell_type": "markdown",
      "source": [
        "2. 왕실의 나이트"
      ],
      "metadata": {
        "id": "XV8vbJRBy3sz"
      }
    },
    {
      "cell_type": "code",
      "source": [
        "a='a'\n",
        "a=ord(a)\n",
        "print(a)"
      ],
      "metadata": {
        "colab": {
          "base_uri": "https://localhost:8080/"
        },
        "id": "YiI6QDq_0P7G",
        "outputId": "21a25367-212c-4f71-97b2-a77335d439b7"
      },
      "execution_count": 18,
      "outputs": [
        {
          "output_type": "stream",
          "name": "stdout",
          "text": [
            "97\n"
          ]
        }
      ]
    },
    {
      "cell_type": "code",
      "source": [
        "mege=input()\n",
        "x,y=ord(mege[0]),int(mege[1])\n",
        "count=0\n",
        "\n",
        "def common(cordinate, start):\n",
        "  global count\n",
        "  if cordinate-1>=start:\n",
        "    count+=1\n",
        "  if cordinate+1<=start+8:\n",
        "    count+=1\n",
        "\n",
        "if x-2>=97:\n",
        "  common(y,1)\n",
        "\n",
        "if x+2<=105:\n",
        "  common(y,1)\n",
        "\n",
        "if y-2>=1:\n",
        "  common(x,97)\n",
        "\n",
        "if y+2>=1:\n",
        "  common(x,97)\n",
        "\n",
        "print(count)"
      ],
      "metadata": {
        "colab": {
          "base_uri": "https://localhost:8080/"
        },
        "id": "K4xgf5Wfy2Bs",
        "outputId": "35f54155-8758-44b7-e5f0-c55ae6eab60f"
      },
      "execution_count": 22,
      "outputs": [
        {
          "output_type": "stream",
          "name": "stdout",
          "text": [
            "a1\n",
            "2\n"
          ]
        }
      ]
    }
  ]
}