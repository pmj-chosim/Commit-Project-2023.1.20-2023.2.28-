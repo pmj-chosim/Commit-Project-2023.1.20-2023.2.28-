{
  "cells": [
    {
      "cell_type": "markdown",
      "metadata": {
        "id": "view-in-github",
        "colab_type": "text"
      },
      "source": [
        "<a href=\"https://colab.research.google.com/github/pmj-chosim/Commit-Project-2023.1.20-2023.2.28-/blob/main/2023.02.13/%EB%B0%B1%EC%A4%80%2011650%2611651(%EC%8B%A4%EB%B2%845).ipynb\" target=\"_parent\"><img src=\"https://colab.research.google.com/assets/colab-badge.svg\" alt=\"Open In Colab\"/></a>"
      ]
    },
    {
      "cell_type": "markdown",
      "source": [
        "#11650 실버 5 좌표 정렬"
      ],
      "metadata": {
        "id": "YSrNpkqbjK-i"
      }
    },
    {
      "cell_type": "code",
      "source": [
        "n= int(input())\n",
        "n_list=[]\n",
        "for i in range(n):\n",
        "  n_list.append(list(map(int, input().split())))\n",
        "n_list.sort() #n_list[][0]에 대해서 sort함.\n",
        "for i in range(n-1):\n",
        "  if n_list[i][0]==n_list[i+1][0]:\n",
        "    if n_list[i][1]>n_list[i+1][1]:\n",
        "      n_list[i][1],n_list[i+1][1]=n_list[i+1][1],n_list[i][1]\n",
        "for i in range(n):\n",
        "  print(n_list[i][0],n_list[i][1])"
      ],
      "metadata": {
        "id": "ycF7POIAhGB1",
        "outputId": "10a33337-7fc5-4947-d810-0ce6a8b42ca5",
        "colab": {
          "base_uri": "https://localhost:8080/"
        }
      },
      "execution_count": 70,
      "outputs": [
        {
          "output_type": "stream",
          "name": "stdout",
          "text": [
            "5\n",
            "3 4\n",
            "1 1\n",
            "1 -1\n",
            "2 2\n",
            "3 3\n",
            "1 -1\n",
            "1 1\n",
            "2 2\n",
            "3 3\n",
            "3 4\n"
          ]
        }
      ]
    },
    {
      "cell_type": "markdown",
      "source": [
        "#11651 시간초과"
      ],
      "metadata": {
        "id": "8hBJODzRjt2d"
      }
    },
    {
      "cell_type": "code",
      "source": [
        "n= int(input())\n",
        "n_list=[]\n",
        "for i in range(n):\n",
        "  n_list.append(list(map(int, input().split())))\n",
        "\n",
        "for i in range(n-1,0,-1):\n",
        "  for j in range(i):\n",
        "    if n_list[j][1]>n_list[j+1][1]:\n",
        "       n_list[j][1],n_list[j+1][1]=n_list[j+1][1],n_list[j][1]\n",
        "\n",
        "for i in range(n-1):\n",
        "  if n_list[i][1]==n_list[i][1]:\n",
        "    if n_list[i][0]>n_list[i+1][0]:\n",
        "      n_list[i][0],n_list[i+1][0]=n_list[i+1][0],n_list[i][0]\n",
        "print()\n",
        "for i in range(n):\n",
        "  print(n_list[i][0],n_list[i][1])"
      ],
      "metadata": {
        "id": "crAsQq0mjXVw",
        "outputId": "11970421-ab08-4ee0-d495-2832c22ad03f",
        "colab": {
          "base_uri": "https://localhost:8080/"
        }
      },
      "execution_count": 4,
      "outputs": [
        {
          "output_type": "stream",
          "name": "stdout",
          "text": [
            "5\n",
            "3 4\n",
            "1 -2\n",
            "2 6\n",
            "7 0\n",
            "8 9\n",
            "\n",
            "1 -2\n",
            "2 0\n",
            "3 4\n",
            "7 6\n",
            "8 9\n"
          ]
        }
      ]
    },
    {
      "cell_type": "markdown",
      "source": [
        "11651 : 11650번 코드 진짜 조금 변형. 11650에서는 2차원리스트 n_list[i][0],n_list[i][1]중 n_list[i][0]에 대해서 sort 정렬됐음. \n",
        "그러면 숫자를 입력받고, x,y를 바꿔 정렬시키고 출력할 때만 다시 x,y바꿔 출력하면\n",
        "되니까"
      ],
      "metadata": {
        "id": "ELxpobsmml3T"
      }
    },
    {
      "cell_type": "code",
      "source": [
        "n= int(input())\n",
        "n_list=[]\n",
        "for i in range(n):\n",
        "  x,y=map(int, input().split())\n",
        "  n_list.append([y,x])\n",
        "n_list.sort() #n_list[][0]에 대해서 sort함.\n",
        "for i in range(n-1):\n",
        "  if n_list[i][0]==n_list[i+1][0]:\n",
        "    if n_list[i][1]>n_list[i+1][1]:\n",
        "      n_list[i][1],n_list[i+1][1]=n_list[i+1][1],n_list[i][1]\n",
        "for i in range(n):\n",
        "  print(n_list[i][1],n_list[i][0])"
      ],
      "metadata": {
        "id": "00k-NodqmEZq",
        "outputId": "eb5b56a1-e6ee-462f-894f-bdaaa1b2121e",
        "colab": {
          "base_uri": "https://localhost:8080/"
        }
      },
      "execution_count": 5,
      "outputs": [
        {
          "output_type": "stream",
          "name": "stdout",
          "text": [
            "5\n",
            "3 4\n",
            "1 -2\n",
            "2 6\n",
            "7 0\n",
            "8 9\n",
            "1 -2\n",
            "7 0\n",
            "3 4\n",
            "2 6\n",
            "8 9\n"
          ]
        }
      ]
    }
  ],
  "metadata": {
    "colab": {
      "name": "Colaboratory에 오신 것을 환영합니다",
      "toc_visible": true,
      "provenance": [],
      "include_colab_link": true
    },
    "kernelspec": {
      "display_name": "Python 3",
      "name": "python3"
    }
  },
  "nbformat": 4,
  "nbformat_minor": 0
}