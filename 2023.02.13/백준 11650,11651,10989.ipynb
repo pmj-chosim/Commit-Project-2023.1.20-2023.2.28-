{
  "cells": [
    {
      "cell_type": "markdown",
      "metadata": {
        "id": "view-in-github",
        "colab_type": "text"
      },
      "source": [
        "<a href=\"https://colab.research.google.com/github/pmj-chosim/Commit-Project-2023.1.20-2023.2.28-/blob/main/2023.02.13/%EB%B0%B1%EC%A4%80%2011650%2C11651%2C10989.ipynb\" target=\"_parent\"><img src=\"https://colab.research.google.com/assets/colab-badge.svg\" alt=\"Open In Colab\"/></a>"
      ]
    },
    {
      "cell_type": "markdown",
      "source": [
        "#11650 실버 5 좌표 정렬"
      ],
      "metadata": {
        "id": "YSrNpkqbjK-i"
      }
    },
    {
      "cell_type": "code",
      "source": [
        "n= int(input())\n",
        "n_list=[]\n",
        "for i in range(n):\n",
        "  n_list.append(list(map(int, input().split())))\n",
        "n_list.sort() #n_list[][0]에 대해서 sort함.\n",
        "for i in range(n-1):\n",
        "  if n_list[i][0]==n_list[i+1][0]:\n",
        "    if n_list[i][1]>n_list[i+1][1]:\n",
        "      n_list[i][1],n_list[i+1][1]=n_list[i+1][1],n_list[i][1]\n",
        "for i in range(n):\n",
        "  print(n_list[i][0],n_list[i][1])"
      ],
      "metadata": {
        "colab": {
          "base_uri": "https://localhost:8080/"
        },
        "id": "ycF7POIAhGB1",
        "outputId": "10a33337-7fc5-4947-d810-0ce6a8b42ca5"
      },
      "execution_count": 70,
      "outputs": [
        {
          "output_type": "stream",
          "name": "stdout",
          "text": [
            "5\n",
            "3 4\n",
            "1 1\n",
            "1 -1\n",
            "2 2\n",
            "3 3\n",
            "1 -1\n",
            "1 1\n",
            "2 2\n",
            "3 3\n",
            "3 4\n"
          ]
        }
      ]
    },
    {
      "cell_type": "markdown",
      "source": [
        "#11651 시간초과"
      ],
      "metadata": {
        "id": "8hBJODzRjt2d"
      }
    },
    {
      "cell_type": "code",
      "source": [
        "n= int(input())\n",
        "n_list=[]\n",
        "for i in range(n):\n",
        "  n_list.append(list(map(int, input().split())))\n",
        "\n",
        "for i in range(n-1,0,-1):\n",
        "  for j in range(i):\n",
        "    if n_list[j][1]>n_list[j+1][1]:\n",
        "       n_list[j][1],n_list[j+1][1]=n_list[j+1][1],n_list[j][1]\n",
        "\n",
        "for i in range(n-1):\n",
        "  if n_list[i][1]==n_list[i][1]:\n",
        "    if n_list[i][0]>n_list[i+1][0]:\n",
        "      n_list[i][0],n_list[i+1][0]=n_list[i+1][0],n_list[i][0]\n",
        "print()\n",
        "for i in range(n):\n",
        "  print(n_list[i][0],n_list[i][1])"
      ],
      "metadata": {
        "colab": {
          "base_uri": "https://localhost:8080/"
        },
        "id": "crAsQq0mjXVw",
        "outputId": "11970421-ab08-4ee0-d495-2832c22ad03f"
      },
      "execution_count": 4,
      "outputs": [
        {
          "output_type": "stream",
          "name": "stdout",
          "text": [
            "5\n",
            "3 4\n",
            "1 -2\n",
            "2 6\n",
            "7 0\n",
            "8 9\n",
            "\n",
            "1 -2\n",
            "2 0\n",
            "3 4\n",
            "7 6\n",
            "8 9\n"
          ]
        }
      ]
    },
    {
      "cell_type": "markdown",
      "source": [
        "11651 : 11650번 코드 진짜 조금 변형. 11650에서는 2차원리스트 n_list[i][0],n_list[i][1]중 n_list[i][0]에 대해서 sort 정렬됐음. \n",
        "그러면 숫자를 입력받고, x,y를 바꿔 정렬시키고 출력할 때만 다시 x,y바꿔 출력하면\n",
        "되니까"
      ],
      "metadata": {
        "id": "ELxpobsmml3T"
      }
    },
    {
      "cell_type": "code",
      "source": [
        "n= int(input())\n",
        "n_list=[]\n",
        "for i in range(n):\n",
        "  x,y=map(int, input().split())\n",
        "  n_list.append([y,x])\n",
        "n_list.sort() #n_list[][0]에 대해서 sort함.\n",
        "for i in range(n-1):\n",
        "  if n_list[i][0]==n_list[i+1][0]:\n",
        "    if n_list[i][1]>n_list[i+1][1]:\n",
        "      n_list[i][1],n_list[i+1][1]=n_list[i+1][1],n_list[i][1]\n",
        "for i in range(n):\n",
        "  print(n_list[i][1],n_list[i][0])"
      ],
      "metadata": {
        "colab": {
          "base_uri": "https://localhost:8080/"
        },
        "id": "00k-NodqmEZq",
        "outputId": "eb5b56a1-e6ee-462f-894f-bdaaa1b2121e"
      },
      "execution_count": 5,
      "outputs": [
        {
          "output_type": "stream",
          "name": "stdout",
          "text": [
            "5\n",
            "3 4\n",
            "1 -2\n",
            "2 6\n",
            "7 0\n",
            "8 9\n",
            "1 -2\n",
            "7 0\n",
            "3 4\n",
            "2 6\n",
            "8 9\n"
          ]
        }
      ]
    },
    {
      "cell_type": "markdown",
      "source": [
        "#10989 -메모리 초과"
      ],
      "metadata": {
        "id": "8a8LQ174qeSp"
      }
    },
    {
      "cell_type": "code",
      "source": [
        "n= int(input())\n",
        "n_list=[]\n",
        "for i in range(n):\n",
        "  n_list.append(int(input()))\n",
        "n_list.sort()\n",
        "for i in range(n):\n",
        "  print(n_list[i])"
      ],
      "metadata": {
        "id": "8JYcY1O8pTzB",
        "outputId": "b3fe4c5f-4670-4fc8-fad9-0361783fd326",
        "colab": {
          "base_uri": "https://localhost:8080/"
        }
      },
      "execution_count": 6,
      "outputs": [
        {
          "output_type": "stream",
          "name": "stdout",
          "text": [
            "6\n",
            "1\n",
            "9\n",
            "9\n",
            "2\n",
            "3\n",
            "4\n",
            "1\n",
            "2\n",
            "3\n",
            "4\n",
            "9\n",
            "9\n"
          ]
        }
      ]
    },
    {
      "cell_type": "markdown",
      "source": [
        "계수 정렬로 풂. 코랩에서 sys 가 안 됨.\n",
        "https://www.onlinegdb.com/online_python_compiler\n",
        "여기서 돌려봄. 됨.\n",
        "근데 또 시간 초과..."
      ],
      "metadata": {
        "id": "KysP6PonsFwq"
      }
    },
    {
      "cell_type": "code",
      "source": [
        "\n",
        "import sys\n",
        "\n",
        "n = int(sys.stdin.readline())\n",
        "n_list = [0] * 10001\n",
        "\n",
        "for _ in range(n):\n",
        "    n_list[int(sys.stdin.readline())] += 1\n",
        "\n",
        "for i in range(10001):\n",
        "    if n_list[i] != 0:\n",
        "        for j in range(n_list[i]):\n",
        "            print(i)"
      ],
      "metadata": {
        "id": "uyid3u9hqjpx",
        "outputId": "8180438d-a4d6-4889-c7e7-88901227dc9a",
        "colab": {
          "base_uri": "https://localhost:8080/",
          "height": 263
        }
      },
      "execution_count": 21,
      "outputs": [
        {
          "output_type": "stream",
          "name": "stdout",
          "text": [
            "ERROR: unknown command \"sys\"\n"
          ]
        },
        {
          "output_type": "error",
          "ename": "ValueError",
          "evalue": "ignored",
          "traceback": [
            "\u001b[0;31m---------------------------------------------------------------------------\u001b[0m",
            "\u001b[0;31mValueError\u001b[0m                                Traceback (most recent call last)",
            "\u001b[0;32m<ipython-input-21-dcae2ddd0061>\u001b[0m in \u001b[0;36m<module>\u001b[0;34m\u001b[0m\n\u001b[1;32m      2\u001b[0m \u001b[0;32mimport\u001b[0m \u001b[0msys\u001b[0m\u001b[0;34m\u001b[0m\u001b[0;34m\u001b[0m\u001b[0m\n\u001b[1;32m      3\u001b[0m \u001b[0;34m\u001b[0m\u001b[0m\n\u001b[0;32m----> 4\u001b[0;31m \u001b[0mn\u001b[0m \u001b[0;34m=\u001b[0m \u001b[0mint\u001b[0m\u001b[0;34m(\u001b[0m\u001b[0msys\u001b[0m\u001b[0;34m.\u001b[0m\u001b[0mstdin\u001b[0m\u001b[0;34m.\u001b[0m\u001b[0mreadline\u001b[0m\u001b[0;34m(\u001b[0m\u001b[0;34m)\u001b[0m\u001b[0;34m)\u001b[0m\u001b[0;34m\u001b[0m\u001b[0;34m\u001b[0m\u001b[0m\n\u001b[0m\u001b[1;32m      5\u001b[0m \u001b[0mn_list\u001b[0m \u001b[0;34m=\u001b[0m \u001b[0;34m[\u001b[0m\u001b[0;36m0\u001b[0m\u001b[0;34m]\u001b[0m \u001b[0;34m*\u001b[0m \u001b[0;36m10001\u001b[0m\u001b[0;34m\u001b[0m\u001b[0;34m\u001b[0m\u001b[0m\n\u001b[1;32m      6\u001b[0m \u001b[0;34m\u001b[0m\u001b[0m\n",
            "\u001b[0;31mValueError\u001b[0m: invalid literal for int() with base 10: ''"
          ]
        }
      ]
    },
    {
      "cell_type": "markdown",
      "source": [
        "어떻게할지 일단 모르겠어서 c로 해봄.\n",
        "근데 잘 돌아가는데 자꾸 틀렸다고 함."
      ],
      "metadata": {
        "id": "k6sRuvtAxO-B"
      }
    },
    {
      "cell_type": "code",
      "source": [
        "#include <stdio.h>\n",
        "\n",
        "int main(void){\n",
        "    int num;\n",
        "    scanf(\"%d\", &num);\n",
        "    int n_list[100001]={0,};\n",
        "    for(int i=0; i<num;i++){\n",
        "        int mege;\n",
        "        scanf(\"%d\", &mege);\n",
        "        n_list[mege]++;\n",
        "    }\n",
        "    for(int i=0; i<10000; i++){\n",
        "        for(int j=0; j<n_list[i];j++)\n",
        "            printf(\"%d\\n\", i);\n",
        "    }\n",
        "}"
      ],
      "metadata": {
        "id": "gVpNCrAbxXpt"
      },
      "execution_count": null,
      "outputs": []
    }
  ],
  "metadata": {
    "colab": {
      "name": "Colaboratory에 오신 것을 환영합니다",
      "toc_visible": true,
      "provenance": [],
      "include_colab_link": true
    },
    "kernelspec": {
      "display_name": "Python 3",
      "name": "python3"
    }
  },
  "nbformat": 4,
  "nbformat_minor": 0
}