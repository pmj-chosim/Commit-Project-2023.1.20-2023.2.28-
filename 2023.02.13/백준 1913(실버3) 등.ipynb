{
  "cells": [
    {
      "cell_type": "markdown",
      "metadata": {
        "id": "view-in-github",
        "colab_type": "text"
      },
      "source": [
        "<a href=\"https://colab.research.google.com/github/pmj-chosim/Commit-Project-2023.1.20-2023.2.28-/blob/main/2023.02.13/%EB%B0%B1%EC%A4%80%201913(%EC%8B%A4%EB%B2%843)-%EB%8B%AC%ED%8C%BD%EC%9D%B4%26%2020053%20%EC%B5%9C%EB%8C%80%EC%B5%9C%EC%86%8C2(%EB%B8%8C%EB%A1%A0%EC%A6%88).ipynb\" target=\"_parent\"><img src=\"https://colab.research.google.com/assets/colab-badge.svg\" alt=\"Open In Colab\"/></a>"
      ]
    },
    {
      "cell_type": "markdown",
      "source": [
        "#백준 1913 달팽이"
      ],
      "metadata": {
        "id": "Rz2cJAiQe2Mv"
      }
    },
    {
      "cell_type": "code",
      "source": [
        "n=int(input())\n",
        "n_list=[0 for x in range(0,n)]\n",
        "for i in range(n):\n",
        "  n_list[i]=[0 for x in range(0,n)]\n",
        "target=int(input())\n",
        "\n",
        "number=1\n",
        "x=y=int(n/2)\n",
        "n_list[x][y]=number\n",
        "number+=1\n",
        "howtogo=[-1,1]\n",
        "htgindex=0 #howtogo 번갈아 쓰려고\n",
        "\n",
        "\n",
        "for i in range(1,n):\n",
        "      for j in range(1, i+1):\n",
        "           y+=howtogo[htgindex]\n",
        "           n_list[x][y]=number\n",
        "           number+=1\n",
        "      if htgindex==0 :htgindex=1\n",
        "      else: htgindex=0\n",
        "\n",
        "      for j in range(1, i+1):\n",
        "            x+=howtogo[htgindex]\n",
        "            n_list[x][y]=number\n",
        "            number+=1\n",
        "        \n",
        "    \n",
        "for j in range(1, n):#n번 올라가기 \n",
        "            y+=howtogo[htgindex]\n",
        "            n_list[x][y]=number\n",
        "            number+=1\n",
        "            \n",
        "#출력\n",
        "for i in range(n):\n",
        "    for j in range(n):\n",
        "        print(n_list[j][i], end=\" \")\n",
        "        if n_list[j][i]==target:\n",
        "          dx,dy=i+1,j+1\n",
        "    print()\n",
        "\n",
        "print(dx,dy)"
      ],
      "metadata": {
        "cellView": "code",
        "id": "lUlXCNnISsE-",
        "outputId": "85681b90-b12c-42c4-9fb1-810ee755c6a7",
        "colab": {
          "base_uri": "https://localhost:8080/"
        }
      },
      "execution_count": 61,
      "outputs": [
        {
          "output_type": "stream",
          "name": "stdout",
          "text": [
            "7\n",
            "35\n",
            "49 26 27 28 29 30 31 \n",
            "48 25 10 11 12 13 32 \n",
            "47 24 9 2 3 14 33 \n",
            "46 23 8 1 4 15 34 \n",
            "45 22 7 6 5 16 35 \n",
            "44 21 20 19 18 17 36 \n",
            "43 42 41 40 39 38 37 \n",
            "5 7\n"
          ]
        }
      ]
    },
    {
      "cell_type": "markdown",
      "source": [
        "#백준 최대최소2"
      ],
      "metadata": {
        "id": "kJCMZBBAe-Vw"
      }
    },
    {
      "cell_type": "code",
      "source": [
        "t=int(input())\n",
        "for i in range(t):\n",
        "    n=int(input())\n",
        "    n_list=list(map(int, input().split()))\n",
        "    n_list.sort()\n",
        "    print(n_list[0], n_list[n-1])"
      ],
      "metadata": {
        "id": "nhW03A3-fI1q",
        "outputId": "d5ed7498-0c93-4dff-b67e-5e939aa37c60",
        "colab": {
          "base_uri": "https://localhost:8080/"
        }
      },
      "execution_count": 62,
      "outputs": [
        {
          "output_type": "stream",
          "name": "stdout",
          "text": [
            "3\n",
            "5\n",
            "20 28 72 53 1\n",
            "1 72\n",
            "6\n",
            "23 45 67 52 36 54\n",
            "23 67\n",
            "1\n",
            "3\n",
            "3 3\n"
          ]
        }
      ]
    }
  ],
  "metadata": {
    "colab": {
      "name": "Colaboratory에 오신 것을 환영합니다",
      "toc_visible": true,
      "provenance": [],
      "include_colab_link": true
    },
    "kernelspec": {
      "display_name": "Python 3",
      "name": "python3"
    }
  },
  "nbformat": 4,
  "nbformat_minor": 0
}
