{
  "nbformat": 4,
  "nbformat_minor": 0,
  "metadata": {
    "colab": {
      "provenance": [],
      "toc_visible": true,
      "authorship_tag": "ABX9TyPIXSA6q2bI+c4A4ge7hK9o",
      "include_colab_link": true
    },
    "kernelspec": {
      "name": "python3",
      "display_name": "Python 3"
    },
    "language_info": {
      "name": "python"
    }
  },
  "cells": [
    {
      "cell_type": "markdown",
      "metadata": {
        "id": "view-in-github",
        "colab_type": "text"
      },
      "source": [
        "<a href=\"https://colab.research.google.com/github/pmj-chosim/Commit-Project-2023.1.20-2023.2.28-/blob/main/2023.02.14/1016%262163%263046%261063.ipynb\" target=\"_parent\"><img src=\"https://colab.research.google.com/assets/colab-badge.svg\" alt=\"Open In Colab\"/></a>"
      ]
    },
    {
      "cell_type": "markdown",
      "source": [
        "#1016 제곱ㄴㄴ수(골드1)"
      ],
      "metadata": {
        "id": "O4AmlA2n8IRX"
      }
    },
    {
      "cell_type": "code",
      "source": [
        "min, max = map(int, input().split())\n",
        "n_list=[1]*(max-min+1)\n",
        "for i in range(2, int(max**0.5+1)):\n",
        "  mege=i*i\n",
        "  start=(min//mege)*mege\n",
        "  if start<min:\n",
        "    start+=mege\n",
        "  for j in range(start, max+1,mege):\n",
        "    n_list[j-min]=0\n",
        "\n",
        "count=n_list.count(1)\n",
        "print(count)"
      ],
      "metadata": {
        "colab": {
          "base_uri": "https://localhost:8080/"
        },
        "id": "VOET9iKN8ICu",
        "outputId": "27994a2b-6089-4a83-8eb5-14b4f9545616"
      },
      "execution_count": 12,
      "outputs": [
        {
          "output_type": "stream",
          "name": "stdout",
          "text": [
            "1 1000\n",
            "608\n"
          ]
        }
      ]
    },
    {
      "cell_type": "markdown",
      "source": [
        "#2163 초콜릿 자르기(브론즈 1)"
      ],
      "metadata": {
        "id": "qYLlKEbc_ppV"
      }
    },
    {
      "cell_type": "code",
      "source": [
        "n,m=map(int,input().split())\n",
        "\n",
        "#자르는 횟수: (n-1)+(m-1)*n=nm-1\n",
        "print(n*m-1)"
      ],
      "metadata": {
        "colab": {
          "base_uri": "https://localhost:8080/"
        },
        "id": "YrWLB4ud_v94",
        "outputId": "b2a4475e-e27f-4b43-fbd5-9938ddae0ba9"
      },
      "execution_count": 5,
      "outputs": [
        {
          "output_type": "stream",
          "name": "stdout",
          "text": [
            "2 2\n",
            "3\n"
          ]
        }
      ]
    },
    {
      "cell_type": "markdown",
      "source": [
        "#3046 r2(브론즈 4)"
      ],
      "metadata": {
        "id": "pQDyQQ-mAcul"
      }
    },
    {
      "cell_type": "code",
      "source": [
        "r1, s=map(int, input().split())\n",
        "print(2*s-r1)"
      ],
      "metadata": {
        "colab": {
          "base_uri": "https://localhost:8080/"
        },
        "id": "13_hfsIIAdqG",
        "outputId": "303d2821-1d0c-4a86-b6a7-188c8a3e6f20"
      },
      "execution_count": 6,
      "outputs": [
        {
          "output_type": "stream",
          "name": "stdout",
          "text": [
            "10 15\n",
            "20\n"
          ]
        }
      ]
    },
    {
      "cell_type": "markdown",
      "source": [
        "#1063 소인수분해(브론즈 1)"
      ],
      "metadata": {
        "id": "ijLsMSmEB0Pm"
      }
    },
    {
      "cell_type": "code",
      "source": [
        "num=int(input())\n",
        "\n",
        "while(num>1):\n",
        "    for i in range(2,num+1):\n",
        "        if num%i==0:\n",
        "            print(i)\n",
        "            num=int(num/i)\n",
        "            break"
      ],
      "metadata": {
        "colab": {
          "base_uri": "https://localhost:8080/"
        },
        "id": "5Dwb5O1yB3Ls",
        "outputId": "e07337f2-67c3-4861-d661-4cec48a8f1d5"
      },
      "execution_count": 7,
      "outputs": [
        {
          "output_type": "stream",
          "name": "stdout",
          "text": [
            "72\n",
            "2\n",
            "2\n",
            "2\n",
            "3\n",
            "3\n"
          ]
        }
      ]
    }
  ]
}