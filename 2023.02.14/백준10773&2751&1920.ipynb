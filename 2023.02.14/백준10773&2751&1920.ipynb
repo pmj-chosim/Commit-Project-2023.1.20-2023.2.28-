{
  "nbformat": 4,
  "nbformat_minor": 0,
  "metadata": {
    "colab": {
      "provenance": [],
      "authorship_tag": "ABX9TyME+UXZztShqrwcmOy0uPK3",
      "include_colab_link": true
    },
    "kernelspec": {
      "name": "python3",
      "display_name": "Python 3"
    },
    "language_info": {
      "name": "python"
    }
  },
  "cells": [
    {
      "cell_type": "markdown",
      "metadata": {
        "id": "view-in-github",
        "colab_type": "text"
      },
      "source": [
        "<a href=\"https://colab.research.google.com/github/pmj-chosim/Commit-Project-2023.1.20-2023.2.28-/blob/main/2023.02.14/%EB%B0%B1%EC%A4%8010773%262751%261920.ipynb\" target=\"_parent\"><img src=\"https://colab.research.google.com/assets/colab-badge.svg\" alt=\"Open In Colab\"/></a>"
      ]
    },
    {
      "cell_type": "markdown",
      "source": [
        "#10773 제로"
      ],
      "metadata": {
        "id": "udRLil_t7kE9"
      }
    },
    {
      "cell_type": "code",
      "execution_count": 2,
      "metadata": {
        "colab": {
          "base_uri": "https://localhost:8080/"
        },
        "id": "YDT4OREU7Xrl",
        "outputId": "91879d1a-2e56-4152-9334-596e67ebbbf5"
      },
      "outputs": [
        {
          "output_type": "stream",
          "name": "stdout",
          "text": [
            "4\n",
            "3\n",
            "0\n",
            "4\n",
            "0\n",
            "0\n"
          ]
        }
      ],
      "source": [
        "n=int(input())\n",
        "n_list=[]\n",
        "for i in range(n):\n",
        "    mege=int(input())\n",
        "    if mege!=0:\n",
        "        n_list.append(mege)\n",
        "    else:\n",
        "        trash=n_list.pop()\n",
        "print(sum(n_list))   "
      ]
    },
    {
      "cell_type": "markdown",
      "source": [
        "#2751 수 정렬하기 2"
      ],
      "metadata": {
        "id": "-aTVhdBf75ei"
      }
    },
    {
      "cell_type": "code",
      "source": [
        "n=int(input())\n",
        "n_list=[0]*2000001\n",
        "\n",
        "for i in range(n):\n",
        "    n_list[int(input())+1000000]+=1\n",
        "    \n",
        "\n",
        "for i in range(2000001):\n",
        "    if n_list[i]==1:\n",
        "        print(i-1000000)"
      ],
      "metadata": {
        "colab": {
          "base_uri": "https://localhost:8080/"
        },
        "id": "JL5lGR7i8Aey",
        "outputId": "ffc8af24-d75c-49bf-ee85-aadae6f10b73"
      },
      "execution_count": 3,
      "outputs": [
        {
          "output_type": "stream",
          "name": "stdout",
          "text": [
            "5\n",
            "5\n",
            "4\n",
            "3\n",
            "2\n",
            "1\n",
            "1\n",
            "2\n",
            "3\n",
            "4\n",
            "5\n"
          ]
        }
      ]
    },
    {
      "cell_type": "markdown",
      "source": [
        "#1920 수찾기"
      ],
      "metadata": {
        "id": "F47Abe4D8Lc3"
      }
    },
    {
      "cell_type": "code",
      "source": [
        "n=int(input())\n",
        "first=list(map(int, input().split()))\n",
        "first.sort()\n",
        "m=int(input())\n",
        "second=list(map(int, input().split()))\n",
        "\n",
        "for i in second:\n",
        "    print(int(i in first))"
      ],
      "metadata": {
        "colab": {
          "base_uri": "https://localhost:8080/"
        },
        "id": "6uut60kI8One",
        "outputId": "69f936d0-15f5-499b-e14c-3c310fd952ee"
      },
      "execution_count": 4,
      "outputs": [
        {
          "output_type": "stream",
          "name": "stdout",
          "text": [
            "5\n",
            "4 1 5 2 3\n",
            "5\n",
            "1 3 7 9 5\n",
            "1\n",
            "1\n",
            "0\n",
            "0\n",
            "1\n"
          ]
        }
      ]
    }
  ]
}