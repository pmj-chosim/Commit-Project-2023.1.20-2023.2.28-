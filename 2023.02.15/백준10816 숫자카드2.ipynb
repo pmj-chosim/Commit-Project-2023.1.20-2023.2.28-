{
  "nbformat": 4,
  "nbformat_minor": 0,
  "metadata": {
    "colab": {
      "provenance": [],
      "authorship_tag": "ABX9TyMmfcFoUm8XSe6YnOIXi/9+",
      "include_colab_link": true
    },
    "kernelspec": {
      "name": "python3",
      "display_name": "Python 3"
    },
    "language_info": {
      "name": "python"
    }
  },
  "cells": [
    {
      "cell_type": "markdown",
      "metadata": {
        "id": "view-in-github",
        "colab_type": "text"
      },
      "source": [
        "<a href=\"https://colab.research.google.com/github/pmj-chosim/Commit-Project-2023.1.20-2023.2.28-/blob/main/2023.02.15/%EB%B0%B1%EC%A4%8010816%20%EC%88%AB%EC%9E%90%EC%B9%B4%EB%93%9C2.ipynb\" target=\"_parent\"><img src=\"https://colab.research.google.com/assets/colab-badge.svg\" alt=\"Open In Colab\"/></a>"
      ]
    },
    {
      "cell_type": "markdown",
      "source": [
        "백준10816 숫자카드2 - 실버 4"
      ],
      "metadata": {
        "id": "oPwjwSUhPbUf"
      }
    },
    {
      "cell_type": "code",
      "execution_count": 1,
      "metadata": {
        "colab": {
          "base_uri": "https://localhost:8080/"
        },
        "id": "GXWSWnI8POJ5",
        "outputId": "aa5d2507-5d27-4f6c-949d-4b149d169598"
      },
      "outputs": [
        {
          "output_type": "stream",
          "name": "stdout",
          "text": [
            "6\n",
            "-3 -3 2 2 2 1\n",
            "4\n",
            "0 1 -3 2\n",
            "0 1 2 3 "
          ]
        }
      ],
      "source": [
        "n=int(input())\n",
        "n_count=[0]*20000001\n",
        "mege=list(map(int, input().split()))\n",
        "for i in mege:\n",
        "    n_count[i]+=1\n",
        "m=int(input())\n",
        "n_list=list(map(int, input().split()))\n",
        "for i in n_list:\n",
        "    print(n_count[i],end=\" \")"
      ]
    }
  ]
}