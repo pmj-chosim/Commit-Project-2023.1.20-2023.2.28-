n=int(input())
n_count=[0]*20000001
mege=list(map(int, input().split()))
for i in mege:
    n_count[i]+=1
m=int(input())
n_list=list(map(int, input().split()))
for i in n_list:
    print(n_count[i],end=" ")