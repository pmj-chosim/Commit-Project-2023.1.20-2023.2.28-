{
  "cells": [
    {
      "cell_type": "markdown",
      "metadata": {
        "id": "view-in-github",
        "colab_type": "text"
      },
      "source": [
        "<a href=\"https://colab.research.google.com/github/pmj-chosim/Commit-Project-2023.1.20-2023.2.28-/blob/main/2023.02.20/colabturtleplaying.ipynb\" target=\"_parent\"><img src=\"https://colab.research.google.com/assets/colab-badge.svg\" alt=\"Open In Colab\"/></a>"
      ]
    },
    {
      "cell_type": "markdown",
      "source": [
        "#colabturtleplaying.ipynb\n",
        "reference : https://github.com/tolgaatam/ColabTurtle"
      ],
      "metadata": {
        "id": "KCf3GHLFpnm8"
      }
    },
    {
      "cell_type": "code",
      "source": [
        "!pip install ColabTurtle"
      ],
      "metadata": {
        "colab": {
          "base_uri": "https://localhost:8080/"
        },
        "id": "BKb785tAjtbr",
        "outputId": "9253def2-2b7b-45a8-a5d9-50fc0def6d21"
      },
      "execution_count": 4,
      "outputs": [
        {
          "output_type": "stream",
          "name": "stdout",
          "text": [
            "Looking in indexes: https://pypi.org/simple, https://us-python.pkg.dev/colab-wheels/public/simple/\n",
            "Collecting ColabTurtle\n",
            "  Using cached ColabTurtle-2.1.0-py3-none-any.whl\n",
            "Installing collected packages: ColabTurtle\n",
            "Successfully installed ColabTurtle-2.1.0\n"
          ]
        }
      ]
    },
    {
      "cell_type": "code",
      "source": [
        "from ColabTurtle.Turtle import *\n",
        "initializeTurtle()"
      ],
      "metadata": {
        "colab": {
          "base_uri": "https://localhost:8080/",
          "height": 520
        },
        "id": "VQ-y6nXEkcTY",
        "outputId": "2bcb16cc-a1b1-47b1-a387-c8ad87746493"
      },
      "execution_count": 14,
      "outputs": [
        {
          "output_type": "display_data",
          "data": {
            "text/plain": [
              "<IPython.core.display.HTML object>"
            ],
            "text/html": [
              "\n",
              "      <svg width=\"800\" height=\"500\">\n",
              "        <rect width=\"100%\" height=\"100%\" fill=\"black\"/>\n",
              "        \n",
              "        <g visibility=visible transform=\"rotate(360,400,250) translate(382, 232)\">\n",
              "<path style=\" stroke:none;fill-rule:evenodd;fill:white;fill-opacity:1;\" d=\"M 18.214844 0.632812 C 16.109375 1.800781 15.011719 4.074219 15.074219 7.132812 L 15.085938 7.652344 L 14.785156 7.496094 C 13.476562 6.824219 11.957031 6.671875 10.40625 7.066406 C 8.46875 7.550781 6.515625 9.15625 4.394531 11.992188 C 3.0625 13.777344 2.679688 14.636719 3.042969 15.027344 L 3.15625 15.152344 L 3.519531 15.152344 C 4.238281 15.152344 4.828125 14.886719 8.1875 13.039062 C 9.386719 12.378906 10.371094 11.839844 10.378906 11.839844 C 10.386719 11.839844 10.355469 11.929688 10.304688 12.035156 C 9.832031 13.09375 9.257812 14.820312 8.96875 16.078125 C 7.914062 20.652344 8.617188 24.53125 11.070312 27.660156 C 11.351562 28.015625 11.363281 27.914062 10.972656 28.382812 C 8.925781 30.84375 7.945312 33.28125 8.238281 35.1875 C 8.289062 35.527344 8.28125 35.523438 8.917969 35.523438 C 10.941406 35.523438 13.074219 34.207031 15.136719 31.6875 C 15.359375 31.417969 15.328125 31.425781 15.5625 31.574219 C 16.292969 32.042969 18.023438 32.964844 18.175781 32.964844 C 18.335938 32.964844 19.941406 32.210938 20.828125 31.71875 C 20.996094 31.625 21.136719 31.554688 21.136719 31.558594 C 21.203125 31.664062 21.898438 32.414062 22.222656 32.730469 C 23.835938 34.300781 25.5625 35.132812 27.582031 35.300781 C 27.90625 35.328125 27.9375 35.308594 28.007812 34.984375 C 28.382812 33.242188 27.625 30.925781 25.863281 28.425781 L 25.542969 27.96875 L 25.699219 27.785156 C 28.945312 23.960938 29.132812 18.699219 26.257812 11.96875 L 26.207031 11.84375 L 27.945312 12.703125 C 31.53125 14.476562 32.316406 14.800781 33.03125 14.800781 C 33.976562 14.800781 33.78125 13.9375 32.472656 12.292969 C 28.519531 7.355469 25.394531 5.925781 21.921875 7.472656 L 21.558594 7.636719 L 21.578125 7.542969 C 21.699219 6.992188 21.761719 5.742188 21.699219 5.164062 C 21.496094 3.296875 20.664062 1.964844 19.003906 0.855469 C 18.480469 0.503906 18.457031 0.5 18.214844 0.632812\"/>\n",
              "</g>\n",
              "      </svg>\n",
              "    "
            ]
          },
          "metadata": {}
        }
      ]
    },
    {
      "cell_type": "code",
      "source": [
        "forward(100)\n",
        "right(90)\n",
        "forward(100)\n",
        "right(90)\n",
        "forward(100)\n"
      ],
      "metadata": {
        "colab": {
          "base_uri": "https://localhost:8080/",
          "height": 520
        },
        "id": "33_cHVHJko1j",
        "outputId": "ac4b82d4-80e4-4a6b-a68a-d7b5515bda29"
      },
      "execution_count": 15,
      "outputs": [
        {
          "output_type": "display_data",
          "data": {
            "text/plain": [
              "<IPython.core.display.HTML object>"
            ],
            "text/html": [
              "\n",
              "      <svg width=\"800\" height=\"500\">\n",
              "        <rect width=\"100%\" height=\"100%\" fill=\"black\"/>\n",
              "        <line x1=\"400\" y1=\"250\" x2=\"400.0\" y2=\"150.0\" stroke-linecap=\"round\" style=\"stroke:white;stroke-width:4\"/><line x1=\"400.0\" y1=\"150.0\" x2=\"500.0\" y2=\"150.0\" stroke-linecap=\"round\" style=\"stroke:white;stroke-width:4\"/><line x1=\"500.0\" y1=\"150.0\" x2=\"500.0\" y2=\"250.0\" stroke-linecap=\"round\" style=\"stroke:white;stroke-width:4\"/>\n",
              "        <g visibility=visible transform=\"rotate(180,500.0,250.0) translate(482.0, 232.0)\">\n",
              "<path style=\" stroke:none;fill-rule:evenodd;fill:white;fill-opacity:1;\" d=\"M 18.214844 0.632812 C 16.109375 1.800781 15.011719 4.074219 15.074219 7.132812 L 15.085938 7.652344 L 14.785156 7.496094 C 13.476562 6.824219 11.957031 6.671875 10.40625 7.066406 C 8.46875 7.550781 6.515625 9.15625 4.394531 11.992188 C 3.0625 13.777344 2.679688 14.636719 3.042969 15.027344 L 3.15625 15.152344 L 3.519531 15.152344 C 4.238281 15.152344 4.828125 14.886719 8.1875 13.039062 C 9.386719 12.378906 10.371094 11.839844 10.378906 11.839844 C 10.386719 11.839844 10.355469 11.929688 10.304688 12.035156 C 9.832031 13.09375 9.257812 14.820312 8.96875 16.078125 C 7.914062 20.652344 8.617188 24.53125 11.070312 27.660156 C 11.351562 28.015625 11.363281 27.914062 10.972656 28.382812 C 8.925781 30.84375 7.945312 33.28125 8.238281 35.1875 C 8.289062 35.527344 8.28125 35.523438 8.917969 35.523438 C 10.941406 35.523438 13.074219 34.207031 15.136719 31.6875 C 15.359375 31.417969 15.328125 31.425781 15.5625 31.574219 C 16.292969 32.042969 18.023438 32.964844 18.175781 32.964844 C 18.335938 32.964844 19.941406 32.210938 20.828125 31.71875 C 20.996094 31.625 21.136719 31.554688 21.136719 31.558594 C 21.203125 31.664062 21.898438 32.414062 22.222656 32.730469 C 23.835938 34.300781 25.5625 35.132812 27.582031 35.300781 C 27.90625 35.328125 27.9375 35.308594 28.007812 34.984375 C 28.382812 33.242188 27.625 30.925781 25.863281 28.425781 L 25.542969 27.96875 L 25.699219 27.785156 C 28.945312 23.960938 29.132812 18.699219 26.257812 11.96875 L 26.207031 11.84375 L 27.945312 12.703125 C 31.53125 14.476562 32.316406 14.800781 33.03125 14.800781 C 33.976562 14.800781 33.78125 13.9375 32.472656 12.292969 C 28.519531 7.355469 25.394531 5.925781 21.921875 7.472656 L 21.558594 7.636719 L 21.578125 7.542969 C 21.699219 6.992188 21.761719 5.742188 21.699219 5.164062 C 21.496094 3.296875 20.664062 1.964844 19.003906 0.855469 C 18.480469 0.503906 18.457031 0.5 18.214844 0.632812\"/>\n",
              "</g>\n",
              "      </svg>\n",
              "    "
            ]
          },
          "metadata": {}
        }
      ]
    },
    {
      "cell_type": "code",
      "source": [
        "from ColabTurtle.Turtle import *\n",
        "\n",
        "# Create a turtle object\n",
        "initializeTurtle()\n",
        "\n",
        "# Set the turtle color\n",
        "color('blue')\n",
        "\n",
        "\n",
        "for x in range (1,5):\n",
        "    left(45)\n",
        "    forward(90/x)\n",
        "    right(45)\n",
        "    forward(45/x)\n",
        "    right(45)\n",
        "    forward(90/x)\n",
        "    right(45)\n",
        "    forward(45/x)\n",
        "    right(45)\n",
        "    forward(245/x)\n",
        "    right(90)\n",
        "    forward(245/x)\n",
        "    right(45)\n",
        "    forward(45/x)\n",
        "    right(45)\n",
        "    forward(90/x)\n",
        "    right(45)\n",
        "    forward(45/x)\n",
        "    right(45)\n",
        "    forward(90/x)\n",
        "    right(45)\n",
        "    penup()\n",
        "    forward(30/x)\n",
        "    left(90)\n",
        "    pendown()\n"
      ],
      "metadata": {
        "colab": {
          "base_uri": "https://localhost:8080/",
          "height": 520
        },
        "id": "ECJ95JTZjVeM",
        "outputId": "0af262b7-0a8d-4fc5-9f61-8ae4ddcf83cc"
      },
      "execution_count": 25,
      "outputs": [
        {
          "output_type": "display_data",
          "data": {
            "text/plain": [
              "<IPython.core.display.HTML object>"
            ],
            "text/html": [
              "\n",
              "      <svg width=\"800\" height=\"500\">\n",
              "        <rect width=\"100%\" height=\"100%\" fill=\"black\"/>\n",
              "        <line x1=\"400\" y1=\"250\" x2=\"336.36\" y2=\"186.36\" stroke-linecap=\"round\" style=\"stroke:blue;stroke-width:4\"/><line x1=\"336.36\" y1=\"186.36\" x2=\"336.36\" y2=\"141.36\" stroke-linecap=\"round\" style=\"stroke:blue;stroke-width:4\"/><line x1=\"336.36\" y1=\"141.36\" x2=\"400.0\" y2=\"77.72\" stroke-linecap=\"round\" style=\"stroke:blue;stroke-width:4\"/><line x1=\"400.0\" y1=\"77.72\" x2=\"445.0\" y2=\"77.72\" stroke-linecap=\"round\" style=\"stroke:blue;stroke-width:4\"/><line x1=\"445.0\" y1=\"77.72\" x2=\"618.241\" y2=\"250.961\" stroke-linecap=\"round\" style=\"stroke:blue;stroke-width:4\"/><line x1=\"618.241\" y1=\"250.961\" x2=\"445.0\" y2=\"424.202\" stroke-linecap=\"round\" style=\"stroke:blue;stroke-width:4\"/><line x1=\"445.0\" y1=\"424.202\" x2=\"400.0\" y2=\"424.202\" stroke-linecap=\"round\" style=\"stroke:blue;stroke-width:4\"/><line x1=\"400.0\" y1=\"424.202\" x2=\"336.36\" y2=\"360.562\" stroke-linecap=\"round\" style=\"stroke:blue;stroke-width:4\"/><line x1=\"336.36\" y1=\"360.562\" x2=\"336.36\" y2=\"315.562\" stroke-linecap=\"round\" style=\"stroke:blue;stroke-width:4\"/><line x1=\"336.36\" y1=\"315.562\" x2=\"400.0\" y2=\"251.922\" stroke-linecap=\"round\" style=\"stroke:blue;stroke-width:4\"/><line x1=\"430.0\" y1=\"251.922\" x2=\"398.18\" y2=\"220.102\" stroke-linecap=\"round\" style=\"stroke:blue;stroke-width:4\"/><line x1=\"398.18\" y1=\"220.102\" x2=\"398.18\" y2=\"197.602\" stroke-linecap=\"round\" style=\"stroke:blue;stroke-width:4\"/><line x1=\"398.18\" y1=\"197.602\" x2=\"430.0\" y2=\"165.782\" stroke-linecap=\"round\" style=\"stroke:blue;stroke-width:4\"/><line x1=\"430.0\" y1=\"165.782\" x2=\"452.5\" y2=\"165.782\" stroke-linecap=\"round\" style=\"stroke:blue;stroke-width:4\"/><line x1=\"452.5\" y1=\"165.782\" x2=\"539.121\" y2=\"252.403\" stroke-linecap=\"round\" style=\"stroke:blue;stroke-width:4\"/><line x1=\"539.121\" y1=\"252.403\" x2=\"452.5\" y2=\"339.024\" stroke-linecap=\"round\" style=\"stroke:blue;stroke-width:4\"/><line x1=\"452.5\" y1=\"339.024\" x2=\"430.0\" y2=\"339.024\" stroke-linecap=\"round\" style=\"stroke:blue;stroke-width:4\"/><line x1=\"430.0\" y1=\"339.024\" x2=\"398.18\" y2=\"307.204\" stroke-linecap=\"round\" style=\"stroke:blue;stroke-width:4\"/><line x1=\"398.18\" y1=\"307.204\" x2=\"398.18\" y2=\"284.704\" stroke-linecap=\"round\" style=\"stroke:blue;stroke-width:4\"/><line x1=\"398.18\" y1=\"284.704\" x2=\"430.0\" y2=\"252.884\" stroke-linecap=\"round\" style=\"stroke:blue;stroke-width:4\"/><line x1=\"445.0\" y1=\"252.884\" x2=\"423.787\" y2=\"231.671\" stroke-linecap=\"round\" style=\"stroke:blue;stroke-width:4\"/><line x1=\"423.787\" y1=\"231.671\" x2=\"423.787\" y2=\"216.671\" stroke-linecap=\"round\" style=\"stroke:blue;stroke-width:4\"/><line x1=\"423.787\" y1=\"216.671\" x2=\"445.0\" y2=\"195.458\" stroke-linecap=\"round\" style=\"stroke:blue;stroke-width:4\"/><line x1=\"445.0\" y1=\"195.458\" x2=\"460.0\" y2=\"195.458\" stroke-linecap=\"round\" style=\"stroke:blue;stroke-width:4\"/><line x1=\"460.0\" y1=\"195.458\" x2=\"517.747\" y2=\"253.205\" stroke-linecap=\"round\" style=\"stroke:blue;stroke-width:4\"/><line x1=\"517.747\" y1=\"253.205\" x2=\"460.0\" y2=\"310.952\" stroke-linecap=\"round\" style=\"stroke:blue;stroke-width:4\"/><line x1=\"460.0\" y1=\"310.952\" x2=\"445.0\" y2=\"310.952\" stroke-linecap=\"round\" style=\"stroke:blue;stroke-width:4\"/><line x1=\"445.0\" y1=\"310.952\" x2=\"423.787\" y2=\"289.739\" stroke-linecap=\"round\" style=\"stroke:blue;stroke-width:4\"/><line x1=\"423.787\" y1=\"289.739\" x2=\"423.787\" y2=\"274.739\" stroke-linecap=\"round\" style=\"stroke:blue;stroke-width:4\"/><line x1=\"423.787\" y1=\"274.739\" x2=\"445.0\" y2=\"253.526\" stroke-linecap=\"round\" style=\"stroke:blue;stroke-width:4\"/><line x1=\"455.0\" y1=\"253.526\" x2=\"439.09\" y2=\"237.616\" stroke-linecap=\"round\" style=\"stroke:blue;stroke-width:4\"/><line x1=\"439.09\" y1=\"237.616\" x2=\"439.09\" y2=\"226.366\" stroke-linecap=\"round\" style=\"stroke:blue;stroke-width:4\"/><line x1=\"439.09\" y1=\"226.366\" x2=\"455.0\" y2=\"210.456\" stroke-linecap=\"round\" style=\"stroke:blue;stroke-width:4\"/><line x1=\"455.0\" y1=\"210.456\" x2=\"466.25\" y2=\"210.456\" stroke-linecap=\"round\" style=\"stroke:blue;stroke-width:4\"/><line x1=\"466.25\" y1=\"210.456\" x2=\"509.56\" y2=\"253.766\" stroke-linecap=\"round\" style=\"stroke:blue;stroke-width:4\"/><line x1=\"509.56\" y1=\"253.766\" x2=\"466.25\" y2=\"297.076\" stroke-linecap=\"round\" style=\"stroke:blue;stroke-width:4\"/><line x1=\"466.25\" y1=\"297.076\" x2=\"455.0\" y2=\"297.076\" stroke-linecap=\"round\" style=\"stroke:blue;stroke-width:4\"/><line x1=\"455.0\" y1=\"297.076\" x2=\"439.09\" y2=\"281.166\" stroke-linecap=\"round\" style=\"stroke:blue;stroke-width:4\"/><line x1=\"439.09\" y1=\"281.166\" x2=\"439.09\" y2=\"269.916\" stroke-linecap=\"round\" style=\"stroke:blue;stroke-width:4\"/><line x1=\"439.09\" y1=\"269.916\" x2=\"455.0\" y2=\"254.006\" stroke-linecap=\"round\" style=\"stroke:blue;stroke-width:4\"/>\n",
              "        <g visibility=visible transform=\"rotate(360,462.5,254.006) translate(444.5, 236.006)\">\n",
              "<path style=\" stroke:none;fill-rule:evenodd;fill:blue;fill-opacity:1;\" d=\"M 18.214844 0.632812 C 16.109375 1.800781 15.011719 4.074219 15.074219 7.132812 L 15.085938 7.652344 L 14.785156 7.496094 C 13.476562 6.824219 11.957031 6.671875 10.40625 7.066406 C 8.46875 7.550781 6.515625 9.15625 4.394531 11.992188 C 3.0625 13.777344 2.679688 14.636719 3.042969 15.027344 L 3.15625 15.152344 L 3.519531 15.152344 C 4.238281 15.152344 4.828125 14.886719 8.1875 13.039062 C 9.386719 12.378906 10.371094 11.839844 10.378906 11.839844 C 10.386719 11.839844 10.355469 11.929688 10.304688 12.035156 C 9.832031 13.09375 9.257812 14.820312 8.96875 16.078125 C 7.914062 20.652344 8.617188 24.53125 11.070312 27.660156 C 11.351562 28.015625 11.363281 27.914062 10.972656 28.382812 C 8.925781 30.84375 7.945312 33.28125 8.238281 35.1875 C 8.289062 35.527344 8.28125 35.523438 8.917969 35.523438 C 10.941406 35.523438 13.074219 34.207031 15.136719 31.6875 C 15.359375 31.417969 15.328125 31.425781 15.5625 31.574219 C 16.292969 32.042969 18.023438 32.964844 18.175781 32.964844 C 18.335938 32.964844 19.941406 32.210938 20.828125 31.71875 C 20.996094 31.625 21.136719 31.554688 21.136719 31.558594 C 21.203125 31.664062 21.898438 32.414062 22.222656 32.730469 C 23.835938 34.300781 25.5625 35.132812 27.582031 35.300781 C 27.90625 35.328125 27.9375 35.308594 28.007812 34.984375 C 28.382812 33.242188 27.625 30.925781 25.863281 28.425781 L 25.542969 27.96875 L 25.699219 27.785156 C 28.945312 23.960938 29.132812 18.699219 26.257812 11.96875 L 26.207031 11.84375 L 27.945312 12.703125 C 31.53125 14.476562 32.316406 14.800781 33.03125 14.800781 C 33.976562 14.800781 33.78125 13.9375 32.472656 12.292969 C 28.519531 7.355469 25.394531 5.925781 21.921875 7.472656 L 21.558594 7.636719 L 21.578125 7.542969 C 21.699219 6.992188 21.761719 5.742188 21.699219 5.164062 C 21.496094 3.296875 20.664062 1.964844 19.003906 0.855469 C 18.480469 0.503906 18.457031 0.5 18.214844 0.632812\"/>\n",
              "</g>\n",
              "      </svg>\n",
              "    "
            ]
          },
          "metadata": {}
        }
      ]
    },
    {
      "cell_type": "code",
      "source": [
        "initializeTurtle()\n",
        "pensize(3)\n",
        "hideturtle()\n",
        "\n",
        "def curve():\n",
        "    for i in range(100):\n",
        "        right(2)\n",
        "        forward(2)\n",
        "\n",
        "left(140)\n",
        "forward(111)\n",
        "curve()\n",
        "\n",
        "left(120)\n",
        "curve()\n",
        "forward(111)"
      ],
      "metadata": {
        "colab": {
          "base_uri": "https://localhost:8080/",
          "height": 520
        },
        "id": "TSFnyDX2ne63",
        "outputId": "929f0db4-739d-4b77-8f2c-46590eb18b18"
      },
      "execution_count": 26,
      "outputs": [
        {
          "output_type": "display_data",
          "data": {
            "text/plain": [
              "<IPython.core.display.HTML object>"
            ],
            "text/html": [
              "\n",
              "      <svg width=\"800\" height=\"500\">\n",
              "        <rect width=\"100%\" height=\"100%\" fill=\"black\"/>\n",
              "        <line x1=\"400\" y1=\"250\" x2=\"328.651\" y2=\"335.031\" stroke-linecap=\"round\" style=\"stroke:white;stroke-width:3\"/><line x1=\"328.651\" y1=\"335.031\" x2=\"327.313\" y2=\"336.517\" stroke-linecap=\"round\" style=\"stroke:white;stroke-width:3\"/><line x1=\"327.313\" y1=\"336.517\" x2=\"325.924\" y2=\"337.956\" stroke-linecap=\"round\" style=\"stroke:white;stroke-width:3\"/><line x1=\"325.924\" y1=\"337.956\" x2=\"324.485\" y2=\"339.345\" stroke-linecap=\"round\" style=\"stroke:white;stroke-width:3\"/><line x1=\"324.485\" y1=\"339.345\" x2=\"322.999\" y2=\"340.683\" stroke-linecap=\"round\" style=\"stroke:white;stroke-width:3\"/><line x1=\"322.999\" y1=\"340.683\" x2=\"321.467\" y2=\"341.969\" stroke-linecap=\"round\" style=\"stroke:white;stroke-width:3\"/><line x1=\"321.467\" y1=\"341.969\" x2=\"319.891\" y2=\"343.2\" stroke-linecap=\"round\" style=\"stroke:white;stroke-width:3\"/><line x1=\"319.891\" y1=\"343.2\" x2=\"318.273\" y2=\"344.376\" stroke-linecap=\"round\" style=\"stroke:white;stroke-width:3\"/><line x1=\"318.273\" y1=\"344.376\" x2=\"316.615\" y2=\"345.494\" stroke-linecap=\"round\" style=\"stroke:white;stroke-width:3\"/><line x1=\"316.615\" y1=\"345.494\" x2=\"314.919\" y2=\"346.554\" stroke-linecap=\"round\" style=\"stroke:white;stroke-width:3\"/><line x1=\"314.919\" y1=\"346.554\" x2=\"313.187\" y2=\"347.554\" stroke-linecap=\"round\" style=\"stroke:white;stroke-width:3\"/><line x1=\"313.187\" y1=\"347.554\" x2=\"311.421\" y2=\"348.493\" stroke-linecap=\"round\" style=\"stroke:white;stroke-width:3\"/><line x1=\"311.421\" y1=\"348.493\" x2=\"309.623\" y2=\"349.37\" stroke-linecap=\"round\" style=\"stroke:white;stroke-width:3\"/><line x1=\"309.623\" y1=\"349.37\" x2=\"307.796\" y2=\"350.183\" stroke-linecap=\"round\" style=\"stroke:white;stroke-width:3\"/><line x1=\"307.796\" y1=\"350.183\" x2=\"305.942\" y2=\"350.932\" stroke-linecap=\"round\" style=\"stroke:white;stroke-width:3\"/><line x1=\"305.942\" y1=\"350.932\" x2=\"304.063\" y2=\"351.616\" stroke-linecap=\"round\" style=\"stroke:white;stroke-width:3\"/><line x1=\"304.063\" y1=\"351.616\" x2=\"302.161\" y2=\"352.234\" stroke-linecap=\"round\" style=\"stroke:white;stroke-width:3\"/><line x1=\"302.161\" y1=\"352.234\" x2=\"300.238\" y2=\"352.785\" stroke-linecap=\"round\" style=\"stroke:white;stroke-width:3\"/><line x1=\"300.238\" y1=\"352.785\" x2=\"298.297\" y2=\"353.269\" stroke-linecap=\"round\" style=\"stroke:white;stroke-width:3\"/><line x1=\"298.297\" y1=\"353.269\" x2=\"296.341\" y2=\"353.685\" stroke-linecap=\"round\" style=\"stroke:white;stroke-width:3\"/><line x1=\"296.341\" y1=\"353.685\" x2=\"294.371\" y2=\"354.032\" stroke-linecap=\"round\" style=\"stroke:white;stroke-width:3\"/><line x1=\"294.371\" y1=\"354.032\" x2=\"292.39\" y2=\"354.31\" stroke-linecap=\"round\" style=\"stroke:white;stroke-width:3\"/><line x1=\"292.39\" y1=\"354.31\" x2=\"290.401\" y2=\"354.519\" stroke-linecap=\"round\" style=\"stroke:white;stroke-width:3\"/><line x1=\"290.401\" y1=\"354.519\" x2=\"288.406\" y2=\"354.659\" stroke-linecap=\"round\" style=\"stroke:white;stroke-width:3\"/><line x1=\"288.406\" y1=\"354.659\" x2=\"286.407\" y2=\"354.729\" stroke-linecap=\"round\" style=\"stroke:white;stroke-width:3\"/><line x1=\"286.407\" y1=\"354.729\" x2=\"284.407\" y2=\"354.729\" stroke-linecap=\"round\" style=\"stroke:white;stroke-width:3\"/><line x1=\"284.407\" y1=\"354.729\" x2=\"282.408\" y2=\"354.659\" stroke-linecap=\"round\" style=\"stroke:white;stroke-width:3\"/><line x1=\"282.408\" y1=\"354.659\" x2=\"280.413\" y2=\"354.519\" stroke-linecap=\"round\" style=\"stroke:white;stroke-width:3\"/><line x1=\"280.413\" y1=\"354.519\" x2=\"278.424\" y2=\"354.31\" stroke-linecap=\"round\" style=\"stroke:white;stroke-width:3\"/><line x1=\"278.424\" y1=\"354.31\" x2=\"276.443\" y2=\"354.032\" stroke-linecap=\"round\" style=\"stroke:white;stroke-width:3\"/><line x1=\"276.443\" y1=\"354.032\" x2=\"274.473\" y2=\"353.685\" stroke-linecap=\"round\" style=\"stroke:white;stroke-width:3\"/><line x1=\"274.473\" y1=\"353.685\" x2=\"272.517\" y2=\"353.269\" stroke-linecap=\"round\" style=\"stroke:white;stroke-width:3\"/><line x1=\"272.517\" y1=\"353.269\" x2=\"270.576\" y2=\"352.785\" stroke-linecap=\"round\" style=\"stroke:white;stroke-width:3\"/><line x1=\"270.576\" y1=\"352.785\" x2=\"268.653\" y2=\"352.234\" stroke-linecap=\"round\" style=\"stroke:white;stroke-width:3\"/><line x1=\"268.653\" y1=\"352.234\" x2=\"266.751\" y2=\"351.616\" stroke-linecap=\"round\" style=\"stroke:white;stroke-width:3\"/><line x1=\"266.751\" y1=\"351.616\" x2=\"264.872\" y2=\"350.932\" stroke-linecap=\"round\" style=\"stroke:white;stroke-width:3\"/><line x1=\"264.872\" y1=\"350.932\" x2=\"263.018\" y2=\"350.183\" stroke-linecap=\"round\" style=\"stroke:white;stroke-width:3\"/><line x1=\"263.018\" y1=\"350.183\" x2=\"261.191\" y2=\"349.37\" stroke-linecap=\"round\" style=\"stroke:white;stroke-width:3\"/><line x1=\"261.191\" y1=\"349.37\" x2=\"259.393\" y2=\"348.493\" stroke-linecap=\"round\" style=\"stroke:white;stroke-width:3\"/><line x1=\"259.393\" y1=\"348.493\" x2=\"257.627\" y2=\"347.554\" stroke-linecap=\"round\" style=\"stroke:white;stroke-width:3\"/><line x1=\"257.627\" y1=\"347.554\" x2=\"255.895\" y2=\"346.554\" stroke-linecap=\"round\" style=\"stroke:white;stroke-width:3\"/><line x1=\"255.895\" y1=\"346.554\" x2=\"254.199\" y2=\"345.494\" stroke-linecap=\"round\" style=\"stroke:white;stroke-width:3\"/><line x1=\"254.199\" y1=\"345.494\" x2=\"252.541\" y2=\"344.376\" stroke-linecap=\"round\" style=\"stroke:white;stroke-width:3\"/><line x1=\"252.541\" y1=\"344.376\" x2=\"250.923\" y2=\"343.2\" stroke-linecap=\"round\" style=\"stroke:white;stroke-width:3\"/><line x1=\"250.923\" y1=\"343.2\" x2=\"249.347\" y2=\"341.969\" stroke-linecap=\"round\" style=\"stroke:white;stroke-width:3\"/><line x1=\"249.347\" y1=\"341.969\" x2=\"247.815\" y2=\"340.683\" stroke-linecap=\"round\" style=\"stroke:white;stroke-width:3\"/><line x1=\"247.815\" y1=\"340.683\" x2=\"246.329\" y2=\"339.345\" stroke-linecap=\"round\" style=\"stroke:white;stroke-width:3\"/><line x1=\"246.329\" y1=\"339.345\" x2=\"244.89\" y2=\"337.956\" stroke-linecap=\"round\" style=\"stroke:white;stroke-width:3\"/><line x1=\"244.89\" y1=\"337.956\" x2=\"243.501\" y2=\"336.517\" stroke-linecap=\"round\" style=\"stroke:white;stroke-width:3\"/><line x1=\"243.501\" y1=\"336.517\" x2=\"242.163\" y2=\"335.031\" stroke-linecap=\"round\" style=\"stroke:white;stroke-width:3\"/><line x1=\"242.163\" y1=\"335.031\" x2=\"240.877\" y2=\"333.499\" stroke-linecap=\"round\" style=\"stroke:white;stroke-width:3\"/><line x1=\"240.877\" y1=\"333.499\" x2=\"239.646\" y2=\"331.923\" stroke-linecap=\"round\" style=\"stroke:white;stroke-width:3\"/><line x1=\"239.646\" y1=\"331.923\" x2=\"238.47\" y2=\"330.305\" stroke-linecap=\"round\" style=\"stroke:white;stroke-width:3\"/><line x1=\"238.47\" y1=\"330.305\" x2=\"237.352\" y2=\"328.647\" stroke-linecap=\"round\" style=\"stroke:white;stroke-width:3\"/><line x1=\"237.352\" y1=\"328.647\" x2=\"236.292\" y2=\"326.951\" stroke-linecap=\"round\" style=\"stroke:white;stroke-width:3\"/><line x1=\"236.292\" y1=\"326.951\" x2=\"235.292\" y2=\"325.219\" stroke-linecap=\"round\" style=\"stroke:white;stroke-width:3\"/><line x1=\"235.292\" y1=\"325.219\" x2=\"234.353\" y2=\"323.453\" stroke-linecap=\"round\" style=\"stroke:white;stroke-width:3\"/><line x1=\"234.353\" y1=\"323.453\" x2=\"233.476\" y2=\"321.655\" stroke-linecap=\"round\" style=\"stroke:white;stroke-width:3\"/><line x1=\"233.476\" y1=\"321.655\" x2=\"232.663\" y2=\"319.828\" stroke-linecap=\"round\" style=\"stroke:white;stroke-width:3\"/><line x1=\"232.663\" y1=\"319.828\" x2=\"231.914\" y2=\"317.974\" stroke-linecap=\"round\" style=\"stroke:white;stroke-width:3\"/><line x1=\"231.914\" y1=\"317.974\" x2=\"231.23\" y2=\"316.095\" stroke-linecap=\"round\" style=\"stroke:white;stroke-width:3\"/><line x1=\"231.23\" y1=\"316.095\" x2=\"230.612\" y2=\"314.193\" stroke-linecap=\"round\" style=\"stroke:white;stroke-width:3\"/><line x1=\"230.612\" y1=\"314.193\" x2=\"230.061\" y2=\"312.27\" stroke-linecap=\"round\" style=\"stroke:white;stroke-width:3\"/><line x1=\"230.061\" y1=\"312.27\" x2=\"229.577\" y2=\"310.329\" stroke-linecap=\"round\" style=\"stroke:white;stroke-width:3\"/><line x1=\"229.577\" y1=\"310.329\" x2=\"229.161\" y2=\"308.373\" stroke-linecap=\"round\" style=\"stroke:white;stroke-width:3\"/><line x1=\"229.161\" y1=\"308.373\" x2=\"228.814\" y2=\"306.403\" stroke-linecap=\"round\" style=\"stroke:white;stroke-width:3\"/><line x1=\"228.814\" y1=\"306.403\" x2=\"228.536\" y2=\"304.422\" stroke-linecap=\"round\" style=\"stroke:white;stroke-width:3\"/><line x1=\"228.536\" y1=\"304.422\" x2=\"228.327\" y2=\"302.433\" stroke-linecap=\"round\" style=\"stroke:white;stroke-width:3\"/><line x1=\"228.327\" y1=\"302.433\" x2=\"228.187\" y2=\"300.438\" stroke-linecap=\"round\" style=\"stroke:white;stroke-width:3\"/><line x1=\"228.187\" y1=\"300.438\" x2=\"228.117\" y2=\"298.439\" stroke-linecap=\"round\" style=\"stroke:white;stroke-width:3\"/><line x1=\"228.117\" y1=\"298.439\" x2=\"228.117\" y2=\"296.439\" stroke-linecap=\"round\" style=\"stroke:white;stroke-width:3\"/><line x1=\"228.117\" y1=\"296.439\" x2=\"228.187\" y2=\"294.44\" stroke-linecap=\"round\" style=\"stroke:white;stroke-width:3\"/><line x1=\"228.187\" y1=\"294.44\" x2=\"228.327\" y2=\"292.445\" stroke-linecap=\"round\" style=\"stroke:white;stroke-width:3\"/><line x1=\"228.327\" y1=\"292.445\" x2=\"228.536\" y2=\"290.456\" stroke-linecap=\"round\" style=\"stroke:white;stroke-width:3\"/><line x1=\"228.536\" y1=\"290.456\" x2=\"228.814\" y2=\"288.475\" stroke-linecap=\"round\" style=\"stroke:white;stroke-width:3\"/><line x1=\"228.814\" y1=\"288.475\" x2=\"229.161\" y2=\"286.505\" stroke-linecap=\"round\" style=\"stroke:white;stroke-width:3\"/><line x1=\"229.161\" y1=\"286.505\" x2=\"229.577\" y2=\"284.549\" stroke-linecap=\"round\" style=\"stroke:white;stroke-width:3\"/><line x1=\"229.577\" y1=\"284.549\" x2=\"230.061\" y2=\"282.608\" stroke-linecap=\"round\" style=\"stroke:white;stroke-width:3\"/><line x1=\"230.061\" y1=\"282.608\" x2=\"230.612\" y2=\"280.685\" stroke-linecap=\"round\" style=\"stroke:white;stroke-width:3\"/><line x1=\"230.612\" y1=\"280.685\" x2=\"231.23\" y2=\"278.783\" stroke-linecap=\"round\" style=\"stroke:white;stroke-width:3\"/><line x1=\"231.23\" y1=\"278.783\" x2=\"231.914\" y2=\"276.904\" stroke-linecap=\"round\" style=\"stroke:white;stroke-width:3\"/><line x1=\"231.914\" y1=\"276.904\" x2=\"232.663\" y2=\"275.05\" stroke-linecap=\"round\" style=\"stroke:white;stroke-width:3\"/><line x1=\"232.663\" y1=\"275.05\" x2=\"233.476\" y2=\"273.223\" stroke-linecap=\"round\" style=\"stroke:white;stroke-width:3\"/><line x1=\"233.476\" y1=\"273.223\" x2=\"234.353\" y2=\"271.425\" stroke-linecap=\"round\" style=\"stroke:white;stroke-width:3\"/><line x1=\"234.353\" y1=\"271.425\" x2=\"235.292\" y2=\"269.659\" stroke-linecap=\"round\" style=\"stroke:white;stroke-width:3\"/><line x1=\"235.292\" y1=\"269.659\" x2=\"236.292\" y2=\"267.927\" stroke-linecap=\"round\" style=\"stroke:white;stroke-width:3\"/><line x1=\"236.292\" y1=\"267.927\" x2=\"237.352\" y2=\"266.231\" stroke-linecap=\"round\" style=\"stroke:white;stroke-width:3\"/><line x1=\"237.352\" y1=\"266.231\" x2=\"238.47\" y2=\"264.573\" stroke-linecap=\"round\" style=\"stroke:white;stroke-width:3\"/><line x1=\"238.47\" y1=\"264.573\" x2=\"239.646\" y2=\"262.955\" stroke-linecap=\"round\" style=\"stroke:white;stroke-width:3\"/><line x1=\"239.646\" y1=\"262.955\" x2=\"240.877\" y2=\"261.379\" stroke-linecap=\"round\" style=\"stroke:white;stroke-width:3\"/><line x1=\"240.877\" y1=\"261.379\" x2=\"242.163\" y2=\"259.847\" stroke-linecap=\"round\" style=\"stroke:white;stroke-width:3\"/><line x1=\"242.163\" y1=\"259.847\" x2=\"243.501\" y2=\"258.361\" stroke-linecap=\"round\" style=\"stroke:white;stroke-width:3\"/><line x1=\"243.501\" y1=\"258.361\" x2=\"244.89\" y2=\"256.922\" stroke-linecap=\"round\" style=\"stroke:white;stroke-width:3\"/><line x1=\"244.89\" y1=\"256.922\" x2=\"246.329\" y2=\"255.533\" stroke-linecap=\"round\" style=\"stroke:white;stroke-width:3\"/><line x1=\"246.329\" y1=\"255.533\" x2=\"247.815\" y2=\"254.195\" stroke-linecap=\"round\" style=\"stroke:white;stroke-width:3\"/><line x1=\"247.815\" y1=\"254.195\" x2=\"249.347\" y2=\"252.909\" stroke-linecap=\"round\" style=\"stroke:white;stroke-width:3\"/><line x1=\"249.347\" y1=\"252.909\" x2=\"250.923\" y2=\"251.678\" stroke-linecap=\"round\" style=\"stroke:white;stroke-width:3\"/><line x1=\"250.923\" y1=\"251.678\" x2=\"252.541\" y2=\"250.502\" stroke-linecap=\"round\" style=\"stroke:white;stroke-width:3\"/><line x1=\"252.541\" y1=\"250.502\" x2=\"254.199\" y2=\"249.384\" stroke-linecap=\"round\" style=\"stroke:white;stroke-width:3\"/><line x1=\"254.199\" y1=\"249.384\" x2=\"255.895\" y2=\"248.324\" stroke-linecap=\"round\" style=\"stroke:white;stroke-width:3\"/><line x1=\"255.895\" y1=\"248.324\" x2=\"257.627\" y2=\"247.324\" stroke-linecap=\"round\" style=\"stroke:white;stroke-width:3\"/><line x1=\"257.627\" y1=\"247.324\" x2=\"255.931\" y2=\"246.264\" stroke-linecap=\"round\" style=\"stroke:white;stroke-width:3\"/><line x1=\"255.931\" y1=\"246.264\" x2=\"254.273\" y2=\"245.146\" stroke-linecap=\"round\" style=\"stroke:white;stroke-width:3\"/><line x1=\"254.273\" y1=\"245.146\" x2=\"252.655\" y2=\"243.97\" stroke-linecap=\"round\" style=\"stroke:white;stroke-width:3\"/><line x1=\"252.655\" y1=\"243.97\" x2=\"251.079\" y2=\"242.739\" stroke-linecap=\"round\" style=\"stroke:white;stroke-width:3\"/><line x1=\"251.079\" y1=\"242.739\" x2=\"249.547\" y2=\"241.453\" stroke-linecap=\"round\" style=\"stroke:white;stroke-width:3\"/><line x1=\"249.547\" y1=\"241.453\" x2=\"248.061\" y2=\"240.115\" stroke-linecap=\"round\" style=\"stroke:white;stroke-width:3\"/><line x1=\"248.061\" y1=\"240.115\" x2=\"246.622\" y2=\"238.726\" stroke-linecap=\"round\" style=\"stroke:white;stroke-width:3\"/><line x1=\"246.622\" y1=\"238.726\" x2=\"245.233\" y2=\"237.287\" stroke-linecap=\"round\" style=\"stroke:white;stroke-width:3\"/><line x1=\"245.233\" y1=\"237.287\" x2=\"243.895\" y2=\"235.801\" stroke-linecap=\"round\" style=\"stroke:white;stroke-width:3\"/><line x1=\"243.895\" y1=\"235.801\" x2=\"242.609\" y2=\"234.269\" stroke-linecap=\"round\" style=\"stroke:white;stroke-width:3\"/><line x1=\"242.609\" y1=\"234.269\" x2=\"241.378\" y2=\"232.693\" stroke-linecap=\"round\" style=\"stroke:white;stroke-width:3\"/><line x1=\"241.378\" y1=\"232.693\" x2=\"240.202\" y2=\"231.075\" stroke-linecap=\"round\" style=\"stroke:white;stroke-width:3\"/><line x1=\"240.202\" y1=\"231.075\" x2=\"239.084\" y2=\"229.417\" stroke-linecap=\"round\" style=\"stroke:white;stroke-width:3\"/><line x1=\"239.084\" y1=\"229.417\" x2=\"238.024\" y2=\"227.721\" stroke-linecap=\"round\" style=\"stroke:white;stroke-width:3\"/><line x1=\"238.024\" y1=\"227.721\" x2=\"237.024\" y2=\"225.989\" stroke-linecap=\"round\" style=\"stroke:white;stroke-width:3\"/><line x1=\"237.024\" y1=\"225.989\" x2=\"236.085\" y2=\"224.223\" stroke-linecap=\"round\" style=\"stroke:white;stroke-width:3\"/><line x1=\"236.085\" y1=\"224.223\" x2=\"235.208\" y2=\"222.425\" stroke-linecap=\"round\" style=\"stroke:white;stroke-width:3\"/><line x1=\"235.208\" y1=\"222.425\" x2=\"234.395\" y2=\"220.598\" stroke-linecap=\"round\" style=\"stroke:white;stroke-width:3\"/><line x1=\"234.395\" y1=\"220.598\" x2=\"233.646\" y2=\"218.744\" stroke-linecap=\"round\" style=\"stroke:white;stroke-width:3\"/><line x1=\"233.646\" y1=\"218.744\" x2=\"232.962\" y2=\"216.865\" stroke-linecap=\"round\" style=\"stroke:white;stroke-width:3\"/><line x1=\"232.962\" y1=\"216.865\" x2=\"232.344\" y2=\"214.963\" stroke-linecap=\"round\" style=\"stroke:white;stroke-width:3\"/><line x1=\"232.344\" y1=\"214.963\" x2=\"231.793\" y2=\"213.04\" stroke-linecap=\"round\" style=\"stroke:white;stroke-width:3\"/><line x1=\"231.793\" y1=\"213.04\" x2=\"231.309\" y2=\"211.099\" stroke-linecap=\"round\" style=\"stroke:white;stroke-width:3\"/><line x1=\"231.309\" y1=\"211.099\" x2=\"230.893\" y2=\"209.143\" stroke-linecap=\"round\" style=\"stroke:white;stroke-width:3\"/><line x1=\"230.893\" y1=\"209.143\" x2=\"230.546\" y2=\"207.173\" stroke-linecap=\"round\" style=\"stroke:white;stroke-width:3\"/><line x1=\"230.546\" y1=\"207.173\" x2=\"230.268\" y2=\"205.192\" stroke-linecap=\"round\" style=\"stroke:white;stroke-width:3\"/><line x1=\"230.268\" y1=\"205.192\" x2=\"230.059\" y2=\"203.203\" stroke-linecap=\"round\" style=\"stroke:white;stroke-width:3\"/><line x1=\"230.059\" y1=\"203.203\" x2=\"229.919\" y2=\"201.208\" stroke-linecap=\"round\" style=\"stroke:white;stroke-width:3\"/><line x1=\"229.919\" y1=\"201.208\" x2=\"229.849\" y2=\"199.209\" stroke-linecap=\"round\" style=\"stroke:white;stroke-width:3\"/><line x1=\"229.849\" y1=\"199.209\" x2=\"229.849\" y2=\"197.209\" stroke-linecap=\"round\" style=\"stroke:white;stroke-width:3\"/><line x1=\"229.849\" y1=\"197.209\" x2=\"229.919\" y2=\"195.21\" stroke-linecap=\"round\" style=\"stroke:white;stroke-width:3\"/><line x1=\"229.919\" y1=\"195.21\" x2=\"230.059\" y2=\"193.215\" stroke-linecap=\"round\" style=\"stroke:white;stroke-width:3\"/><line x1=\"230.059\" y1=\"193.215\" x2=\"230.268\" y2=\"191.226\" stroke-linecap=\"round\" style=\"stroke:white;stroke-width:3\"/><line x1=\"230.268\" y1=\"191.226\" x2=\"230.546\" y2=\"189.245\" stroke-linecap=\"round\" style=\"stroke:white;stroke-width:3\"/><line x1=\"230.546\" y1=\"189.245\" x2=\"230.893\" y2=\"187.275\" stroke-linecap=\"round\" style=\"stroke:white;stroke-width:3\"/><line x1=\"230.893\" y1=\"187.275\" x2=\"231.309\" y2=\"185.319\" stroke-linecap=\"round\" style=\"stroke:white;stroke-width:3\"/><line x1=\"231.309\" y1=\"185.319\" x2=\"231.793\" y2=\"183.378\" stroke-linecap=\"round\" style=\"stroke:white;stroke-width:3\"/><line x1=\"231.793\" y1=\"183.378\" x2=\"232.344\" y2=\"181.455\" stroke-linecap=\"round\" style=\"stroke:white;stroke-width:3\"/><line x1=\"232.344\" y1=\"181.455\" x2=\"232.962\" y2=\"179.553\" stroke-linecap=\"round\" style=\"stroke:white;stroke-width:3\"/><line x1=\"232.962\" y1=\"179.553\" x2=\"233.646\" y2=\"177.674\" stroke-linecap=\"round\" style=\"stroke:white;stroke-width:3\"/><line x1=\"233.646\" y1=\"177.674\" x2=\"234.395\" y2=\"175.82\" stroke-linecap=\"round\" style=\"stroke:white;stroke-width:3\"/><line x1=\"234.395\" y1=\"175.82\" x2=\"235.208\" y2=\"173.993\" stroke-linecap=\"round\" style=\"stroke:white;stroke-width:3\"/><line x1=\"235.208\" y1=\"173.993\" x2=\"236.085\" y2=\"172.195\" stroke-linecap=\"round\" style=\"stroke:white;stroke-width:3\"/><line x1=\"236.085\" y1=\"172.195\" x2=\"237.024\" y2=\"170.429\" stroke-linecap=\"round\" style=\"stroke:white;stroke-width:3\"/><line x1=\"237.024\" y1=\"170.429\" x2=\"238.024\" y2=\"168.697\" stroke-linecap=\"round\" style=\"stroke:white;stroke-width:3\"/><line x1=\"238.024\" y1=\"168.697\" x2=\"239.084\" y2=\"167.001\" stroke-linecap=\"round\" style=\"stroke:white;stroke-width:3\"/><line x1=\"239.084\" y1=\"167.001\" x2=\"240.202\" y2=\"165.343\" stroke-linecap=\"round\" style=\"stroke:white;stroke-width:3\"/><line x1=\"240.202\" y1=\"165.343\" x2=\"241.378\" y2=\"163.725\" stroke-linecap=\"round\" style=\"stroke:white;stroke-width:3\"/><line x1=\"241.378\" y1=\"163.725\" x2=\"242.609\" y2=\"162.149\" stroke-linecap=\"round\" style=\"stroke:white;stroke-width:3\"/><line x1=\"242.609\" y1=\"162.149\" x2=\"243.895\" y2=\"160.617\" stroke-linecap=\"round\" style=\"stroke:white;stroke-width:3\"/><line x1=\"243.895\" y1=\"160.617\" x2=\"245.233\" y2=\"159.131\" stroke-linecap=\"round\" style=\"stroke:white;stroke-width:3\"/><line x1=\"245.233\" y1=\"159.131\" x2=\"246.622\" y2=\"157.692\" stroke-linecap=\"round\" style=\"stroke:white;stroke-width:3\"/><line x1=\"246.622\" y1=\"157.692\" x2=\"248.061\" y2=\"156.303\" stroke-linecap=\"round\" style=\"stroke:white;stroke-width:3\"/><line x1=\"248.061\" y1=\"156.303\" x2=\"249.547\" y2=\"154.965\" stroke-linecap=\"round\" style=\"stroke:white;stroke-width:3\"/><line x1=\"249.547\" y1=\"154.965\" x2=\"251.079\" y2=\"153.679\" stroke-linecap=\"round\" style=\"stroke:white;stroke-width:3\"/><line x1=\"251.079\" y1=\"153.679\" x2=\"252.655\" y2=\"152.448\" stroke-linecap=\"round\" style=\"stroke:white;stroke-width:3\"/><line x1=\"252.655\" y1=\"152.448\" x2=\"254.273\" y2=\"151.272\" stroke-linecap=\"round\" style=\"stroke:white;stroke-width:3\"/><line x1=\"254.273\" y1=\"151.272\" x2=\"255.931\" y2=\"150.154\" stroke-linecap=\"round\" style=\"stroke:white;stroke-width:3\"/><line x1=\"255.931\" y1=\"150.154\" x2=\"257.627\" y2=\"149.094\" stroke-linecap=\"round\" style=\"stroke:white;stroke-width:3\"/><line x1=\"257.627\" y1=\"149.094\" x2=\"259.359\" y2=\"148.094\" stroke-linecap=\"round\" style=\"stroke:white;stroke-width:3\"/><line x1=\"259.359\" y1=\"148.094\" x2=\"261.125\" y2=\"147.155\" stroke-linecap=\"round\" style=\"stroke:white;stroke-width:3\"/><line x1=\"261.125\" y1=\"147.155\" x2=\"262.923\" y2=\"146.278\" stroke-linecap=\"round\" style=\"stroke:white;stroke-width:3\"/><line x1=\"262.923\" y1=\"146.278\" x2=\"264.75\" y2=\"145.465\" stroke-linecap=\"round\" style=\"stroke:white;stroke-width:3\"/><line x1=\"264.75\" y1=\"145.465\" x2=\"266.604\" y2=\"144.716\" stroke-linecap=\"round\" style=\"stroke:white;stroke-width:3\"/><line x1=\"266.604\" y1=\"144.716\" x2=\"268.483\" y2=\"144.032\" stroke-linecap=\"round\" style=\"stroke:white;stroke-width:3\"/><line x1=\"268.483\" y1=\"144.032\" x2=\"270.385\" y2=\"143.414\" stroke-linecap=\"round\" style=\"stroke:white;stroke-width:3\"/><line x1=\"270.385\" y1=\"143.414\" x2=\"272.308\" y2=\"142.863\" stroke-linecap=\"round\" style=\"stroke:white;stroke-width:3\"/><line x1=\"272.308\" y1=\"142.863\" x2=\"274.249\" y2=\"142.379\" stroke-linecap=\"round\" style=\"stroke:white;stroke-width:3\"/><line x1=\"274.249\" y1=\"142.379\" x2=\"276.205\" y2=\"141.963\" stroke-linecap=\"round\" style=\"stroke:white;stroke-width:3\"/><line x1=\"276.205\" y1=\"141.963\" x2=\"278.175\" y2=\"141.616\" stroke-linecap=\"round\" style=\"stroke:white;stroke-width:3\"/><line x1=\"278.175\" y1=\"141.616\" x2=\"280.156\" y2=\"141.338\" stroke-linecap=\"round\" style=\"stroke:white;stroke-width:3\"/><line x1=\"280.156\" y1=\"141.338\" x2=\"282.145\" y2=\"141.129\" stroke-linecap=\"round\" style=\"stroke:white;stroke-width:3\"/><line x1=\"282.145\" y1=\"141.129\" x2=\"284.14\" y2=\"140.989\" stroke-linecap=\"round\" style=\"stroke:white;stroke-width:3\"/><line x1=\"284.14\" y1=\"140.989\" x2=\"286.139\" y2=\"140.919\" stroke-linecap=\"round\" style=\"stroke:white;stroke-width:3\"/><line x1=\"286.139\" y1=\"140.919\" x2=\"288.139\" y2=\"140.919\" stroke-linecap=\"round\" style=\"stroke:white;stroke-width:3\"/><line x1=\"288.139\" y1=\"140.919\" x2=\"290.138\" y2=\"140.989\" stroke-linecap=\"round\" style=\"stroke:white;stroke-width:3\"/><line x1=\"290.138\" y1=\"140.989\" x2=\"292.133\" y2=\"141.129\" stroke-linecap=\"round\" style=\"stroke:white;stroke-width:3\"/><line x1=\"292.133\" y1=\"141.129\" x2=\"294.122\" y2=\"141.338\" stroke-linecap=\"round\" style=\"stroke:white;stroke-width:3\"/><line x1=\"294.122\" y1=\"141.338\" x2=\"296.103\" y2=\"141.616\" stroke-linecap=\"round\" style=\"stroke:white;stroke-width:3\"/><line x1=\"296.103\" y1=\"141.616\" x2=\"298.073\" y2=\"141.963\" stroke-linecap=\"round\" style=\"stroke:white;stroke-width:3\"/><line x1=\"298.073\" y1=\"141.963\" x2=\"300.029\" y2=\"142.379\" stroke-linecap=\"round\" style=\"stroke:white;stroke-width:3\"/><line x1=\"300.029\" y1=\"142.379\" x2=\"301.97\" y2=\"142.863\" stroke-linecap=\"round\" style=\"stroke:white;stroke-width:3\"/><line x1=\"301.97\" y1=\"142.863\" x2=\"303.893\" y2=\"143.414\" stroke-linecap=\"round\" style=\"stroke:white;stroke-width:3\"/><line x1=\"303.893\" y1=\"143.414\" x2=\"305.795\" y2=\"144.032\" stroke-linecap=\"round\" style=\"stroke:white;stroke-width:3\"/><line x1=\"305.795\" y1=\"144.032\" x2=\"307.674\" y2=\"144.716\" stroke-linecap=\"round\" style=\"stroke:white;stroke-width:3\"/><line x1=\"307.674\" y1=\"144.716\" x2=\"309.528\" y2=\"145.465\" stroke-linecap=\"round\" style=\"stroke:white;stroke-width:3\"/><line x1=\"309.528\" y1=\"145.465\" x2=\"311.355\" y2=\"146.278\" stroke-linecap=\"round\" style=\"stroke:white;stroke-width:3\"/><line x1=\"311.355\" y1=\"146.278\" x2=\"313.153\" y2=\"147.155\" stroke-linecap=\"round\" style=\"stroke:white;stroke-width:3\"/><line x1=\"313.153\" y1=\"147.155\" x2=\"314.919\" y2=\"148.094\" stroke-linecap=\"round\" style=\"stroke:white;stroke-width:3\"/><line x1=\"314.919\" y1=\"148.094\" x2=\"316.651\" y2=\"149.094\" stroke-linecap=\"round\" style=\"stroke:white;stroke-width:3\"/><line x1=\"316.651\" y1=\"149.094\" x2=\"318.347\" y2=\"150.154\" stroke-linecap=\"round\" style=\"stroke:white;stroke-width:3\"/><line x1=\"318.347\" y1=\"150.154\" x2=\"320.005\" y2=\"151.272\" stroke-linecap=\"round\" style=\"stroke:white;stroke-width:3\"/><line x1=\"320.005\" y1=\"151.272\" x2=\"321.623\" y2=\"152.448\" stroke-linecap=\"round\" style=\"stroke:white;stroke-width:3\"/><line x1=\"321.623\" y1=\"152.448\" x2=\"323.199\" y2=\"153.679\" stroke-linecap=\"round\" style=\"stroke:white;stroke-width:3\"/><line x1=\"323.199\" y1=\"153.679\" x2=\"324.731\" y2=\"154.965\" stroke-linecap=\"round\" style=\"stroke:white;stroke-width:3\"/><line x1=\"324.731\" y1=\"154.965\" x2=\"326.217\" y2=\"156.303\" stroke-linecap=\"round\" style=\"stroke:white;stroke-width:3\"/><line x1=\"326.217\" y1=\"156.303\" x2=\"327.656\" y2=\"157.692\" stroke-linecap=\"round\" style=\"stroke:white;stroke-width:3\"/><line x1=\"327.656\" y1=\"157.692\" x2=\"329.045\" y2=\"159.131\" stroke-linecap=\"round\" style=\"stroke:white;stroke-width:3\"/><line x1=\"329.045\" y1=\"159.131\" x2=\"330.383\" y2=\"160.617\" stroke-linecap=\"round\" style=\"stroke:white;stroke-width:3\"/><line x1=\"330.383\" y1=\"160.617\" x2=\"331.669\" y2=\"162.149\" stroke-linecap=\"round\" style=\"stroke:white;stroke-width:3\"/><line x1=\"331.669\" y1=\"162.149\" x2=\"403.018\" y2=\"247.18\" stroke-linecap=\"round\" style=\"stroke:white;stroke-width:3\"/>\n",
              "        <g visibility=hidden transform=\"rotate(140,403.018,247.18) translate(385.018, 229.18)\">\n",
              "<path style=\" stroke:none;fill-rule:evenodd;fill:white;fill-opacity:1;\" d=\"M 18.214844 0.632812 C 16.109375 1.800781 15.011719 4.074219 15.074219 7.132812 L 15.085938 7.652344 L 14.785156 7.496094 C 13.476562 6.824219 11.957031 6.671875 10.40625 7.066406 C 8.46875 7.550781 6.515625 9.15625 4.394531 11.992188 C 3.0625 13.777344 2.679688 14.636719 3.042969 15.027344 L 3.15625 15.152344 L 3.519531 15.152344 C 4.238281 15.152344 4.828125 14.886719 8.1875 13.039062 C 9.386719 12.378906 10.371094 11.839844 10.378906 11.839844 C 10.386719 11.839844 10.355469 11.929688 10.304688 12.035156 C 9.832031 13.09375 9.257812 14.820312 8.96875 16.078125 C 7.914062 20.652344 8.617188 24.53125 11.070312 27.660156 C 11.351562 28.015625 11.363281 27.914062 10.972656 28.382812 C 8.925781 30.84375 7.945312 33.28125 8.238281 35.1875 C 8.289062 35.527344 8.28125 35.523438 8.917969 35.523438 C 10.941406 35.523438 13.074219 34.207031 15.136719 31.6875 C 15.359375 31.417969 15.328125 31.425781 15.5625 31.574219 C 16.292969 32.042969 18.023438 32.964844 18.175781 32.964844 C 18.335938 32.964844 19.941406 32.210938 20.828125 31.71875 C 20.996094 31.625 21.136719 31.554688 21.136719 31.558594 C 21.203125 31.664062 21.898438 32.414062 22.222656 32.730469 C 23.835938 34.300781 25.5625 35.132812 27.582031 35.300781 C 27.90625 35.328125 27.9375 35.308594 28.007812 34.984375 C 28.382812 33.242188 27.625 30.925781 25.863281 28.425781 L 25.542969 27.96875 L 25.699219 27.785156 C 28.945312 23.960938 29.132812 18.699219 26.257812 11.96875 L 26.207031 11.84375 L 27.945312 12.703125 C 31.53125 14.476562 32.316406 14.800781 33.03125 14.800781 C 33.976562 14.800781 33.78125 13.9375 32.472656 12.292969 C 28.519531 7.355469 25.394531 5.925781 21.921875 7.472656 L 21.558594 7.636719 L 21.578125 7.542969 C 21.699219 6.992188 21.761719 5.742188 21.699219 5.164062 C 21.496094 3.296875 20.664062 1.964844 19.003906 0.855469 C 18.480469 0.503906 18.457031 0.5 18.214844 0.632812\"/>\n",
              "</g>\n",
              "      </svg>\n",
              "    "
            ]
          },
          "metadata": {}
        }
      ]
    },
    {
      "cell_type": "code",
      "source": [
        "initializeTurtle()\n",
        "n = 5\n",
        "shape('turtle')\n",
        "for i in range(n):\n",
        "    forward(100)\n",
        "    right((360 / n) * 2)\n",
        "    forward(100)\n",
        "    left(360 / n)"
      ],
      "metadata": {
        "colab": {
          "base_uri": "https://localhost:8080/",
          "height": 520
        },
        "id": "BSJ85GASn8xY",
        "outputId": "8b9953d4-b9f0-43b2-f61e-52fb557743c6"
      },
      "execution_count": 29,
      "outputs": [
        {
          "output_type": "display_data",
          "data": {
            "text/plain": [
              "<IPython.core.display.HTML object>"
            ],
            "text/html": [
              "\n",
              "      <svg width=\"800\" height=\"500\">\n",
              "        <rect width=\"100%\" height=\"100%\" fill=\"black\"/>\n",
              "        <line x1=\"400\" y1=\"250\" x2=\"400.0\" y2=\"150.0\" stroke-linecap=\"round\" style=\"stroke:white;stroke-width:4\"/><line x1=\"400.0\" y1=\"150.0\" x2=\"458.779\" y2=\"230.902\" stroke-linecap=\"round\" style=\"stroke:white;stroke-width:4\"/><line x1=\"458.779\" y1=\"230.902\" x2=\"553.885\" y2=\"200.0\" stroke-linecap=\"round\" style=\"stroke:white;stroke-width:4\"/><line x1=\"553.885\" y1=\"200.0\" x2=\"495.106\" y2=\"280.902\" stroke-linecap=\"round\" style=\"stroke:white;stroke-width:4\"/><line x1=\"495.106\" y1=\"280.902\" x2=\"553.885\" y2=\"361.804\" stroke-linecap=\"round\" style=\"stroke:white;stroke-width:4\"/><line x1=\"553.885\" y1=\"361.804\" x2=\"458.779\" y2=\"330.902\" stroke-linecap=\"round\" style=\"stroke:white;stroke-width:4\"/><line x1=\"458.779\" y1=\"330.902\" x2=\"400.0\" y2=\"411.804\" stroke-linecap=\"round\" style=\"stroke:white;stroke-width:4\"/><line x1=\"400.0\" y1=\"411.804\" x2=\"400.0\" y2=\"311.804\" stroke-linecap=\"round\" style=\"stroke:white;stroke-width:4\"/><line x1=\"400.0\" y1=\"311.804\" x2=\"304.894\" y2=\"280.902\" stroke-linecap=\"round\" style=\"stroke:white;stroke-width:4\"/><line x1=\"304.894\" y1=\"280.902\" x2=\"400.0\" y2=\"250.0\" stroke-linecap=\"round\" style=\"stroke:white;stroke-width:4\"/>\n",
              "        <g visibility=visible transform=\"rotate(360.0,400.0,250.0) translate(382.0, 232.0)\">\n",
              "<path style=\" stroke:none;fill-rule:evenodd;fill:white;fill-opacity:1;\" d=\"M 18.214844 0.632812 C 16.109375 1.800781 15.011719 4.074219 15.074219 7.132812 L 15.085938 7.652344 L 14.785156 7.496094 C 13.476562 6.824219 11.957031 6.671875 10.40625 7.066406 C 8.46875 7.550781 6.515625 9.15625 4.394531 11.992188 C 3.0625 13.777344 2.679688 14.636719 3.042969 15.027344 L 3.15625 15.152344 L 3.519531 15.152344 C 4.238281 15.152344 4.828125 14.886719 8.1875 13.039062 C 9.386719 12.378906 10.371094 11.839844 10.378906 11.839844 C 10.386719 11.839844 10.355469 11.929688 10.304688 12.035156 C 9.832031 13.09375 9.257812 14.820312 8.96875 16.078125 C 7.914062 20.652344 8.617188 24.53125 11.070312 27.660156 C 11.351562 28.015625 11.363281 27.914062 10.972656 28.382812 C 8.925781 30.84375 7.945312 33.28125 8.238281 35.1875 C 8.289062 35.527344 8.28125 35.523438 8.917969 35.523438 C 10.941406 35.523438 13.074219 34.207031 15.136719 31.6875 C 15.359375 31.417969 15.328125 31.425781 15.5625 31.574219 C 16.292969 32.042969 18.023438 32.964844 18.175781 32.964844 C 18.335938 32.964844 19.941406 32.210938 20.828125 31.71875 C 20.996094 31.625 21.136719 31.554688 21.136719 31.558594 C 21.203125 31.664062 21.898438 32.414062 22.222656 32.730469 C 23.835938 34.300781 25.5625 35.132812 27.582031 35.300781 C 27.90625 35.328125 27.9375 35.308594 28.007812 34.984375 C 28.382812 33.242188 27.625 30.925781 25.863281 28.425781 L 25.542969 27.96875 L 25.699219 27.785156 C 28.945312 23.960938 29.132812 18.699219 26.257812 11.96875 L 26.207031 11.84375 L 27.945312 12.703125 C 31.53125 14.476562 32.316406 14.800781 33.03125 14.800781 C 33.976562 14.800781 33.78125 13.9375 32.472656 12.292969 C 28.519531 7.355469 25.394531 5.925781 21.921875 7.472656 L 21.558594 7.636719 L 21.578125 7.542969 C 21.699219 6.992188 21.761719 5.742188 21.699219 5.164062 C 21.496094 3.296875 20.664062 1.964844 19.003906 0.855469 C 18.480469 0.503906 18.457031 0.5 18.214844 0.632812\"/>\n",
              "</g>\n",
              "      </svg>\n",
              "    "
            ]
          },
          "metadata": {}
        }
      ]
    }
  ],
  "metadata": {
    "colab": {
      "name": "Colaboratory에 오신 것을 환영합니다",
      "toc_visible": true,
      "provenance": [],
      "include_colab_link": true
    },
    "kernelspec": {
      "display_name": "Python 3",
      "name": "python3"
    }
  },
  "nbformat": 4,
  "nbformat_minor": 0
}