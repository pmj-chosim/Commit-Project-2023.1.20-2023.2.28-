{
  "nbformat": 4,
  "nbformat_minor": 0,
  "metadata": {
    "colab": {
      "provenance": [],
      "toc_visible": true,
      "include_colab_link": true
    },
    "kernelspec": {
      "name": "python3",
      "display_name": "Python 3"
    },
    "language_info": {
      "name": "python"
    },
    "gpuClass": "standard",
    "accelerator": "GPU",
    "widgets": {
      "application/vnd.jupyter.widget-state+json": {
        "4852b221e849427c88c0e32ab85b53ca": {
          "model_module": "@jupyter-widgets/controls",
          "model_name": "HBoxModel",
          "model_module_version": "1.5.0",
          "state": {
            "_dom_classes": [],
            "_model_module": "@jupyter-widgets/controls",
            "_model_module_version": "1.5.0",
            "_model_name": "HBoxModel",
            "_view_count": null,
            "_view_module": "@jupyter-widgets/controls",
            "_view_module_version": "1.5.0",
            "_view_name": "HBoxView",
            "box_style": "",
            "children": [
              "IPY_MODEL_13ce66798de54171be759ac08666d386",
              "IPY_MODEL_4a63775695944294b1e4e4c9116fb747",
              "IPY_MODEL_ed550bf2bab04db5839fb8fa6e6559ab"
            ],
            "layout": "IPY_MODEL_217f5aa2967c4132936c9fe5cfd14cb5"
          }
        },
        "13ce66798de54171be759ac08666d386": {
          "model_module": "@jupyter-widgets/controls",
          "model_name": "HTMLModel",
          "model_module_version": "1.5.0",
          "state": {
            "_dom_classes": [],
            "_model_module": "@jupyter-widgets/controls",
            "_model_module_version": "1.5.0",
            "_model_name": "HTMLModel",
            "_view_count": null,
            "_view_module": "@jupyter-widgets/controls",
            "_view_module_version": "1.5.0",
            "_view_name": "HTMLView",
            "description": "",
            "description_tooltip": null,
            "layout": "IPY_MODEL_0fb4bc66b2a84e2d9dedab75b6362757",
            "placeholder": "​",
            "style": "IPY_MODEL_687221bcd108499d91ee23862b3bf533",
            "value": "100%"
          }
        },
        "4a63775695944294b1e4e4c9116fb747": {
          "model_module": "@jupyter-widgets/controls",
          "model_name": "FloatProgressModel",
          "model_module_version": "1.5.0",
          "state": {
            "_dom_classes": [],
            "_model_module": "@jupyter-widgets/controls",
            "_model_module_version": "1.5.0",
            "_model_name": "FloatProgressModel",
            "_view_count": null,
            "_view_module": "@jupyter-widgets/controls",
            "_view_module_version": "1.5.0",
            "_view_name": "ProgressView",
            "bar_style": "success",
            "description": "",
            "description_tooltip": null,
            "layout": "IPY_MODEL_67ae9907690845329795aabb3bb1c4ec",
            "max": 9912422,
            "min": 0,
            "orientation": "horizontal",
            "style": "IPY_MODEL_0a9de2263ed0431ba158af1939de4c59",
            "value": 9912422
          }
        },
        "ed550bf2bab04db5839fb8fa6e6559ab": {
          "model_module": "@jupyter-widgets/controls",
          "model_name": "HTMLModel",
          "model_module_version": "1.5.0",
          "state": {
            "_dom_classes": [],
            "_model_module": "@jupyter-widgets/controls",
            "_model_module_version": "1.5.0",
            "_model_name": "HTMLModel",
            "_view_count": null,
            "_view_module": "@jupyter-widgets/controls",
            "_view_module_version": "1.5.0",
            "_view_name": "HTMLView",
            "description": "",
            "description_tooltip": null,
            "layout": "IPY_MODEL_7c7329f2d2fc4357b6efaadeba976ed1",
            "placeholder": "​",
            "style": "IPY_MODEL_4f67e5497b41490e9081dc5a92bb2271",
            "value": " 9912422/9912422 [00:00&lt;00:00, 157924027.76it/s]"
          }
        },
        "217f5aa2967c4132936c9fe5cfd14cb5": {
          "model_module": "@jupyter-widgets/base",
          "model_name": "LayoutModel",
          "model_module_version": "1.2.0",
          "state": {
            "_model_module": "@jupyter-widgets/base",
            "_model_module_version": "1.2.0",
            "_model_name": "LayoutModel",
            "_view_count": null,
            "_view_module": "@jupyter-widgets/base",
            "_view_module_version": "1.2.0",
            "_view_name": "LayoutView",
            "align_content": null,
            "align_items": null,
            "align_self": null,
            "border": null,
            "bottom": null,
            "display": null,
            "flex": null,
            "flex_flow": null,
            "grid_area": null,
            "grid_auto_columns": null,
            "grid_auto_flow": null,
            "grid_auto_rows": null,
            "grid_column": null,
            "grid_gap": null,
            "grid_row": null,
            "grid_template_areas": null,
            "grid_template_columns": null,
            "grid_template_rows": null,
            "height": null,
            "justify_content": null,
            "justify_items": null,
            "left": null,
            "margin": null,
            "max_height": null,
            "max_width": null,
            "min_height": null,
            "min_width": null,
            "object_fit": null,
            "object_position": null,
            "order": null,
            "overflow": null,
            "overflow_x": null,
            "overflow_y": null,
            "padding": null,
            "right": null,
            "top": null,
            "visibility": null,
            "width": null
          }
        },
        "0fb4bc66b2a84e2d9dedab75b6362757": {
          "model_module": "@jupyter-widgets/base",
          "model_name": "LayoutModel",
          "model_module_version": "1.2.0",
          "state": {
            "_model_module": "@jupyter-widgets/base",
            "_model_module_version": "1.2.0",
            "_model_name": "LayoutModel",
            "_view_count": null,
            "_view_module": "@jupyter-widgets/base",
            "_view_module_version": "1.2.0",
            "_view_name": "LayoutView",
            "align_content": null,
            "align_items": null,
            "align_self": null,
            "border": null,
            "bottom": null,
            "display": null,
            "flex": null,
            "flex_flow": null,
            "grid_area": null,
            "grid_auto_columns": null,
            "grid_auto_flow": null,
            "grid_auto_rows": null,
            "grid_column": null,
            "grid_gap": null,
            "grid_row": null,
            "grid_template_areas": null,
            "grid_template_columns": null,
            "grid_template_rows": null,
            "height": null,
            "justify_content": null,
            "justify_items": null,
            "left": null,
            "margin": null,
            "max_height": null,
            "max_width": null,
            "min_height": null,
            "min_width": null,
            "object_fit": null,
            "object_position": null,
            "order": null,
            "overflow": null,
            "overflow_x": null,
            "overflow_y": null,
            "padding": null,
            "right": null,
            "top": null,
            "visibility": null,
            "width": null
          }
        },
        "687221bcd108499d91ee23862b3bf533": {
          "model_module": "@jupyter-widgets/controls",
          "model_name": "DescriptionStyleModel",
          "model_module_version": "1.5.0",
          "state": {
            "_model_module": "@jupyter-widgets/controls",
            "_model_module_version": "1.5.0",
            "_model_name": "DescriptionStyleModel",
            "_view_count": null,
            "_view_module": "@jupyter-widgets/base",
            "_view_module_version": "1.2.0",
            "_view_name": "StyleView",
            "description_width": ""
          }
        },
        "67ae9907690845329795aabb3bb1c4ec": {
          "model_module": "@jupyter-widgets/base",
          "model_name": "LayoutModel",
          "model_module_version": "1.2.0",
          "state": {
            "_model_module": "@jupyter-widgets/base",
            "_model_module_version": "1.2.0",
            "_model_name": "LayoutModel",
            "_view_count": null,
            "_view_module": "@jupyter-widgets/base",
            "_view_module_version": "1.2.0",
            "_view_name": "LayoutView",
            "align_content": null,
            "align_items": null,
            "align_self": null,
            "border": null,
            "bottom": null,
            "display": null,
            "flex": null,
            "flex_flow": null,
            "grid_area": null,
            "grid_auto_columns": null,
            "grid_auto_flow": null,
            "grid_auto_rows": null,
            "grid_column": null,
            "grid_gap": null,
            "grid_row": null,
            "grid_template_areas": null,
            "grid_template_columns": null,
            "grid_template_rows": null,
            "height": null,
            "justify_content": null,
            "justify_items": null,
            "left": null,
            "margin": null,
            "max_height": null,
            "max_width": null,
            "min_height": null,
            "min_width": null,
            "object_fit": null,
            "object_position": null,
            "order": null,
            "overflow": null,
            "overflow_x": null,
            "overflow_y": null,
            "padding": null,
            "right": null,
            "top": null,
            "visibility": null,
            "width": null
          }
        },
        "0a9de2263ed0431ba158af1939de4c59": {
          "model_module": "@jupyter-widgets/controls",
          "model_name": "ProgressStyleModel",
          "model_module_version": "1.5.0",
          "state": {
            "_model_module": "@jupyter-widgets/controls",
            "_model_module_version": "1.5.0",
            "_model_name": "ProgressStyleModel",
            "_view_count": null,
            "_view_module": "@jupyter-widgets/base",
            "_view_module_version": "1.2.0",
            "_view_name": "StyleView",
            "bar_color": null,
            "description_width": ""
          }
        },
        "7c7329f2d2fc4357b6efaadeba976ed1": {
          "model_module": "@jupyter-widgets/base",
          "model_name": "LayoutModel",
          "model_module_version": "1.2.0",
          "state": {
            "_model_module": "@jupyter-widgets/base",
            "_model_module_version": "1.2.0",
            "_model_name": "LayoutModel",
            "_view_count": null,
            "_view_module": "@jupyter-widgets/base",
            "_view_module_version": "1.2.0",
            "_view_name": "LayoutView",
            "align_content": null,
            "align_items": null,
            "align_self": null,
            "border": null,
            "bottom": null,
            "display": null,
            "flex": null,
            "flex_flow": null,
            "grid_area": null,
            "grid_auto_columns": null,
            "grid_auto_flow": null,
            "grid_auto_rows": null,
            "grid_column": null,
            "grid_gap": null,
            "grid_row": null,
            "grid_template_areas": null,
            "grid_template_columns": null,
            "grid_template_rows": null,
            "height": null,
            "justify_content": null,
            "justify_items": null,
            "left": null,
            "margin": null,
            "max_height": null,
            "max_width": null,
            "min_height": null,
            "min_width": null,
            "object_fit": null,
            "object_position": null,
            "order": null,
            "overflow": null,
            "overflow_x": null,
            "overflow_y": null,
            "padding": null,
            "right": null,
            "top": null,
            "visibility": null,
            "width": null
          }
        },
        "4f67e5497b41490e9081dc5a92bb2271": {
          "model_module": "@jupyter-widgets/controls",
          "model_name": "DescriptionStyleModel",
          "model_module_version": "1.5.0",
          "state": {
            "_model_module": "@jupyter-widgets/controls",
            "_model_module_version": "1.5.0",
            "_model_name": "DescriptionStyleModel",
            "_view_count": null,
            "_view_module": "@jupyter-widgets/base",
            "_view_module_version": "1.2.0",
            "_view_name": "StyleView",
            "description_width": ""
          }
        },
        "63337bbb871a4061bac842a5264bb069": {
          "model_module": "@jupyter-widgets/controls",
          "model_name": "HBoxModel",
          "model_module_version": "1.5.0",
          "state": {
            "_dom_classes": [],
            "_model_module": "@jupyter-widgets/controls",
            "_model_module_version": "1.5.0",
            "_model_name": "HBoxModel",
            "_view_count": null,
            "_view_module": "@jupyter-widgets/controls",
            "_view_module_version": "1.5.0",
            "_view_name": "HBoxView",
            "box_style": "",
            "children": [
              "IPY_MODEL_12c85901795442139a4f0fba4bb2d0be",
              "IPY_MODEL_ce8d7fa40aca478e8fed14bdf2a4a0c6",
              "IPY_MODEL_77b3e1d2d2ed4f2692564aa486885516"
            ],
            "layout": "IPY_MODEL_e7239c6edf0f4d9ca0c884ef2af44dfa"
          }
        },
        "12c85901795442139a4f0fba4bb2d0be": {
          "model_module": "@jupyter-widgets/controls",
          "model_name": "HTMLModel",
          "model_module_version": "1.5.0",
          "state": {
            "_dom_classes": [],
            "_model_module": "@jupyter-widgets/controls",
            "_model_module_version": "1.5.0",
            "_model_name": "HTMLModel",
            "_view_count": null,
            "_view_module": "@jupyter-widgets/controls",
            "_view_module_version": "1.5.0",
            "_view_name": "HTMLView",
            "description": "",
            "description_tooltip": null,
            "layout": "IPY_MODEL_a8dff4a4f3c34e8787ac5a12e4f39574",
            "placeholder": "​",
            "style": "IPY_MODEL_5b5ec81a409046a68f75274ce6270076",
            "value": "100%"
          }
        },
        "ce8d7fa40aca478e8fed14bdf2a4a0c6": {
          "model_module": "@jupyter-widgets/controls",
          "model_name": "FloatProgressModel",
          "model_module_version": "1.5.0",
          "state": {
            "_dom_classes": [],
            "_model_module": "@jupyter-widgets/controls",
            "_model_module_version": "1.5.0",
            "_model_name": "FloatProgressModel",
            "_view_count": null,
            "_view_module": "@jupyter-widgets/controls",
            "_view_module_version": "1.5.0",
            "_view_name": "ProgressView",
            "bar_style": "success",
            "description": "",
            "description_tooltip": null,
            "layout": "IPY_MODEL_5e3336ca87cb49f6846f1ab4a5434b30",
            "max": 28881,
            "min": 0,
            "orientation": "horizontal",
            "style": "IPY_MODEL_6758fdf8704a4b4cb55357ec117e9128",
            "value": 28881
          }
        },
        "77b3e1d2d2ed4f2692564aa486885516": {
          "model_module": "@jupyter-widgets/controls",
          "model_name": "HTMLModel",
          "model_module_version": "1.5.0",
          "state": {
            "_dom_classes": [],
            "_model_module": "@jupyter-widgets/controls",
            "_model_module_version": "1.5.0",
            "_model_name": "HTMLModel",
            "_view_count": null,
            "_view_module": "@jupyter-widgets/controls",
            "_view_module_version": "1.5.0",
            "_view_name": "HTMLView",
            "description": "",
            "description_tooltip": null,
            "layout": "IPY_MODEL_732c1e353941447fad22f638d6336b8b",
            "placeholder": "​",
            "style": "IPY_MODEL_206d5eaa327e42499e397f9792796250",
            "value": " 28881/28881 [00:00&lt;00:00, 1727918.03it/s]"
          }
        },
        "e7239c6edf0f4d9ca0c884ef2af44dfa": {
          "model_module": "@jupyter-widgets/base",
          "model_name": "LayoutModel",
          "model_module_version": "1.2.0",
          "state": {
            "_model_module": "@jupyter-widgets/base",
            "_model_module_version": "1.2.0",
            "_model_name": "LayoutModel",
            "_view_count": null,
            "_view_module": "@jupyter-widgets/base",
            "_view_module_version": "1.2.0",
            "_view_name": "LayoutView",
            "align_content": null,
            "align_items": null,
            "align_self": null,
            "border": null,
            "bottom": null,
            "display": null,
            "flex": null,
            "flex_flow": null,
            "grid_area": null,
            "grid_auto_columns": null,
            "grid_auto_flow": null,
            "grid_auto_rows": null,
            "grid_column": null,
            "grid_gap": null,
            "grid_row": null,
            "grid_template_areas": null,
            "grid_template_columns": null,
            "grid_template_rows": null,
            "height": null,
            "justify_content": null,
            "justify_items": null,
            "left": null,
            "margin": null,
            "max_height": null,
            "max_width": null,
            "min_height": null,
            "min_width": null,
            "object_fit": null,
            "object_position": null,
            "order": null,
            "overflow": null,
            "overflow_x": null,
            "overflow_y": null,
            "padding": null,
            "right": null,
            "top": null,
            "visibility": null,
            "width": null
          }
        },
        "a8dff4a4f3c34e8787ac5a12e4f39574": {
          "model_module": "@jupyter-widgets/base",
          "model_name": "LayoutModel",
          "model_module_version": "1.2.0",
          "state": {
            "_model_module": "@jupyter-widgets/base",
            "_model_module_version": "1.2.0",
            "_model_name": "LayoutModel",
            "_view_count": null,
            "_view_module": "@jupyter-widgets/base",
            "_view_module_version": "1.2.0",
            "_view_name": "LayoutView",
            "align_content": null,
            "align_items": null,
            "align_self": null,
            "border": null,
            "bottom": null,
            "display": null,
            "flex": null,
            "flex_flow": null,
            "grid_area": null,
            "grid_auto_columns": null,
            "grid_auto_flow": null,
            "grid_auto_rows": null,
            "grid_column": null,
            "grid_gap": null,
            "grid_row": null,
            "grid_template_areas": null,
            "grid_template_columns": null,
            "grid_template_rows": null,
            "height": null,
            "justify_content": null,
            "justify_items": null,
            "left": null,
            "margin": null,
            "max_height": null,
            "max_width": null,
            "min_height": null,
            "min_width": null,
            "object_fit": null,
            "object_position": null,
            "order": null,
            "overflow": null,
            "overflow_x": null,
            "overflow_y": null,
            "padding": null,
            "right": null,
            "top": null,
            "visibility": null,
            "width": null
          }
        },
        "5b5ec81a409046a68f75274ce6270076": {
          "model_module": "@jupyter-widgets/controls",
          "model_name": "DescriptionStyleModel",
          "model_module_version": "1.5.0",
          "state": {
            "_model_module": "@jupyter-widgets/controls",
            "_model_module_version": "1.5.0",
            "_model_name": "DescriptionStyleModel",
            "_view_count": null,
            "_view_module": "@jupyter-widgets/base",
            "_view_module_version": "1.2.0",
            "_view_name": "StyleView",
            "description_width": ""
          }
        },
        "5e3336ca87cb49f6846f1ab4a5434b30": {
          "model_module": "@jupyter-widgets/base",
          "model_name": "LayoutModel",
          "model_module_version": "1.2.0",
          "state": {
            "_model_module": "@jupyter-widgets/base",
            "_model_module_version": "1.2.0",
            "_model_name": "LayoutModel",
            "_view_count": null,
            "_view_module": "@jupyter-widgets/base",
            "_view_module_version": "1.2.0",
            "_view_name": "LayoutView",
            "align_content": null,
            "align_items": null,
            "align_self": null,
            "border": null,
            "bottom": null,
            "display": null,
            "flex": null,
            "flex_flow": null,
            "grid_area": null,
            "grid_auto_columns": null,
            "grid_auto_flow": null,
            "grid_auto_rows": null,
            "grid_column": null,
            "grid_gap": null,
            "grid_row": null,
            "grid_template_areas": null,
            "grid_template_columns": null,
            "grid_template_rows": null,
            "height": null,
            "justify_content": null,
            "justify_items": null,
            "left": null,
            "margin": null,
            "max_height": null,
            "max_width": null,
            "min_height": null,
            "min_width": null,
            "object_fit": null,
            "object_position": null,
            "order": null,
            "overflow": null,
            "overflow_x": null,
            "overflow_y": null,
            "padding": null,
            "right": null,
            "top": null,
            "visibility": null,
            "width": null
          }
        },
        "6758fdf8704a4b4cb55357ec117e9128": {
          "model_module": "@jupyter-widgets/controls",
          "model_name": "ProgressStyleModel",
          "model_module_version": "1.5.0",
          "state": {
            "_model_module": "@jupyter-widgets/controls",
            "_model_module_version": "1.5.0",
            "_model_name": "ProgressStyleModel",
            "_view_count": null,
            "_view_module": "@jupyter-widgets/base",
            "_view_module_version": "1.2.0",
            "_view_name": "StyleView",
            "bar_color": null,
            "description_width": ""
          }
        },
        "732c1e353941447fad22f638d6336b8b": {
          "model_module": "@jupyter-widgets/base",
          "model_name": "LayoutModel",
          "model_module_version": "1.2.0",
          "state": {
            "_model_module": "@jupyter-widgets/base",
            "_model_module_version": "1.2.0",
            "_model_name": "LayoutModel",
            "_view_count": null,
            "_view_module": "@jupyter-widgets/base",
            "_view_module_version": "1.2.0",
            "_view_name": "LayoutView",
            "align_content": null,
            "align_items": null,
            "align_self": null,
            "border": null,
            "bottom": null,
            "display": null,
            "flex": null,
            "flex_flow": null,
            "grid_area": null,
            "grid_auto_columns": null,
            "grid_auto_flow": null,
            "grid_auto_rows": null,
            "grid_column": null,
            "grid_gap": null,
            "grid_row": null,
            "grid_template_areas": null,
            "grid_template_columns": null,
            "grid_template_rows": null,
            "height": null,
            "justify_content": null,
            "justify_items": null,
            "left": null,
            "margin": null,
            "max_height": null,
            "max_width": null,
            "min_height": null,
            "min_width": null,
            "object_fit": null,
            "object_position": null,
            "order": null,
            "overflow": null,
            "overflow_x": null,
            "overflow_y": null,
            "padding": null,
            "right": null,
            "top": null,
            "visibility": null,
            "width": null
          }
        },
        "206d5eaa327e42499e397f9792796250": {
          "model_module": "@jupyter-widgets/controls",
          "model_name": "DescriptionStyleModel",
          "model_module_version": "1.5.0",
          "state": {
            "_model_module": "@jupyter-widgets/controls",
            "_model_module_version": "1.5.0",
            "_model_name": "DescriptionStyleModel",
            "_view_count": null,
            "_view_module": "@jupyter-widgets/base",
            "_view_module_version": "1.2.0",
            "_view_name": "StyleView",
            "description_width": ""
          }
        },
        "599490bb69f443f7b55b3b72ad92e1b0": {
          "model_module": "@jupyter-widgets/controls",
          "model_name": "HBoxModel",
          "model_module_version": "1.5.0",
          "state": {
            "_dom_classes": [],
            "_model_module": "@jupyter-widgets/controls",
            "_model_module_version": "1.5.0",
            "_model_name": "HBoxModel",
            "_view_count": null,
            "_view_module": "@jupyter-widgets/controls",
            "_view_module_version": "1.5.0",
            "_view_name": "HBoxView",
            "box_style": "",
            "children": [
              "IPY_MODEL_27a0be5f7ad0453bb7c98480b5422d50",
              "IPY_MODEL_22fa06ac998f4a6aabc6410bcb14065d",
              "IPY_MODEL_1a22763510cc40dd834709b0c7be3665"
            ],
            "layout": "IPY_MODEL_ffc78dd5442f4f50a0893c79fedc757a"
          }
        },
        "27a0be5f7ad0453bb7c98480b5422d50": {
          "model_module": "@jupyter-widgets/controls",
          "model_name": "HTMLModel",
          "model_module_version": "1.5.0",
          "state": {
            "_dom_classes": [],
            "_model_module": "@jupyter-widgets/controls",
            "_model_module_version": "1.5.0",
            "_model_name": "HTMLModel",
            "_view_count": null,
            "_view_module": "@jupyter-widgets/controls",
            "_view_module_version": "1.5.0",
            "_view_name": "HTMLView",
            "description": "",
            "description_tooltip": null,
            "layout": "IPY_MODEL_7ee1128d6e6b4d8d8fa0fa84689deb7c",
            "placeholder": "​",
            "style": "IPY_MODEL_3cbe9a3dacb5418e8f71123ee6533117",
            "value": "100%"
          }
        },
        "22fa06ac998f4a6aabc6410bcb14065d": {
          "model_module": "@jupyter-widgets/controls",
          "model_name": "FloatProgressModel",
          "model_module_version": "1.5.0",
          "state": {
            "_dom_classes": [],
            "_model_module": "@jupyter-widgets/controls",
            "_model_module_version": "1.5.0",
            "_model_name": "FloatProgressModel",
            "_view_count": null,
            "_view_module": "@jupyter-widgets/controls",
            "_view_module_version": "1.5.0",
            "_view_name": "ProgressView",
            "bar_style": "success",
            "description": "",
            "description_tooltip": null,
            "layout": "IPY_MODEL_f17ef3424b6540559f023a1cbc68b107",
            "max": 1648877,
            "min": 0,
            "orientation": "horizontal",
            "style": "IPY_MODEL_0f81e34cbe734258a22a5111b38a9a0d",
            "value": 1648877
          }
        },
        "1a22763510cc40dd834709b0c7be3665": {
          "model_module": "@jupyter-widgets/controls",
          "model_name": "HTMLModel",
          "model_module_version": "1.5.0",
          "state": {
            "_dom_classes": [],
            "_model_module": "@jupyter-widgets/controls",
            "_model_module_version": "1.5.0",
            "_model_name": "HTMLModel",
            "_view_count": null,
            "_view_module": "@jupyter-widgets/controls",
            "_view_module_version": "1.5.0",
            "_view_name": "HTMLView",
            "description": "",
            "description_tooltip": null,
            "layout": "IPY_MODEL_39238bd64fab4371b0cbea935d797614",
            "placeholder": "​",
            "style": "IPY_MODEL_5e1ee5f320d747b79e79afad5738f78f",
            "value": " 1648877/1648877 [00:00&lt;00:00, 63479411.06it/s]"
          }
        },
        "ffc78dd5442f4f50a0893c79fedc757a": {
          "model_module": "@jupyter-widgets/base",
          "model_name": "LayoutModel",
          "model_module_version": "1.2.0",
          "state": {
            "_model_module": "@jupyter-widgets/base",
            "_model_module_version": "1.2.0",
            "_model_name": "LayoutModel",
            "_view_count": null,
            "_view_module": "@jupyter-widgets/base",
            "_view_module_version": "1.2.0",
            "_view_name": "LayoutView",
            "align_content": null,
            "align_items": null,
            "align_self": null,
            "border": null,
            "bottom": null,
            "display": null,
            "flex": null,
            "flex_flow": null,
            "grid_area": null,
            "grid_auto_columns": null,
            "grid_auto_flow": null,
            "grid_auto_rows": null,
            "grid_column": null,
            "grid_gap": null,
            "grid_row": null,
            "grid_template_areas": null,
            "grid_template_columns": null,
            "grid_template_rows": null,
            "height": null,
            "justify_content": null,
            "justify_items": null,
            "left": null,
            "margin": null,
            "max_height": null,
            "max_width": null,
            "min_height": null,
            "min_width": null,
            "object_fit": null,
            "object_position": null,
            "order": null,
            "overflow": null,
            "overflow_x": null,
            "overflow_y": null,
            "padding": null,
            "right": null,
            "top": null,
            "visibility": null,
            "width": null
          }
        },
        "7ee1128d6e6b4d8d8fa0fa84689deb7c": {
          "model_module": "@jupyter-widgets/base",
          "model_name": "LayoutModel",
          "model_module_version": "1.2.0",
          "state": {
            "_model_module": "@jupyter-widgets/base",
            "_model_module_version": "1.2.0",
            "_model_name": "LayoutModel",
            "_view_count": null,
            "_view_module": "@jupyter-widgets/base",
            "_view_module_version": "1.2.0",
            "_view_name": "LayoutView",
            "align_content": null,
            "align_items": null,
            "align_self": null,
            "border": null,
            "bottom": null,
            "display": null,
            "flex": null,
            "flex_flow": null,
            "grid_area": null,
            "grid_auto_columns": null,
            "grid_auto_flow": null,
            "grid_auto_rows": null,
            "grid_column": null,
            "grid_gap": null,
            "grid_row": null,
            "grid_template_areas": null,
            "grid_template_columns": null,
            "grid_template_rows": null,
            "height": null,
            "justify_content": null,
            "justify_items": null,
            "left": null,
            "margin": null,
            "max_height": null,
            "max_width": null,
            "min_height": null,
            "min_width": null,
            "object_fit": null,
            "object_position": null,
            "order": null,
            "overflow": null,
            "overflow_x": null,
            "overflow_y": null,
            "padding": null,
            "right": null,
            "top": null,
            "visibility": null,
            "width": null
          }
        },
        "3cbe9a3dacb5418e8f71123ee6533117": {
          "model_module": "@jupyter-widgets/controls",
          "model_name": "DescriptionStyleModel",
          "model_module_version": "1.5.0",
          "state": {
            "_model_module": "@jupyter-widgets/controls",
            "_model_module_version": "1.5.0",
            "_model_name": "DescriptionStyleModel",
            "_view_count": null,
            "_view_module": "@jupyter-widgets/base",
            "_view_module_version": "1.2.0",
            "_view_name": "StyleView",
            "description_width": ""
          }
        },
        "f17ef3424b6540559f023a1cbc68b107": {
          "model_module": "@jupyter-widgets/base",
          "model_name": "LayoutModel",
          "model_module_version": "1.2.0",
          "state": {
            "_model_module": "@jupyter-widgets/base",
            "_model_module_version": "1.2.0",
            "_model_name": "LayoutModel",
            "_view_count": null,
            "_view_module": "@jupyter-widgets/base",
            "_view_module_version": "1.2.0",
            "_view_name": "LayoutView",
            "align_content": null,
            "align_items": null,
            "align_self": null,
            "border": null,
            "bottom": null,
            "display": null,
            "flex": null,
            "flex_flow": null,
            "grid_area": null,
            "grid_auto_columns": null,
            "grid_auto_flow": null,
            "grid_auto_rows": null,
            "grid_column": null,
            "grid_gap": null,
            "grid_row": null,
            "grid_template_areas": null,
            "grid_template_columns": null,
            "grid_template_rows": null,
            "height": null,
            "justify_content": null,
            "justify_items": null,
            "left": null,
            "margin": null,
            "max_height": null,
            "max_width": null,
            "min_height": null,
            "min_width": null,
            "object_fit": null,
            "object_position": null,
            "order": null,
            "overflow": null,
            "overflow_x": null,
            "overflow_y": null,
            "padding": null,
            "right": null,
            "top": null,
            "visibility": null,
            "width": null
          }
        },
        "0f81e34cbe734258a22a5111b38a9a0d": {
          "model_module": "@jupyter-widgets/controls",
          "model_name": "ProgressStyleModel",
          "model_module_version": "1.5.0",
          "state": {
            "_model_module": "@jupyter-widgets/controls",
            "_model_module_version": "1.5.0",
            "_model_name": "ProgressStyleModel",
            "_view_count": null,
            "_view_module": "@jupyter-widgets/base",
            "_view_module_version": "1.2.0",
            "_view_name": "StyleView",
            "bar_color": null,
            "description_width": ""
          }
        },
        "39238bd64fab4371b0cbea935d797614": {
          "model_module": "@jupyter-widgets/base",
          "model_name": "LayoutModel",
          "model_module_version": "1.2.0",
          "state": {
            "_model_module": "@jupyter-widgets/base",
            "_model_module_version": "1.2.0",
            "_model_name": "LayoutModel",
            "_view_count": null,
            "_view_module": "@jupyter-widgets/base",
            "_view_module_version": "1.2.0",
            "_view_name": "LayoutView",
            "align_content": null,
            "align_items": null,
            "align_self": null,
            "border": null,
            "bottom": null,
            "display": null,
            "flex": null,
            "flex_flow": null,
            "grid_area": null,
            "grid_auto_columns": null,
            "grid_auto_flow": null,
            "grid_auto_rows": null,
            "grid_column": null,
            "grid_gap": null,
            "grid_row": null,
            "grid_template_areas": null,
            "grid_template_columns": null,
            "grid_template_rows": null,
            "height": null,
            "justify_content": null,
            "justify_items": null,
            "left": null,
            "margin": null,
            "max_height": null,
            "max_width": null,
            "min_height": null,
            "min_width": null,
            "object_fit": null,
            "object_position": null,
            "order": null,
            "overflow": null,
            "overflow_x": null,
            "overflow_y": null,
            "padding": null,
            "right": null,
            "top": null,
            "visibility": null,
            "width": null
          }
        },
        "5e1ee5f320d747b79e79afad5738f78f": {
          "model_module": "@jupyter-widgets/controls",
          "model_name": "DescriptionStyleModel",
          "model_module_version": "1.5.0",
          "state": {
            "_model_module": "@jupyter-widgets/controls",
            "_model_module_version": "1.5.0",
            "_model_name": "DescriptionStyleModel",
            "_view_count": null,
            "_view_module": "@jupyter-widgets/base",
            "_view_module_version": "1.2.0",
            "_view_name": "StyleView",
            "description_width": ""
          }
        },
        "8d3fab1598144449bf3f7b7f89075635": {
          "model_module": "@jupyter-widgets/controls",
          "model_name": "HBoxModel",
          "model_module_version": "1.5.0",
          "state": {
            "_dom_classes": [],
            "_model_module": "@jupyter-widgets/controls",
            "_model_module_version": "1.5.0",
            "_model_name": "HBoxModel",
            "_view_count": null,
            "_view_module": "@jupyter-widgets/controls",
            "_view_module_version": "1.5.0",
            "_view_name": "HBoxView",
            "box_style": "",
            "children": [
              "IPY_MODEL_a40a4225295f4b8e86069083af835544",
              "IPY_MODEL_dcd9b90b570440dbbfbad29182d641d1",
              "IPY_MODEL_d2dbfa8d7c1340b38b7982170d7094be"
            ],
            "layout": "IPY_MODEL_15991f13b4a5499fa8fb4284266ef4ee"
          }
        },
        "a40a4225295f4b8e86069083af835544": {
          "model_module": "@jupyter-widgets/controls",
          "model_name": "HTMLModel",
          "model_module_version": "1.5.0",
          "state": {
            "_dom_classes": [],
            "_model_module": "@jupyter-widgets/controls",
            "_model_module_version": "1.5.0",
            "_model_name": "HTMLModel",
            "_view_count": null,
            "_view_module": "@jupyter-widgets/controls",
            "_view_module_version": "1.5.0",
            "_view_name": "HTMLView",
            "description": "",
            "description_tooltip": null,
            "layout": "IPY_MODEL_c7a20157663844bfa7e694a0a8215b20",
            "placeholder": "​",
            "style": "IPY_MODEL_ea336b6c2d9f42be8572cab5f4a1d819",
            "value": "100%"
          }
        },
        "dcd9b90b570440dbbfbad29182d641d1": {
          "model_module": "@jupyter-widgets/controls",
          "model_name": "FloatProgressModel",
          "model_module_version": "1.5.0",
          "state": {
            "_dom_classes": [],
            "_model_module": "@jupyter-widgets/controls",
            "_model_module_version": "1.5.0",
            "_model_name": "FloatProgressModel",
            "_view_count": null,
            "_view_module": "@jupyter-widgets/controls",
            "_view_module_version": "1.5.0",
            "_view_name": "ProgressView",
            "bar_style": "success",
            "description": "",
            "description_tooltip": null,
            "layout": "IPY_MODEL_c713f0dae6e348b0a61231c73e81d70c",
            "max": 4542,
            "min": 0,
            "orientation": "horizontal",
            "style": "IPY_MODEL_654835bdece94e109f187c455ab2206b",
            "value": 4542
          }
        },
        "d2dbfa8d7c1340b38b7982170d7094be": {
          "model_module": "@jupyter-widgets/controls",
          "model_name": "HTMLModel",
          "model_module_version": "1.5.0",
          "state": {
            "_dom_classes": [],
            "_model_module": "@jupyter-widgets/controls",
            "_model_module_version": "1.5.0",
            "_model_name": "HTMLModel",
            "_view_count": null,
            "_view_module": "@jupyter-widgets/controls",
            "_view_module_version": "1.5.0",
            "_view_name": "HTMLView",
            "description": "",
            "description_tooltip": null,
            "layout": "IPY_MODEL_5553455901024d63a2e1b7887b685325",
            "placeholder": "​",
            "style": "IPY_MODEL_b2272e6fbc0f49c8af9a50287ba93313",
            "value": " 4542/4542 [00:00&lt;00:00, 144393.29it/s]"
          }
        },
        "15991f13b4a5499fa8fb4284266ef4ee": {
          "model_module": "@jupyter-widgets/base",
          "model_name": "LayoutModel",
          "model_module_version": "1.2.0",
          "state": {
            "_model_module": "@jupyter-widgets/base",
            "_model_module_version": "1.2.0",
            "_model_name": "LayoutModel",
            "_view_count": null,
            "_view_module": "@jupyter-widgets/base",
            "_view_module_version": "1.2.0",
            "_view_name": "LayoutView",
            "align_content": null,
            "align_items": null,
            "align_self": null,
            "border": null,
            "bottom": null,
            "display": null,
            "flex": null,
            "flex_flow": null,
            "grid_area": null,
            "grid_auto_columns": null,
            "grid_auto_flow": null,
            "grid_auto_rows": null,
            "grid_column": null,
            "grid_gap": null,
            "grid_row": null,
            "grid_template_areas": null,
            "grid_template_columns": null,
            "grid_template_rows": null,
            "height": null,
            "justify_content": null,
            "justify_items": null,
            "left": null,
            "margin": null,
            "max_height": null,
            "max_width": null,
            "min_height": null,
            "min_width": null,
            "object_fit": null,
            "object_position": null,
            "order": null,
            "overflow": null,
            "overflow_x": null,
            "overflow_y": null,
            "padding": null,
            "right": null,
            "top": null,
            "visibility": null,
            "width": null
          }
        },
        "c7a20157663844bfa7e694a0a8215b20": {
          "model_module": "@jupyter-widgets/base",
          "model_name": "LayoutModel",
          "model_module_version": "1.2.0",
          "state": {
            "_model_module": "@jupyter-widgets/base",
            "_model_module_version": "1.2.0",
            "_model_name": "LayoutModel",
            "_view_count": null,
            "_view_module": "@jupyter-widgets/base",
            "_view_module_version": "1.2.0",
            "_view_name": "LayoutView",
            "align_content": null,
            "align_items": null,
            "align_self": null,
            "border": null,
            "bottom": null,
            "display": null,
            "flex": null,
            "flex_flow": null,
            "grid_area": null,
            "grid_auto_columns": null,
            "grid_auto_flow": null,
            "grid_auto_rows": null,
            "grid_column": null,
            "grid_gap": null,
            "grid_row": null,
            "grid_template_areas": null,
            "grid_template_columns": null,
            "grid_template_rows": null,
            "height": null,
            "justify_content": null,
            "justify_items": null,
            "left": null,
            "margin": null,
            "max_height": null,
            "max_width": null,
            "min_height": null,
            "min_width": null,
            "object_fit": null,
            "object_position": null,
            "order": null,
            "overflow": null,
            "overflow_x": null,
            "overflow_y": null,
            "padding": null,
            "right": null,
            "top": null,
            "visibility": null,
            "width": null
          }
        },
        "ea336b6c2d9f42be8572cab5f4a1d819": {
          "model_module": "@jupyter-widgets/controls",
          "model_name": "DescriptionStyleModel",
          "model_module_version": "1.5.0",
          "state": {
            "_model_module": "@jupyter-widgets/controls",
            "_model_module_version": "1.5.0",
            "_model_name": "DescriptionStyleModel",
            "_view_count": null,
            "_view_module": "@jupyter-widgets/base",
            "_view_module_version": "1.2.0",
            "_view_name": "StyleView",
            "description_width": ""
          }
        },
        "c713f0dae6e348b0a61231c73e81d70c": {
          "model_module": "@jupyter-widgets/base",
          "model_name": "LayoutModel",
          "model_module_version": "1.2.0",
          "state": {
            "_model_module": "@jupyter-widgets/base",
            "_model_module_version": "1.2.0",
            "_model_name": "LayoutModel",
            "_view_count": null,
            "_view_module": "@jupyter-widgets/base",
            "_view_module_version": "1.2.0",
            "_view_name": "LayoutView",
            "align_content": null,
            "align_items": null,
            "align_self": null,
            "border": null,
            "bottom": null,
            "display": null,
            "flex": null,
            "flex_flow": null,
            "grid_area": null,
            "grid_auto_columns": null,
            "grid_auto_flow": null,
            "grid_auto_rows": null,
            "grid_column": null,
            "grid_gap": null,
            "grid_row": null,
            "grid_template_areas": null,
            "grid_template_columns": null,
            "grid_template_rows": null,
            "height": null,
            "justify_content": null,
            "justify_items": null,
            "left": null,
            "margin": null,
            "max_height": null,
            "max_width": null,
            "min_height": null,
            "min_width": null,
            "object_fit": null,
            "object_position": null,
            "order": null,
            "overflow": null,
            "overflow_x": null,
            "overflow_y": null,
            "padding": null,
            "right": null,
            "top": null,
            "visibility": null,
            "width": null
          }
        },
        "654835bdece94e109f187c455ab2206b": {
          "model_module": "@jupyter-widgets/controls",
          "model_name": "ProgressStyleModel",
          "model_module_version": "1.5.0",
          "state": {
            "_model_module": "@jupyter-widgets/controls",
            "_model_module_version": "1.5.0",
            "_model_name": "ProgressStyleModel",
            "_view_count": null,
            "_view_module": "@jupyter-widgets/base",
            "_view_module_version": "1.2.0",
            "_view_name": "StyleView",
            "bar_color": null,
            "description_width": ""
          }
        },
        "5553455901024d63a2e1b7887b685325": {
          "model_module": "@jupyter-widgets/base",
          "model_name": "LayoutModel",
          "model_module_version": "1.2.0",
          "state": {
            "_model_module": "@jupyter-widgets/base",
            "_model_module_version": "1.2.0",
            "_model_name": "LayoutModel",
            "_view_count": null,
            "_view_module": "@jupyter-widgets/base",
            "_view_module_version": "1.2.0",
            "_view_name": "LayoutView",
            "align_content": null,
            "align_items": null,
            "align_self": null,
            "border": null,
            "bottom": null,
            "display": null,
            "flex": null,
            "flex_flow": null,
            "grid_area": null,
            "grid_auto_columns": null,
            "grid_auto_flow": null,
            "grid_auto_rows": null,
            "grid_column": null,
            "grid_gap": null,
            "grid_row": null,
            "grid_template_areas": null,
            "grid_template_columns": null,
            "grid_template_rows": null,
            "height": null,
            "justify_content": null,
            "justify_items": null,
            "left": null,
            "margin": null,
            "max_height": null,
            "max_width": null,
            "min_height": null,
            "min_width": null,
            "object_fit": null,
            "object_position": null,
            "order": null,
            "overflow": null,
            "overflow_x": null,
            "overflow_y": null,
            "padding": null,
            "right": null,
            "top": null,
            "visibility": null,
            "width": null
          }
        },
        "b2272e6fbc0f49c8af9a50287ba93313": {
          "model_module": "@jupyter-widgets/controls",
          "model_name": "DescriptionStyleModel",
          "model_module_version": "1.5.0",
          "state": {
            "_model_module": "@jupyter-widgets/controls",
            "_model_module_version": "1.5.0",
            "_model_name": "DescriptionStyleModel",
            "_view_count": null,
            "_view_module": "@jupyter-widgets/base",
            "_view_module_version": "1.2.0",
            "_view_name": "StyleView",
            "description_width": ""
          }
        }
      }
    }
  },
  "cells": [
    {
      "cell_type": "markdown",
      "metadata": {
        "id": "view-in-github",
        "colab_type": "text"
      },
      "source": [
        "<a href=\"https://colab.research.google.com/github/pmj-chosim/Commit-Project-2023.1.20-2023.2.28-/blob/main/2_%EC%9D%B4%EB%AF%B8%EC%A7%80_%EB%B6%84%EB%A5%98_%EC%8B%A4%EC%8A%B5.ipynb\" target=\"_parent\"><img src=\"https://colab.research.google.com/assets/colab-badge.svg\" alt=\"Open In Colab\"/></a>"
      ]
    },
    {
      "cell_type": "markdown",
      "source": [
        "# Dataset 불러오기 - #1"
      ],
      "metadata": {
        "id": "zmKhA_MWwvP3"
      }
    },
    {
      "cell_type": "code",
      "source": [
        "from torchvision import datasets\n",
        "from torchvision import transforms"
      ],
      "metadata": {
        "id": "iXTs0ZrOwu6i"
      },
      "execution_count": 1,
      "outputs": []
    },
    {
      "cell_type": "code",
      "source": [
        "# 데이터 증강\n",
        "transform_train = transforms.Compose([transforms.ToTensor(),\n",
        "                                      # transforms.Resize(224, 224),\n",
        "                                      # transforms.Normalize((0.4914, 0.4822, 0.4465), (0.2023, 0.1994, 0.2010)),\n",
        "                                      # transforms.RandomCrop(196),\n",
        "                                      # transforms.RandomHorizontalFlip(),\n",
        "                                      # transforms.RandomVerticalFlip(),\n",
        "])\n",
        "\n",
        "transform_test = transforms.Compose([transforms.ToTensor(),\n",
        "                                     # transforms.Resize(224, 224),\n",
        "                                     # transforms.Normalize((0.4914, 0.4822, 0.4465), (0.2023, 0.1994, 0.2010)),\n",
        "])\n",
        "\n",
        "# 데이터셋 불러오기 (MNIST)\n",
        "train_set = datasets.MNIST(\n",
        "    root='./data',        # 데이터 저장 위치\n",
        "    train=True,           # True: train set, False: test set\n",
        "    download=True,       # 다운로드 여부, (이미 다운받았으면 False로 지정)\n",
        "    transform=transform_train   # 데이터 선처리 작업\n",
        ")\n",
        "\n",
        "test_set = datasets.MNIST(\n",
        "    root='./data',        # 데이터 저장 위치\n",
        "    train=False,           # True: train set, False: test set\n",
        "    download=True,       # 다운로드 여부, (이미 다운받았으면 False로 지정)\n",
        "    transform=transform_test   # 데이터 선처리 작업\n",
        ")\n",
        "\n",
        "# 데이터셋 불러오기 (CIFAR10)\n",
        "# train_set = datasets.CIFAR10(\n",
        "#     root='./data',        # 데이터 저장 위치\n",
        "#     train=True,           # True: train set, False: test set\n",
        "#     download=True,       # 다운로드 여부, (이미 다운받았으면 False로 지정)\n",
        "#     transform=transform_train   # 데이터 선처리 작업\n",
        "# )\n",
        "\n",
        "# test_set = datasets.CIFAR10(\n",
        "#     root='./data',        # 데이터 저장 위치\n",
        "#     train=False,           # True: train set, False: test set\n",
        "#     download=True,       # 다운로드 여부, (이미 다운받았으면 False로 지정)\n",
        "#     transform=transform_test   # 데이터 선처리 작업\n",
        "# )"
      ],
      "metadata": {
        "id": "q7OfAhcgxarG",
        "colab": {
          "base_uri": "https://localhost:8080/",
          "height": 437,
          "referenced_widgets": [
            "4852b221e849427c88c0e32ab85b53ca",
            "13ce66798de54171be759ac08666d386",
            "4a63775695944294b1e4e4c9116fb747",
            "ed550bf2bab04db5839fb8fa6e6559ab",
            "217f5aa2967c4132936c9fe5cfd14cb5",
            "0fb4bc66b2a84e2d9dedab75b6362757",
            "687221bcd108499d91ee23862b3bf533",
            "67ae9907690845329795aabb3bb1c4ec",
            "0a9de2263ed0431ba158af1939de4c59",
            "7c7329f2d2fc4357b6efaadeba976ed1",
            "4f67e5497b41490e9081dc5a92bb2271",
            "63337bbb871a4061bac842a5264bb069",
            "12c85901795442139a4f0fba4bb2d0be",
            "ce8d7fa40aca478e8fed14bdf2a4a0c6",
            "77b3e1d2d2ed4f2692564aa486885516",
            "e7239c6edf0f4d9ca0c884ef2af44dfa",
            "a8dff4a4f3c34e8787ac5a12e4f39574",
            "5b5ec81a409046a68f75274ce6270076",
            "5e3336ca87cb49f6846f1ab4a5434b30",
            "6758fdf8704a4b4cb55357ec117e9128",
            "732c1e353941447fad22f638d6336b8b",
            "206d5eaa327e42499e397f9792796250",
            "599490bb69f443f7b55b3b72ad92e1b0",
            "27a0be5f7ad0453bb7c98480b5422d50",
            "22fa06ac998f4a6aabc6410bcb14065d",
            "1a22763510cc40dd834709b0c7be3665",
            "ffc78dd5442f4f50a0893c79fedc757a",
            "7ee1128d6e6b4d8d8fa0fa84689deb7c",
            "3cbe9a3dacb5418e8f71123ee6533117",
            "f17ef3424b6540559f023a1cbc68b107",
            "0f81e34cbe734258a22a5111b38a9a0d",
            "39238bd64fab4371b0cbea935d797614",
            "5e1ee5f320d747b79e79afad5738f78f",
            "8d3fab1598144449bf3f7b7f89075635",
            "a40a4225295f4b8e86069083af835544",
            "dcd9b90b570440dbbfbad29182d641d1",
            "d2dbfa8d7c1340b38b7982170d7094be",
            "15991f13b4a5499fa8fb4284266ef4ee",
            "c7a20157663844bfa7e694a0a8215b20",
            "ea336b6c2d9f42be8572cab5f4a1d819",
            "c713f0dae6e348b0a61231c73e81d70c",
            "654835bdece94e109f187c455ab2206b",
            "5553455901024d63a2e1b7887b685325",
            "b2272e6fbc0f49c8af9a50287ba93313"
          ]
        },
        "outputId": "c470c5ba-03e5-4be3-eb42-10c5304db2a8"
      },
      "execution_count": 2,
      "outputs": [
        {
          "output_type": "stream",
          "name": "stdout",
          "text": [
            "Downloading http://yann.lecun.com/exdb/mnist/train-images-idx3-ubyte.gz\n",
            "Downloading http://yann.lecun.com/exdb/mnist/train-images-idx3-ubyte.gz to ./data/MNIST/raw/train-images-idx3-ubyte.gz\n"
          ]
        },
        {
          "output_type": "display_data",
          "data": {
            "text/plain": [
              "  0%|          | 0/9912422 [00:00<?, ?it/s]"
            ],
            "application/vnd.jupyter.widget-view+json": {
              "version_major": 2,
              "version_minor": 0,
              "model_id": "4852b221e849427c88c0e32ab85b53ca"
            }
          },
          "metadata": {}
        },
        {
          "output_type": "stream",
          "name": "stdout",
          "text": [
            "Extracting ./data/MNIST/raw/train-images-idx3-ubyte.gz to ./data/MNIST/raw\n",
            "\n",
            "Downloading http://yann.lecun.com/exdb/mnist/train-labels-idx1-ubyte.gz\n",
            "Downloading http://yann.lecun.com/exdb/mnist/train-labels-idx1-ubyte.gz to ./data/MNIST/raw/train-labels-idx1-ubyte.gz\n"
          ]
        },
        {
          "output_type": "display_data",
          "data": {
            "text/plain": [
              "  0%|          | 0/28881 [00:00<?, ?it/s]"
            ],
            "application/vnd.jupyter.widget-view+json": {
              "version_major": 2,
              "version_minor": 0,
              "model_id": "63337bbb871a4061bac842a5264bb069"
            }
          },
          "metadata": {}
        },
        {
          "output_type": "stream",
          "name": "stdout",
          "text": [
            "Extracting ./data/MNIST/raw/train-labels-idx1-ubyte.gz to ./data/MNIST/raw\n",
            "\n",
            "Downloading http://yann.lecun.com/exdb/mnist/t10k-images-idx3-ubyte.gz\n",
            "Downloading http://yann.lecun.com/exdb/mnist/t10k-images-idx3-ubyte.gz to ./data/MNIST/raw/t10k-images-idx3-ubyte.gz\n"
          ]
        },
        {
          "output_type": "display_data",
          "data": {
            "text/plain": [
              "  0%|          | 0/1648877 [00:00<?, ?it/s]"
            ],
            "application/vnd.jupyter.widget-view+json": {
              "version_major": 2,
              "version_minor": 0,
              "model_id": "599490bb69f443f7b55b3b72ad92e1b0"
            }
          },
          "metadata": {}
        },
        {
          "output_type": "stream",
          "name": "stdout",
          "text": [
            "Extracting ./data/MNIST/raw/t10k-images-idx3-ubyte.gz to ./data/MNIST/raw\n",
            "\n",
            "Downloading http://yann.lecun.com/exdb/mnist/t10k-labels-idx1-ubyte.gz\n",
            "Downloading http://yann.lecun.com/exdb/mnist/t10k-labels-idx1-ubyte.gz to ./data/MNIST/raw/t10k-labels-idx1-ubyte.gz\n"
          ]
        },
        {
          "output_type": "display_data",
          "data": {
            "text/plain": [
              "  0%|          | 0/4542 [00:00<?, ?it/s]"
            ],
            "application/vnd.jupyter.widget-view+json": {
              "version_major": 2,
              "version_minor": 0,
              "model_id": "8d3fab1598144449bf3f7b7f89075635"
            }
          },
          "metadata": {}
        },
        {
          "output_type": "stream",
          "name": "stdout",
          "text": [
            "Extracting ./data/MNIST/raw/t10k-labels-idx1-ubyte.gz to ./data/MNIST/raw\n",
            "\n"
          ]
        }
      ]
    },
    {
      "cell_type": "markdown",
      "source": [
        "# SVM을 사용한 이미지 분류 - #2\n",
        "\n"
      ],
      "metadata": {
        "id": "Rzk7g6Ko1uNk"
      }
    },
    {
      "cell_type": "code",
      "source": [
        "import cv2\n",
        "import numpy as np\n",
        "from tqdm import tqdm\n",
        "from sklearn.svm import SVC, LinearSVC\n",
        "from sklearn.datasets import fetch_openml\n",
        "import matplotlib.pyplot as plt\n",
        "\n",
        "# 학습, 시험 데이터 나누기\n",
        "X_train = train_set.data.numpy()\n",
        "y_train = train_set.targets.numpy()\n",
        "X_test = test_set.data.numpy()\n",
        "y_test = test_set.targets.numpy()\n",
        "\n",
        "print(X_train.shape)\n",
        "print(X_test.shape)"
      ],
      "metadata": {
        "colab": {
          "base_uri": "https://localhost:8080/"
        },
        "id": "C4v3sspBSqPg",
        "outputId": "0708f92c-5324-43db-c06c-fdb7242a3ee5"
      },
      "execution_count": 3,
      "outputs": [
        {
          "output_type": "stream",
          "name": "stdout",
          "text": [
            "(60000, 28, 28)\n",
            "(10000, 28, 28)\n"
          ]
        }
      ]
    },
    {
      "cell_type": "code",
      "source": [
        "# 이미지를 Flatten\n",
        "X_train_f = X_train.reshape(X_train.shape[0], -1)\n",
        "X_test_f = X_test.reshape(X_test.shape[0], -1)\n",
        "print(X_train_f.shape)\n",
        "print(X_test_f.shape)"
      ],
      "metadata": {
        "colab": {
          "base_uri": "https://localhost:8080/"
        },
        "id": "cozc09SKabAH",
        "outputId": "d2196c85-a1da-4b46-e66c-464126c79a23"
      },
      "execution_count": 4,
      "outputs": [
        {
          "output_type": "stream",
          "name": "stdout",
          "text": [
            "(60000, 784)\n",
            "(10000, 784)\n"
          ]
        }
      ]
    },
    {
      "cell_type": "code",
      "source": [
        "# 학습 (6~7분)\n",
        "svm = SVC(verbose=1)\n",
        "svm.fit(X_train_f, y_train)"
      ],
      "metadata": {
        "colab": {
          "base_uri": "https://localhost:8080/"
        },
        "id": "lekCqRS2ciUX",
        "outputId": "28e8884c-a901-43e3-d964-694675aa31f1"
      },
      "execution_count": 5,
      "outputs": [
        {
          "output_type": "stream",
          "name": "stdout",
          "text": [
            "[LibSVM]"
          ]
        },
        {
          "output_type": "execute_result",
          "data": {
            "text/plain": [
              "SVC(verbose=1)"
            ]
          },
          "metadata": {},
          "execution_count": 5
        }
      ]
    },
    {
      "cell_type": "code",
      "source": [
        "# 평가 (2~3분)\n",
        "pred = svm.predict(X_test_f)\n",
        "print(f'정확도: {round((pred == y_test).sum()/y_test.shape[0]*100, 2)}%')"
      ],
      "metadata": {
        "colab": {
          "base_uri": "https://localhost:8080/"
        },
        "id": "X2mYgLH5Tg3g",
        "outputId": "384e3f9f-319a-4c77-f80d-16fdcc561ca5"
      },
      "execution_count": 6,
      "outputs": [
        {
          "output_type": "stream",
          "name": "stdout",
          "text": [
            "정확도: 97.92%\n"
          ]
        }
      ]
    },
    {
      "cell_type": "code",
      "source": [
        "# 틀린 데이터 찾기\n",
        "wrong = np.where((pred == y_test)==False)[0]\n",
        "print(wrong)"
      ],
      "metadata": {
        "colab": {
          "base_uri": "https://localhost:8080/"
        },
        "id": "3O749D1MktF2",
        "outputId": "a5d33cbb-656f-4e13-dcb0-fd4011d41d4d"
      },
      "execution_count": 7,
      "outputs": [
        {
          "output_type": "stream",
          "name": "stdout",
          "text": [
            "[   8  124  149  151  241  247  259  321  340  381  445  447  448  495\n",
            "  543  582  659  684  691  707  717  720  740  844  882  947  956  965\n",
            " 1014 1039 1044 1112 1192 1194 1226 1232 1242 1247 1260 1299 1319 1326\n",
            " 1328 1378 1393 1494 1500 1522 1530 1549 1553 1581 1609 1678 1681 1709\n",
            " 1717 1754 1790 1901 1938 1941 1952 2035 2043 2044 2053 2070 2098 2109\n",
            " 2118 2129 2130 2135 2182 2185 2189 2272 2293 2299 2387 2406 2414 2422\n",
            " 2462 2488 2573 2597 2607 2648 2654 2863 2896 2927 2939 2953 3060 3073\n",
            " 3117 3206 3330 3333 3384 3422 3475 3503 3520 3549 3558 3559 3567 3597\n",
            " 3718 3751 3757 3767 3776 3780 3796 3808 3811 3853 3906 3941 3946 3985\n",
            " 4065 4075 4078 4163 4176 4201 4224 4248 4289 4300 4497 4500 4575 4639\n",
            " 4690 4740 4761 4807 4814 4823 4880 4886 4966 4990 5331 5457 5600 5642\n",
            " 5734 5749 5835 5887 5936 5937 5955 5972 5973 6035 6059 6166 6505 6555\n",
            " 6560 6571 6576 6597 6598 6625 6651 6817 7432 7434 8020 8094 8246 8339\n",
            " 8408 8520 8527 9009 9015 9019 9024 9482 9587 9634 9642 9664 9692 9698\n",
            " 9729 9745 9749 9768 9770 9779 9792 9808 9839 9867 9944 9982]\n"
          ]
        }
      ]
    },
    {
      "cell_type": "code",
      "source": [
        "# 샘플 테스트\n",
        "sample = X_test_f[:3]\n",
        "sample_pred = svm.predict(sample)\n",
        "\n",
        "# 오답 샘플 테스트\n",
        "wrong_sample = X_test_f[wrong[:3]]\n",
        "wrong_sample_pred = svm.predict(wrong_sample)\n",
        "\n",
        "# 이미지 및 예측값 출력\n",
        "plt.figure(figsize=(10, 10))\n",
        "\n",
        "# 샘플 1\n",
        "plt.subplot(2, 3, 1)\n",
        "plt.title(f'prediction: {sample_pred[0]}')\n",
        "plt.imshow(X_test[0], cmap='gray')\n",
        "\n",
        "# 샘플 2\n",
        "plt.subplot(2, 3, 2)\n",
        "plt.title(f'prediction: {sample_pred[1]}')\n",
        "plt.imshow(X_test[1], cmap='gray')\n",
        "\n",
        "# 샘플 3\n",
        "plt.subplot(2, 3, 3)\n",
        "plt.title(f'prediction: {sample_pred[2]}')\n",
        "plt.imshow(X_test[2], cmap='gray')\n",
        "\n",
        "# 오답 샘플 1\n",
        "plt.subplot(2, 3, 4)\n",
        "plt.title(f'prediction: {wrong_sample_pred[0]}')\n",
        "plt.imshow(X_test[wrong[0]], cmap='gray')\n",
        "\n",
        "# 오답 샘플 2\n",
        "plt.subplot(2, 3, 5)\n",
        "plt.title(f'prediction: {wrong_sample_pred[1]}')\n",
        "plt.imshow(X_test[wrong[1]], cmap='gray')\n",
        "\n",
        "# 오답 샘플 3\n",
        "plt.subplot(2, 3, 6)\n",
        "plt.title(f'prediction: {wrong_sample_pred[2]}')\n",
        "plt.imshow(X_test[wrong[2]], cmap='gray')\n",
        "\n",
        "plt.show()"
      ],
      "metadata": {
        "colab": {
          "base_uri": "https://localhost:8080/",
          "height": 525
        },
        "id": "9IN87LQ9e3sF",
        "outputId": "93f75f49-e688-472e-d419-7e9f878281dc"
      },
      "execution_count": 8,
      "outputs": [
        {
          "output_type": "display_data",
          "data": {
            "text/plain": [
              "<Figure size 720x720 with 6 Axes>"
            ],
            "image/png": "[encoded data removed]"
          },
          "metadata": {
            "needs_background": "light"
          }
        }
      ]
    },
    {
      "cell_type": "markdown",
      "source": [
        "# 커스텀 데이터셋 구성 - #3"
      ],
      "metadata": {
        "id": "op4Y534-msiT"
      }
    },
    {
      "cell_type": "code",
      "source": [
        "import os\n",
        "import torch\n",
        "import torch.nn as nn\n",
        "import torch.optim as optim\n",
        "from torch.utils.data import Dataset, DataLoader\n",
        "from torch.utils.tensorboard import SummaryWriter\n",
        "from tqdm import tqdm\n",
        "import matplotlib.pyplot as plt"
      ],
      "metadata": {
        "id": "FsvyPAuNoS1U"
      },
      "execution_count": 9,
      "outputs": []
    },
    {
      "cell_type": "code",
      "source": [
        "class MyDataset(Dataset):\n",
        "  def __init__(self, images, labels, transform):\n",
        "    self.images = images.numpy()\n",
        "    self.labels = labels\n",
        "    self.transform = transform\n",
        "  \n",
        "  def __len__(self,):\n",
        "    return self.images.shape[0]\n",
        "  \n",
        "  def __getitem__(self, index):\n",
        "    images = self.transform(self.images[index])\n",
        "    labels = self.labels[index]\n",
        "\n",
        "    return images, labels"
      ],
      "metadata": {
        "id": "knWMy3VsOJ6p"
      },
      "execution_count": 10,
      "outputs": []
    },
    {
      "cell_type": "code",
      "source": [
        "train_data = MyDataset(train_set.data[:50000], train_set.targets[:50000], transform_train)\n",
        "valid_data = MyDataset(train_set.data[50000:], train_set.targets[50000:], transform_test)\n",
        "\n",
        "print(len(train_data))\n",
        "print(len(valid_data))\n",
        "print(len(test_set))"
      ],
      "metadata": {
        "colab": {
          "base_uri": "https://localhost:8080/"
        },
        "id": "5yPPhYToOxFw",
        "outputId": "77ccca46-3294-443d-a254-ea130d688504"
      },
      "execution_count": 11,
      "outputs": [
        {
          "output_type": "stream",
          "name": "stdout",
          "text": [
            "50000\n",
            "10000\n",
            "10000\n"
          ]
        }
      ]
    },
    {
      "cell_type": "code",
      "source": [
        "batch_size = 128\n",
        "train_loader = DataLoader(train_data, batch_size=batch_size)\n",
        "valid_loader = DataLoader(valid_data, batch_size=batch_size)\n",
        "test_loader = DataLoader(test_set, batch_size=batch_size)"
      ],
      "metadata": {
        "id": "vmFlmz4eOc4K"
      },
      "execution_count": 12,
      "outputs": []
    },
    {
      "cell_type": "code",
      "source": [
        "plt.figure(figsize=(10, 10))\n",
        "plt.subplot(1, 3, 1), plt.imshow(train_data.__getitem__(0)[0].squeeze(), 'gray'), plt.title('Train data')\n",
        "plt.subplot(1, 3, 2), plt.imshow(valid_data[0][0].squeeze(), 'gray'), plt.title('Valid data')\n",
        "plt.subplot(1, 3, 3), plt.imshow(test_set[0][0].squeeze(), 'gray'), plt.title('Test data')\n",
        "\n",
        "plt.show()"
      ],
      "metadata": {
        "colab": {
          "base_uri": "https://localhost:8080/",
          "height": 228
        },
        "id": "w5PExMgiFcsh",
        "outputId": "70d71d73-1755-4ec4-9fd3-0bf6892f1806"
      },
      "execution_count": 13,
      "outputs": [
        {
          "output_type": "display_data",
          "data": {
            "text/plain": [
              "<Figure size 720x720 with 3 Axes>"
            ],
            "image/png": "[encoded data removed]"
          },
          "metadata": {
            "needs_background": "light"
          }
        }
      ]
    },
    {
      "cell_type": "code",
      "source": [
        "# gpu를 사용할 수 있으면 gpu, 아니면 cpu 사용\n",
        "device = torch.device('cuda:0' if torch.cuda.is_available() else 'cpu')\n",
        "device"
      ],
      "metadata": {
        "id": "ezMceFUQxsTM",
        "colab": {
          "base_uri": "https://localhost:8080/"
        },
        "outputId": "8e4d6dba-327e-4755-f51b-e476a696d781"
      },
      "execution_count": 14,
      "outputs": [
        {
          "output_type": "execute_result",
          "data": {
            "text/plain": [
              "device(type='cuda', index=0)"
            ]
          },
          "metadata": {},
          "execution_count": 14
        }
      ]
    },
    {
      "cell_type": "markdown",
      "source": [
        "# CNN 모델 구성 - #4"
      ],
      "metadata": {
        "id": "GNeFFhbOn6rs"
      }
    },
    {
      "cell_type": "code",
      "source": [
        "# LeNet 모델 정의\n",
        "class LeNet5(nn.Module):\n",
        "  # 모델 구조 선언\n",
        "  def __init__(self, num_classes):\n",
        "    super().__init__()\n",
        "\n",
        "    # 컨볼루션 블록\n",
        "    self.backbone = nn.Sequential(nn.Conv2d(in_channels=1, out_channels=6, kernel_size=(5, 5), stride=(1, 1), padding=0, padding_mode='zeros'), # MNIST\n",
        "                                  # nn.Conv2d(in_channels=3, out_channels=6, kernel_size=(5, 5), stride=(1, 1), padding=0, padding_mode='zeros'), # Cifar-10\n",
        "                                  nn.Tanh(),\n",
        "                                  nn.MaxPool2d(kernel_size=(2, 2), stride=(2, 2), padding=0),\n",
        "                                  nn.Conv2d(in_channels=6, out_channels=16, kernel_size=(5, 5), stride=(1, 1), padding=0, padding_mode='zeros'),\n",
        "                                  nn.Tanh(),\n",
        "                                  nn.MaxPool2d(kernel_size=(2, 2), stride=(2, 2), padding=0),\n",
        "                                  nn.Conv2d(in_channels=16, out_channels=120, kernel_size=(5, 5), stride=(1, 1), padding=0, padding_mode='zeros'),\n",
        "                                  nn.Tanh())\n",
        "\n",
        "    # 분류기\n",
        "    self.classifier = nn.Sequential(nn.Linear(in_features=120, out_features=84),\n",
        "                                    nn.Tanh(),\n",
        "                                    nn.Linear(in_features=84, out_features=num_classes))\n",
        "\n",
        "  # 순전파\n",
        "  def forward(self, image):\n",
        "    # 컨볼루션 블록\n",
        "    feature = self.backbone(image)\n",
        "\n",
        "    # Flatten\n",
        "    feature = feature.view(feature.shape[0], -1)\n",
        "\n",
        "    # 분류기\n",
        "    pred = self.classifier(feature)\n",
        "\n",
        "    return pred"
      ],
      "metadata": {
        "id": "pvgAq8-lY65p"
      },
      "execution_count": 15,
      "outputs": []
    },
    {
      "cell_type": "code",
      "source": [
        "# 모델 생성\n",
        "lenet5 = LeNet5(10).to(device)\n",
        "lenet5"
      ],
      "metadata": {
        "colab": {
          "base_uri": "https://localhost:8080/"
        },
        "id": "F2hAVMudezcf",
        "outputId": "53a669f2-fcc1-4ae6-fe32-a36212115d66"
      },
      "execution_count": 16,
      "outputs": [
        {
          "output_type": "execute_result",
          "data": {
            "text/plain": [
              "LeNet5(\n",
              "  (backbone): Sequential(\n",
              "    (0): Conv2d(1, 6, kernel_size=(5, 5), stride=(1, 1))\n",
              "    (1): Tanh()\n",
              "    (2): MaxPool2d(kernel_size=(2, 2), stride=(2, 2), padding=0, dilation=1, ceil_mode=False)\n",
              "    (3): Conv2d(6, 16, kernel_size=(5, 5), stride=(1, 1))\n",
              "    (4): Tanh()\n",
              "    (5): MaxPool2d(kernel_size=(2, 2), stride=(2, 2), padding=0, dilation=1, ceil_mode=False)\n",
              "    (6): Conv2d(16, 120, kernel_size=(5, 5), stride=(1, 1))\n",
              "    (7): Tanh()\n",
              "  )\n",
              "  (classifier): Sequential(\n",
              "    (0): Linear(in_features=120, out_features=84, bias=True)\n",
              "    (1): Tanh()\n",
              "    (2): Linear(in_features=84, out_features=10, bias=True)\n",
              "  )\n",
              ")"
            ]
          },
          "metadata": {},
          "execution_count": 16
        }
      ]
    },
    {
      "cell_type": "code",
      "source": [
        "# 커스텀 모델 정의\n",
        "class MyModel(nn.Module):\n",
        "  # 모델 구조 선언\n",
        "  def __init__(self, num_classes):\n",
        "    super().__init__()\n",
        "\n",
        "    # 첫번째 블록\n",
        "    self.conv1_1 = nn.Conv2d(in_channels=1, out_channels=32, kernel_size=(3, 3), stride=(1, 1), padding=0, padding_mode='zeros') # MNIST\n",
        "    # self.conv1_1 = nn.Conv2d(in_channels=3, out_channels=32, kernel_size=(3, 3), stride=(1, 1), padding=0, padding_mode='zeros') # Cifar-10\n",
        "    self.conv1_2 = nn.Conv2d(in_channels=32, out_channels=32, kernel_size=(3, 3), stride=(1, 1), padding=0, padding_mode='zeros')\n",
        "    self.pool1 = nn.MaxPool2d(kernel_size=(2, 2), stride=(2, 2), padding=0)\n",
        "\n",
        "    # 두번째 블록\n",
        "    self.conv2_1 = nn.Conv2d(in_channels=32, out_channels=64, kernel_size=(3, 3), stride=(1, 1), padding=0, padding_mode='zeros')\n",
        "    self.conv2_2 = nn.Conv2d(in_channels=64, out_channels=64, kernel_size=(3, 3), stride=(1, 1), padding=0, padding_mode='zeros')\n",
        "    self.pool2 = nn.MaxPool2d(kernel_size=(2, 2), stride=(2, 2), padding=0)\n",
        "\n",
        "    # 분류기\n",
        "    self.classifier = nn.Linear(in_features=1024, out_features=num_classes) # MNIST\n",
        "    # self.classifier = nn.Linear(in_features=1600, out_features=num_classes) # Cifar-10\n",
        "\n",
        "  # 순전파\n",
        "  def forward(self, image):\n",
        "    # 첫번째 블록\n",
        "    f1 = nn.ReLU()(self.conv1_1(image))\n",
        "    f1 = nn.ReLU()(self.conv1_2(f1))\n",
        "    f1 = self.pool1(f1)\n",
        "\n",
        "    # 두번째 블록\n",
        "    f2 = nn.ReLU()(self.conv2_1(f1))\n",
        "    f2 = nn.ReLU()(self.conv2_2(f2))\n",
        "    f2 = self.pool2(f2)\n",
        "\n",
        "    # Flatten\n",
        "    f2 = f2.view(f2.shape[0], -1)\n",
        "\n",
        "    # 분류기\n",
        "    pred = nn.Sigmoid()(self.classifier(f2))\n",
        "\n",
        "    return pred"
      ],
      "metadata": {
        "id": "n9-zlOCpThBu"
      },
      "execution_count": 17,
      "outputs": []
    },
    {
      "cell_type": "code",
      "source": [
        "# 모델 생성\n",
        "mymodel = MyModel(num_classes=10).to(device)\n",
        "mymodel"
      ],
      "metadata": {
        "colab": {
          "base_uri": "https://localhost:8080/"
        },
        "id": "1jlp2S2JWbsL",
        "outputId": "fb4b560a-340b-45a5-e634-6f56b1459a25"
      },
      "execution_count": 18,
      "outputs": [
        {
          "output_type": "execute_result",
          "data": {
            "text/plain": [
              "MyModel(\n",
              "  (conv1_1): Conv2d(1, 32, kernel_size=(3, 3), stride=(1, 1))\n",
              "  (conv1_2): Conv2d(32, 32, kernel_size=(3, 3), stride=(1, 1))\n",
              "  (pool1): MaxPool2d(kernel_size=(2, 2), stride=(2, 2), padding=0, dilation=1, ceil_mode=False)\n",
              "  (conv2_1): Conv2d(32, 64, kernel_size=(3, 3), stride=(1, 1))\n",
              "  (conv2_2): Conv2d(64, 64, kernel_size=(3, 3), stride=(1, 1))\n",
              "  (pool2): MaxPool2d(kernel_size=(2, 2), stride=(2, 2), padding=0, dilation=1, ceil_mode=False)\n",
              "  (classifier): Linear(in_features=1024, out_features=10, bias=True)\n",
              ")"
            ]
          },
          "metadata": {},
          "execution_count": 18
        }
      ]
    },
    {
      "cell_type": "code",
      "source": [
        "model = mymodel\n",
        "# model = lenet5"
      ],
      "metadata": {
        "id": "QwZdmwrUsr3n"
      },
      "execution_count": 19,
      "outputs": []
    },
    {
      "cell_type": "markdown",
      "source": [
        "# Optimizer, Loss Function 구성 - #5"
      ],
      "metadata": {
        "id": "iIs-pCIXm_qD"
      }
    },
    {
      "cell_type": "code",
      "source": [
        "# 학습률 설정\n",
        "learning_rate = 0.1\n",
        "\n",
        "# SGD\n",
        "optimizer = optim.SGD(model.parameters(), lr=learning_rate)\n",
        "\n",
        "# Momentum\n",
        "# optimizer = optim.SGD(model.parameters(), lr=learning_rate, momentum=0.9)\n",
        "\n",
        "# RMSprop\n",
        "# optimizer = optim.RMSprop(model.parameters(), lr=learning_rate, alpha=0.99)\n",
        "\n",
        "# Adam\n",
        "# optimizer = optim.Adam(model.parameters(), lr=learning_rate, betas=(0.9, 0.999))"
      ],
      "metadata": {
        "id": "NKLeS5Yre5xG"
      },
      "execution_count": 20,
      "outputs": []
    },
    {
      "cell_type": "code",
      "source": [
        "# Cross Entropy Loss\n",
        "criterion = nn.CrossEntropyLoss().to(device)"
      ],
      "metadata": {
        "id": "F0CUs8bjkz51"
      },
      "execution_count": 21,
      "outputs": []
    },
    {
      "cell_type": "code",
      "source": [
        "# 텐서보드 기록자 생성\n",
        "writer = SummaryWriter(f'log/mymodel')"
      ],
      "metadata": {
        "id": "O63IJoJp-8Uo"
      },
      "execution_count": 22,
      "outputs": []
    },
    {
      "cell_type": "markdown",
      "source": [
        "# 학습 - #6"
      ],
      "metadata": {
        "id": "h7sVbtuinTNt"
      }
    },
    {
      "cell_type": "code",
      "source": [
        "# 에폭 설정\n",
        "Epoch = 10\n",
        "\n",
        "# 저장 위치 설정\n",
        "ckpt_path = './checkpoint'\n",
        "if not os.path.exists(ckpt_path):\n",
        "  os.makedirs(ckpt_path)\n",
        "\n",
        "# 최소 loss\n",
        "best_loss = 9999\n",
        "\n",
        "# 모델 학습 모드\n",
        "model.train()\n",
        "\n",
        "# 에폭만큼 반복\n",
        "for epoch in range(Epoch):\n",
        "  print(f'Epoch {epoch}:')\n",
        "  train_loss = 0\n",
        "  \n",
        "  ###### 모델 학습 ######\n",
        "  print(f'Training model...')\n",
        "  # dataloader를 통한 데이터 불러오기\n",
        "  for image, label in tqdm(train_loader):\n",
        "    # 데이터 연산 위치 지정 (GPU or CPU)\n",
        "    image = image.to(device)\n",
        "    label = label.to(device)\n",
        "\n",
        "    # 모델에 입력 (순전파)\n",
        "    pred = model(image)\n",
        "    \n",
        "    # Loss 계산\n",
        "    loss = criterion(pred, label)\n",
        "\n",
        "    # 역전파\n",
        "    optimizer.zero_grad()\n",
        "    loss.backward()\n",
        "    optimizer.step()\n",
        "\n",
        "    # 최종 loss 누적\n",
        "    train_loss += loss.detach().cpu().numpy()\n",
        "\n",
        "  # 학습 loss 기록\n",
        "  train_loss /= len(train_loader)\n",
        "  writer.add_scalar(\"train_loss\", train_loss, epoch)\n",
        "  print(f'Train Loss: {train_loss}\\n')\n",
        "\n",
        "  ###### 모델 평가 ######\n",
        "  print(f'Validating model...')\n",
        "  accuracy = 0\n",
        "  valid_loss = 0\n",
        "\n",
        "  # 모델 평가 모드\n",
        "  model.eval()\n",
        "\n",
        "  # gradient 계산 차단\n",
        "  with torch.no_grad():\n",
        "    # Dataloader로 데이터 불러오기\n",
        "    for image, label in tqdm(valid_loader):\n",
        "      # 데이터 연산 위치 지정 (GPU or CPU)\n",
        "      image = image.to(device)\n",
        "      label = label.to(device)\n",
        "\n",
        "      # 모델에 입력 (순전파)\n",
        "      pred = model(image)\n",
        "\n",
        "      # Loss 계산\n",
        "      loss = criterion(pred, label)\n",
        "      \n",
        "      # 최종 loss 누적\n",
        "      valid_loss += loss.detach().cpu().numpy()\n",
        "\n",
        "      # 정답 개수 누적\n",
        "      corr = (pred.argmax(axis=1) == label).sum()\n",
        "      accuracy += corr.detach().cpu().numpy()\n",
        "\n",
        "  # 평가 loss 기록\n",
        "  valid_loss /= len(valid_loader)\n",
        "  writer.add_scalar(\"valid_loss\", valid_loss, epoch)\n",
        "  print(f'Valid Loss: {valid_loss}')\n",
        "\n",
        "  # 정확도 계산\n",
        "  accuracy /= len(valid_data)\n",
        "  print(f'Accuracy: {100*accuracy}%\\n')\n",
        "\n",
        "  # 최소 loss가 갱신되면 모델 저장\n",
        "  if best_loss > valid_loss:\n",
        "    print('Saving model...\\n')\n",
        "    best_loss = valid_loss\n",
        "    torch.save(model.state_dict(), os.path.join(ckpt_path, 'model.ckpt'))"
      ],
      "metadata": {
        "id": "0zS7ZBVTnNg0",
        "colab": {
          "base_uri": "https://localhost:8080/"
        },
        "outputId": "6b9995ef-3408-4500-da73-66c989fdf958"
      },
      "execution_count": 23,
      "outputs": [
        {
          "output_type": "stream",
          "name": "stdout",
          "text": [
            "Epoch 0:\n",
            "Training model...\n"
          ]
        },
        {
          "output_type": "stream",
          "name": "stderr",
          "text": [
            "100%|██████████| 391/391 [00:10<00:00, 36.81it/s] \n"
          ]
        },
        {
          "output_type": "stream",
          "name": "stdout",
          "text": [
            "Train Loss: 1.89322486466459\n",
            "\n",
            "Validating model...\n"
          ]
        },
        {
          "output_type": "stream",
          "name": "stderr",
          "text": [
            "100%|██████████| 79/79 [00:00<00:00, 197.49it/s]\n"
          ]
        },
        {
          "output_type": "stream",
          "name": "stdout",
          "text": [
            "Valid Loss: 1.5585035357294204\n",
            "Accuracy: 89.01%\n",
            "\n",
            "Saving model...\n",
            "\n",
            "Epoch 1:\n",
            "Training model...\n"
          ]
        },
        {
          "output_type": "stream",
          "name": "stderr",
          "text": [
            "100%|██████████| 391/391 [00:03<00:00, 117.63it/s]\n"
          ]
        },
        {
          "output_type": "stream",
          "name": "stdout",
          "text": [
            "Train Loss: 1.5374645186812066\n",
            "\n",
            "Validating model...\n"
          ]
        },
        {
          "output_type": "stream",
          "name": "stderr",
          "text": [
            "100%|██████████| 79/79 [00:00<00:00, 192.88it/s]\n"
          ]
        },
        {
          "output_type": "stream",
          "name": "stdout",
          "text": [
            "Valid Loss: 1.515622599215447\n",
            "Accuracy: 95.19%\n",
            "\n",
            "Saving model...\n",
            "\n",
            "Epoch 2:\n",
            "Training model...\n"
          ]
        },
        {
          "output_type": "stream",
          "name": "stderr",
          "text": [
            "100%|██████████| 391/391 [00:03<00:00, 108.74it/s]\n"
          ]
        },
        {
          "output_type": "stream",
          "name": "stdout",
          "text": [
            "Train Loss: 1.5108511810717375\n",
            "\n",
            "Validating model...\n"
          ]
        },
        {
          "output_type": "stream",
          "name": "stderr",
          "text": [
            "100%|██████████| 79/79 [00:00<00:00, 139.33it/s]\n"
          ]
        },
        {
          "output_type": "stream",
          "name": "stdout",
          "text": [
            "Valid Loss: 1.5026157309737387\n",
            "Accuracy: 96.31%\n",
            "\n",
            "Saving model...\n",
            "\n",
            "Epoch 3:\n",
            "Training model...\n"
          ]
        },
        {
          "output_type": "stream",
          "name": "stderr",
          "text": [
            "100%|██████████| 391/391 [00:03<00:00, 117.33it/s]\n"
          ]
        },
        {
          "output_type": "stream",
          "name": "stdout",
          "text": [
            "Train Loss: 1.5018464961015354\n",
            "\n",
            "Validating model...\n"
          ]
        },
        {
          "output_type": "stream",
          "name": "stderr",
          "text": [
            "100%|██████████| 79/79 [00:00<00:00, 185.15it/s]\n"
          ]
        },
        {
          "output_type": "stream",
          "name": "stdout",
          "text": [
            "Valid Loss: 1.499074113519886\n",
            "Accuracy: 96.53%\n",
            "\n",
            "Saving model...\n",
            "\n",
            "Epoch 4:\n",
            "Training model...\n"
          ]
        },
        {
          "output_type": "stream",
          "name": "stderr",
          "text": [
            "100%|██████████| 391/391 [00:03<00:00, 116.96it/s]\n"
          ]
        },
        {
          "output_type": "stream",
          "name": "stdout",
          "text": [
            "Train Loss: 1.4972165652248255\n",
            "\n",
            "Validating model...\n"
          ]
        },
        {
          "output_type": "stream",
          "name": "stderr",
          "text": [
            "100%|██████████| 79/79 [00:00<00:00, 184.10it/s]\n"
          ]
        },
        {
          "output_type": "stream",
          "name": "stdout",
          "text": [
            "Valid Loss: 1.4929869265495976\n",
            "Accuracy: 97.03%\n",
            "\n",
            "Saving model...\n",
            "\n",
            "Epoch 5:\n",
            "Training model...\n"
          ]
        },
        {
          "output_type": "stream",
          "name": "stderr",
          "text": [
            "100%|██████████| 391/391 [00:03<00:00, 111.09it/s]\n"
          ]
        },
        {
          "output_type": "stream",
          "name": "stdout",
          "text": [
            "Train Loss: 1.4939631299899363\n",
            "\n",
            "Validating model...\n"
          ]
        },
        {
          "output_type": "stream",
          "name": "stderr",
          "text": [
            "100%|██████████| 79/79 [00:00<00:00, 137.13it/s]\n"
          ]
        },
        {
          "output_type": "stream",
          "name": "stdout",
          "text": [
            "Valid Loss: 1.4957298809968973\n",
            "Accuracy: 96.65%\n",
            "\n",
            "Epoch 6:\n",
            "Training model...\n"
          ]
        },
        {
          "output_type": "stream",
          "name": "stderr",
          "text": [
            "100%|██████████| 391/391 [00:03<00:00, 112.24it/s]\n"
          ]
        },
        {
          "output_type": "stream",
          "name": "stdout",
          "text": [
            "Train Loss: 1.4910374017017882\n",
            "\n",
            "Validating model...\n"
          ]
        },
        {
          "output_type": "stream",
          "name": "stderr",
          "text": [
            "100%|██████████| 79/79 [00:00<00:00, 192.99it/s]\n"
          ]
        },
        {
          "output_type": "stream",
          "name": "stdout",
          "text": [
            "Valid Loss: 1.492819140229044\n",
            "Accuracy: 96.97%\n",
            "\n",
            "Saving model...\n",
            "\n",
            "Epoch 7:\n",
            "Training model...\n"
          ]
        },
        {
          "output_type": "stream",
          "name": "stderr",
          "text": [
            "100%|██████████| 391/391 [00:03<00:00, 116.70it/s]\n"
          ]
        },
        {
          "output_type": "stream",
          "name": "stdout",
          "text": [
            "Train Loss: 1.4885118742428167\n",
            "\n",
            "Validating model...\n"
          ]
        },
        {
          "output_type": "stream",
          "name": "stderr",
          "text": [
            "100%|██████████| 79/79 [00:00<00:00, 195.31it/s]\n"
          ]
        },
        {
          "output_type": "stream",
          "name": "stdout",
          "text": [
            "Valid Loss: 1.488061530680596\n",
            "Accuracy: 97.61%\n",
            "\n",
            "Saving model...\n",
            "\n",
            "Epoch 8:\n",
            "Training model...\n"
          ]
        },
        {
          "output_type": "stream",
          "name": "stderr",
          "text": [
            "100%|██████████| 391/391 [00:03<00:00, 113.50it/s]\n"
          ]
        },
        {
          "output_type": "stream",
          "name": "stdout",
          "text": [
            "Train Loss: 1.4865578278861082\n",
            "\n",
            "Validating model...\n"
          ]
        },
        {
          "output_type": "stream",
          "name": "stderr",
          "text": [
            "100%|██████████| 79/79 [00:00<00:00, 141.35it/s]\n"
          ]
        },
        {
          "output_type": "stream",
          "name": "stdout",
          "text": [
            "Valid Loss: 1.4900285578981232\n",
            "Accuracy: 97.28%\n",
            "\n",
            "Epoch 9:\n",
            "Training model...\n"
          ]
        },
        {
          "output_type": "stream",
          "name": "stderr",
          "text": [
            "100%|██████████| 391/391 [00:03<00:00, 110.80it/s]\n"
          ]
        },
        {
          "output_type": "stream",
          "name": "stdout",
          "text": [
            "Train Loss: 1.4848298181963089\n",
            "\n",
            "Validating model...\n"
          ]
        },
        {
          "output_type": "stream",
          "name": "stderr",
          "text": [
            "100%|██████████| 79/79 [00:00<00:00, 193.89it/s]"
          ]
        },
        {
          "output_type": "stream",
          "name": "stdout",
          "text": [
            "Valid Loss: 1.4886847734451294\n",
            "Accuracy: 97.42%\n",
            "\n"
          ]
        },
        {
          "output_type": "stream",
          "name": "stderr",
          "text": [
            "\n"
          ]
        }
      ]
    },
    {
      "cell_type": "code",
      "source": [
        "%load_ext tensorboard\n",
        "%tensorboard --logdir log"
      ],
      "metadata": {
        "colab": {
          "base_uri": "https://localhost:8080/",
          "height": 17
        },
        "id": "sm-PEDHZ9vL7",
        "outputId": "3e39d1dc-1760-4c1a-ddfa-d5b003265e51"
      },
      "execution_count": 24,
      "outputs": [
        {
          "output_type": "display_data",
          "data": {
            "text/plain": [
              "<IPython.core.display.Javascript object>"
            ],
            "application/javascript": [
              "\n",
              "        (async () => {\n",
              "            const url = new URL(await google.colab.kernel.proxyPort(6006, {'cache': true}));\n",
              "            url.searchParams.set('tensorboardColab', 'true');\n",
              "            const iframe = document.createElement('iframe');\n",
              "            iframe.src = url;\n",
              "            iframe.setAttribute('width', '100%');\n",
              "            iframe.setAttribute('height', '800');\n",
              "            iframe.setAttribute('frameborder', 0);\n",
              "            document.body.appendChild(iframe);\n",
              "        })();\n",
              "    "
            ]
          },
          "metadata": {}
        }
      ]
    },
    {
      "cell_type": "markdown",
      "source": [
        "# 시험 - #7"
      ],
      "metadata": {
        "id": "fXRidikvtkpv"
      }
    },
    {
      "cell_type": "code",
      "source": [
        "# 모델 위치 지정\n",
        "path = './checkpoint/model.ckpt'\n",
        "\n",
        "# 모델 가중치 불러오기\n",
        "model.load_state_dict(torch.load(path))\n",
        "\n",
        "# 정확도\n",
        "accuracy = 0\n",
        "\n",
        "# 모델 평가 모드\n",
        "model.eval()\n",
        "\n",
        "# gradient 계산 차단\n",
        "with torch.no_grad():\n",
        "  # Dataloader로 데이터 불러오기\n",
        "  for image, label in test_loader:\n",
        "    # 데이터 연산 위치 지정 (GPU or CPU)\n",
        "    image = image.to(device)\n",
        "    label = label.to(device)\n",
        "\n",
        "    # 모델에 입력 (순전파)\n",
        "    pred = model(image)\n",
        "\n",
        "    # 정답 개수 누적\n",
        "    corr = (pred.argmax(axis=1) == label).sum()\n",
        "    accuracy += corr.detach().cpu().numpy()\n",
        "\n",
        "# 정확도 계산\n",
        "accuracy /= len(test_set)\n",
        "print(f'Accuracy: {100*accuracy}%')"
      ],
      "metadata": {
        "id": "hitQCGpEtjrK",
        "colab": {
          "base_uri": "https://localhost:8080/"
        },
        "outputId": "4f61cbb4-689b-47b0-85b2-0b3614aef348"
      },
      "execution_count": 25,
      "outputs": [
        {
          "output_type": "stream",
          "name": "stdout",
          "text": [
            "Accuracy: 97.69%\n"
          ]
        }
      ]
    },
    {
      "cell_type": "markdown",
      "source": [
        "# 계층별 Feature 확인 - #8"
      ],
      "metadata": {
        "id": "gsmOqFLtGDWY"
      }
    },
    {
      "cell_type": "code",
      "source": [
        "# 계층별 feature 출력 함수\n",
        "def visualize_feature(image):\n",
        "  # 계층별 feature\n",
        "  f1 = model.conv1_1(image)\n",
        "  f2 = model.conv1_2(nn.ReLU()(f1))\n",
        "  f3 = model.pool1(f2)\n",
        "  f4 = model.conv2_1(f3)\n",
        "  f5 = model.conv2_2(nn.ReLU()(f4))\n",
        "  f6 = model.pool1(f5)\n",
        "\n",
        "  # image 출력\n",
        "  plt.figure(figsize=(3, 3))\n",
        "  plt.subplot(1, 1, 1), plt.title('image'), plt.imshow(image.squeeze().detach().cpu().numpy(), cmap='gray')\n",
        "  plt.show()\n",
        "\n",
        "  # f1 feature 출력\n",
        "  print('====== feature 1 ======')\n",
        "  print(f'f1 shape: {f1.shape}')\n",
        "  plt.figure(figsize=(20, 3))\n",
        "  for i in range(32):\n",
        "      plt.subplot(2, 16, i+1), plt.imshow(f1[i].squeeze().detach().cpu().numpy(), cmap='gray'), plt.xticks([]), plt.yticks([])\n",
        "  plt.show()\n",
        "\n",
        "  # f1 feature 출력\n",
        "  print('====== feature 3 ======')\n",
        "  print(f'f3 shape: {f3.shape}')\n",
        "  plt.figure(figsize=(20, 3))\n",
        "  for i in range(32):\n",
        "      plt.subplot(2, 16, i+1), plt.imshow(f3[i].squeeze().detach().cpu().numpy(), cmap='gray'), plt.xticks([]), plt.yticks([])\n",
        "  plt.show()\n",
        "\n",
        "  # f1 feature 출력\n",
        "  print('====== feature 6 ======')\n",
        "  print(f'f6 shape: {f6.shape}')\n",
        "  plt.figure(figsize=(20, 5))\n",
        "  for i in range(64):\n",
        "      plt.subplot(4, 16, i+1), plt.imshow(f6[i].squeeze().detach().cpu().numpy(), cmap='gray'), plt.xticks([]), plt.yticks([])\n",
        "  plt.show()"
      ],
      "metadata": {
        "id": "IQV_fj9sDesZ"
      },
      "execution_count": 26,
      "outputs": []
    },
    {
      "cell_type": "code",
      "source": [
        "image = test_set.data[1].unsqueeze(0).type(torch.FloatTensor).to(device)\n",
        "visualize_feature(image)"
      ],
      "metadata": {
        "colab": {
          "base_uri": "https://localhost:8080/",
          "height": 956
        },
        "id": "dhYfjqG-FYmi",
        "outputId": "57622f9e-d1d2-4545-bfbf-87cb923b6051"
      },
      "execution_count": 27,
      "outputs": [
        {
          "output_type": "display_data",
          "data": {
            "text/plain": [
              "<Figure size 216x216 with 1 Axes>"
            ],
            "image/png": "[encoded data removed]"
          },
          "metadata": {
            "needs_background": "light"
          }
        },
        {
          "output_type": "stream",
          "name": "stdout",
          "text": [
            "====== feature 1 ======\n",
            "f1 shape: torch.Size([32, 26, 26])\n"
          ]
        },
        {
          "output_type": "display_data",
          "data": {
            "text/plain": [
              "<Figure size 1440x216 with 32 Axes>"
            ],
            "image/png": "[encoded data removed]"
          },
          "metadata": {}
        },
        {
          "output_type": "stream",
          "name": "stdout",
          "text": [
            "====== feature 3 ======\n",
            "f3 shape: torch.Size([32, 12, 12])\n"
          ]
        },
        {
          "output_type": "display_data",
          "data": {
            "text/plain": [
              "<Figure size 1440x216 with 32 Axes>"
            ],
            "image/png": "[encoded data removed]"
          },
          "metadata": {}
        },
        {
          "output_type": "stream",
          "name": "stdout",
          "text": [
            "====== feature 6 ======\n",
            "f6 shape: torch.Size([64, 4, 4])\n"
          ]
        },
        {
          "output_type": "display_data",
          "data": {
            "text/plain": [
              "<Figure size 1440x360 with 64 Axes>"
            ],
            "image/png": "[encoded data removed]"
          },
          "metadata": {}
        }
      ]
    },
    {
      "cell_type": "code",
      "source": [],
      "metadata": {
        "id": "Vb19F8SRaacd"
      },
      "execution_count": null,
      "outputs": []
    }
  ]
}